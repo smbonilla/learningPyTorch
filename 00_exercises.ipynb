{
  "nbformat": 4,
  "nbformat_minor": 0,
  "metadata": {
    "colab": {
      "provenance": [],
      "authorship_tag": "ABX9TyMYjzwiLXyRrEnSsjaJ7mHb",
      "include_colab_link": true
    },
    "kernelspec": {
      "name": "python3",
      "display_name": "Python 3"
    },
    "language_info": {
      "name": "python"
    },
    "accelerator": "GPU",
    "gpuClass": "standard"
  },
  "cells": [
    {
      "cell_type": "markdown",
      "metadata": {
        "id": "view-in-github",
        "colab_type": "text"
      },
      "source": [
        "<a href=\"https://colab.research.google.com/github/smbonilla/learningPyTorch/blob/main/00_exercises.ipynb\" target=\"_parent\"><img src=\"https://colab.research.google.com/assets/colab-badge.svg\" alt=\"Open In Colab\"/></a>"
      ]
    },
    {
      "cell_type": "markdown",
      "source": [
        "### Exercises from PyTorch Fundamentals Section \n",
        "\n",
        "Link to notes: https://colab.research.google.com/drive/1wY_oAQKa2S9vAOfHfFjI7yq5XqE8nFsW#scrollTo=DxI_L_ibWHkh"
      ],
      "metadata": {
        "id": "7B9Fud7QXodR"
      }
    },
    {
      "cell_type": "code",
      "source": [
        "# Ex 1. documentation reading \n",
        "import torch"
      ],
      "metadata": {
        "id": "r1PvpcoiXzuc"
      },
      "execution_count": null,
      "outputs": []
    },
    {
      "cell_type": "code",
      "source": [
        "# Ex. 2 \n",
        "x = torch.rand(7,7)"
      ],
      "metadata": {
        "id": "5hAV_tjxYZTO"
      },
      "execution_count": null,
      "outputs": []
    },
    {
      "cell_type": "code",
      "source": [
        "# Ex. 3\n",
        "y = torch.rand(1,7)\n",
        "\n",
        "torch.mm(x,y.T)"
      ],
      "metadata": {
        "colab": {
          "base_uri": "https://localhost:8080/"
        },
        "id": "P735oGfcYequ",
        "outputId": "d5b82e2e-e3cb-4888-9f70-b3d4a9170dab"
      },
      "execution_count": null,
      "outputs": [
        {
          "output_type": "execute_result",
          "data": {
            "text/plain": [
              "tensor([[1.1585],\n",
              "        [2.0847],\n",
              "        [1.3898],\n",
              "        [1.3054],\n",
              "        [1.8982],\n",
              "        [1.6427],\n",
              "        [1.8096]])"
            ]
          },
          "metadata": {},
          "execution_count": 3
        }
      ]
    },
    {
      "cell_type": "code",
      "source": [
        "# Ex. 4 \n",
        "\n",
        "RANDOM_SEED = 42\n",
        "\n",
        "torch.manual_seed(RANDOM_SEED)\n",
        "x = torch.rand(7,7)\n",
        "\n",
        "torch.manual_seed(RANDOM_SEED)\n",
        "y = torch.rand(1,7)\n",
        "\n",
        "torch.mm(x, y.T)"
      ],
      "metadata": {
        "colab": {
          "base_uri": "https://localhost:8080/"
        },
        "id": "FHGHsgYiYnNg",
        "outputId": "2f23a49c-62a4-42f3-eb5b-015c9e5dd26f"
      },
      "execution_count": null,
      "outputs": [
        {
          "output_type": "execute_result",
          "data": {
            "text/plain": [
              "tensor([[3.2618],\n",
              "        [3.4084],\n",
              "        [2.4866],\n",
              "        [1.4525],\n",
              "        [1.7079],\n",
              "        [2.7291],\n",
              "        [2.9204]])"
            ]
          },
          "metadata": {},
          "execution_count": 4
        }
      ]
    },
    {
      "cell_type": "code",
      "source": [
        "# Ex. 5 \n",
        "\n",
        "GPU_SEED = 1234\n",
        "\n",
        "torch.cuda.manual_seed(GPU_SEED)"
      ],
      "metadata": {
        "id": "lVgIsC-0Y9mx"
      },
      "execution_count": null,
      "outputs": []
    },
    {
      "cell_type": "code",
      "source": [
        "# Ex. 6\n",
        "\n",
        "device = \"cuda\" if torch.cuda.is_available() else \"cpu\"\n",
        "\n",
        "torch.manual_seed(GPU_SEED)\n",
        "x = torch.rand(2,3)\n",
        "xGPU = x.to(device)\n",
        "\n",
        "torch.manual_seed(GPU_SEED)\n",
        "y = torch.rand(2,3)\n",
        "yGPU = y.to(device)\n",
        "\n",
        "print(xGPU.device, yGPU.device)"
      ],
      "metadata": {
        "colab": {
          "base_uri": "https://localhost:8080/"
        },
        "id": "hgeCZczKZLX7",
        "outputId": "50686cf5-eedb-4931-dd48-7564dee04006"
      },
      "execution_count": null,
      "outputs": [
        {
          "output_type": "stream",
          "name": "stdout",
          "text": [
            "cuda:0 cuda:0\n"
          ]
        }
      ]
    },
    {
      "cell_type": "code",
      "source": [
        "# Ex. 7\n",
        "\n",
        "output = torch.mm(xGPU, yGPU.T)"
      ],
      "metadata": {
        "id": "y0uEq2MvaahN"
      },
      "execution_count": null,
      "outputs": []
    },
    {
      "cell_type": "code",
      "source": [
        "# Ex. 8\n",
        "\n",
        "output.max(), output.min()"
      ],
      "metadata": {
        "colab": {
          "base_uri": "https://localhost:8080/"
        },
        "id": "ZPUncqyHaygH",
        "outputId": "eaa0504f-02d2-4a2d-9fb1-fee288ed73b9"
      },
      "execution_count": null,
      "outputs": [
        {
          "output_type": "execute_result",
          "data": {
            "text/plain": [
              "(tensor(0.6287, device='cuda:0'), tensor(0.2161, device='cuda:0'))"
            ]
          },
          "metadata": {},
          "execution_count": 12
        }
      ]
    },
    {
      "cell_type": "code",
      "source": [
        "# Ex. 9 \n",
        "\n",
        "output.argmax(), output.argmin()"
      ],
      "metadata": {
        "colab": {
          "base_uri": "https://localhost:8080/"
        },
        "id": "Vz2gHFxxbAHT",
        "outputId": "b71afa63-7de8-4841-c35e-68f1f5f2543c"
      },
      "execution_count": null,
      "outputs": [
        {
          "output_type": "execute_result",
          "data": {
            "text/plain": [
              "(tensor(3, device='cuda:0'), tensor(1, device='cuda:0'))"
            ]
          },
          "metadata": {},
          "execution_count": 13
        }
      ]
    },
    {
      "cell_type": "code",
      "source": [
        "# Ex. 10\n",
        "\n",
        "torch.manual_seed(7)\n",
        "\n",
        "rand = torch.rand(1,1,1,10)\n",
        "\n",
        "randSqueezed = rand.squeeze()\n",
        "\n",
        "randSqueezed.shape"
      ],
      "metadata": {
        "colab": {
          "base_uri": "https://localhost:8080/"
        },
        "id": "RTjAaJegbAEV",
        "outputId": "5b39e8a3-c237-4452-f528-7a3a7f3c4c88"
      },
      "execution_count": null,
      "outputs": [
        {
          "output_type": "execute_result",
          "data": {
            "text/plain": [
              "torch.Size([10])"
            ]
          },
          "metadata": {},
          "execution_count": 18
        }
      ]
    }
  ]
}