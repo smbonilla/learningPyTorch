{
  "nbformat": 4,
  "nbformat_minor": 0,
  "metadata": {
    "colab": {
      "provenance": [],
      "authorship_tag": "ABX9TyM5kg2S7rLSmCtXUV30sDtd",
      "include_colab_link": true
    },
    "kernelspec": {
      "name": "python3",
      "display_name": "Python 3"
    },
    "language_info": {
      "name": "python"
    }
  },
  "cells": [
    {
      "cell_type": "markdown",
      "metadata": {
        "id": "view-in-github",
        "colab_type": "text"
      },
      "source": [
        "<a href=\"https://colab.research.google.com/github/smbonilla/learningPyTorch/blob/main/03_pyTorchComputerVision.ipynb\" target=\"_parent\"><img src=\"https://colab.research.google.com/assets/colab-badge.svg\" alt=\"Open In Colab\"/></a>"
      ]
    },
    {
      "cell_type": "markdown",
      "source": [
        "# PyTorch Computer Vision "
      ],
      "metadata": {
        "id": "G8tVyt-RFnw6"
      }
    },
    {
      "cell_type": "markdown",
      "source": [
        "## 0. Computer vision libraries \n",
        "\n",
        "* `torchvision` - base domain library\n",
        "* `torchvision.datasets` - get datasets and data loading function for compter vision\n",
        "* `torchvision.models` - get pretrained computer vision models\n",
        "* `torchvision.transforms` - functions for manipulating your vision data (images) to be suitable for use with ML model \n",
        "* `torch.utils.data.Dataset` - base dataset class for PyTorch\n",
        "* `torch.utils.data.DataLoader` - created a python iterable over a dataset"
      ],
      "metadata": {
        "id": "WoMh9o6GZakm"
      }
    },
    {
      "cell_type": "code",
      "source": [
        "# import packages\n",
        "import torch\n",
        "from torch import nn \n",
        "\n",
        "import torchvision \n",
        "from torchvision import datasets\n",
        "from torchvision import transforms\n",
        "from torchvision.transforms import ToTensor \n",
        "\n",
        "import matplotlib.pyplot as plt \n",
        "\n",
        "print(torchvision.__version__)\n"
      ],
      "metadata": {
        "colab": {
          "base_uri": "https://localhost:8080/"
        },
        "id": "AvfOM6OUZeHZ",
        "outputId": "820980a2-0c77-4cd8-cc78-6cb6ddf8b75c"
      },
      "execution_count": null,
      "outputs": [
        {
          "output_type": "stream",
          "name": "stdout",
          "text": [
            "0.13.1+cu113\n"
          ]
        }
      ]
    },
    {
      "cell_type": "markdown",
      "source": [
        "## 1. Getting a dataset\n",
        "\n",
        "the dataset we will be using: FashionMNIST from `torchvision.datasets`\n",
        "\n",
        "imagenet - an image database organized by nouns depicting millions of images"
      ],
      "metadata": {
        "id": "qwIFGR5la9IY"
      }
    },
    {
      "cell_type": "code",
      "source": [
        "# Setup training data\n",
        "trainData = datasets.FashionMNIST(root=\"data\", # where to download data to?\n",
        "                                   train=True, # do we want the training dataset?\n",
        "                                   download=True, # do we want to download\n",
        "                                   transform=ToTensor(), # how do we want to transform data\n",
        "                                   target_transform=None) # how do we want to transform labels/targets\n",
        "\n",
        "testData = datasets.FashionMNIST(root=\"data\",\n",
        "                                  train=False,\n",
        "                                  download=True,\n",
        "                                  transform=ToTensor(),\n",
        "                                  target_transform=None)"
      ],
      "metadata": {
        "id": "ERTVdGCbcPe7"
      },
      "execution_count": null,
      "outputs": []
    },
    {
      "cell_type": "code",
      "source": [
        "# see the first bit of data\n",
        "\n",
        "image, label = trainData[0]\n",
        "\n",
        "classNames = trainData.classes\n",
        "classNames"
      ],
      "metadata": {
        "colab": {
          "base_uri": "https://localhost:8080/"
        },
        "id": "P1GdNpKrdRPM",
        "outputId": "0410192a-b8cc-4d96-dfa9-5f2d309455af"
      },
      "execution_count": null,
      "outputs": [
        {
          "output_type": "execute_result",
          "data": {
            "text/plain": [
              "['T-shirt/top',\n",
              " 'Trouser',\n",
              " 'Pullover',\n",
              " 'Dress',\n",
              " 'Coat',\n",
              " 'Sandal',\n",
              " 'Shirt',\n",
              " 'Sneaker',\n",
              " 'Bag',\n",
              " 'Ankle boot']"
            ]
          },
          "metadata": {},
          "execution_count": 9
        }
      ]
    },
    {
      "cell_type": "code",
      "source": [
        "classToIDX = trainData.class_to_idx\n",
        "classToIDX"
      ],
      "metadata": {
        "colab": {
          "base_uri": "https://localhost:8080/"
        },
        "id": "UAINSKNedYW-",
        "outputId": "76ea7704-ddc6-4b29-c285-8553dfb25284"
      },
      "execution_count": null,
      "outputs": [
        {
          "output_type": "execute_result",
          "data": {
            "text/plain": [
              "{'T-shirt/top': 0,\n",
              " 'Trouser': 1,\n",
              " 'Pullover': 2,\n",
              " 'Dress': 3,\n",
              " 'Coat': 4,\n",
              " 'Sandal': 5,\n",
              " 'Shirt': 6,\n",
              " 'Sneaker': 7,\n",
              " 'Bag': 8,\n",
              " 'Ankle boot': 9}"
            ]
          },
          "metadata": {},
          "execution_count": 10
        }
      ]
    },
    {
      "cell_type": "code",
      "source": [
        "# Check the shape of our image\n",
        "print(f\"Image Shape: {image.shape}\") # color channel, height, width (only 1 cuz B/W)\n",
        "print(f\"Image Label: {classNames[label]}\") "
      ],
      "metadata": {
        "colab": {
          "base_uri": "https://localhost:8080/"
        },
        "id": "ieiB6X_3dYT2",
        "outputId": "35592c58-c045-4820-cfec-1827ab1d7a74"
      },
      "execution_count": null,
      "outputs": [
        {
          "output_type": "stream",
          "name": "stdout",
          "text": [
            "Image Shape: torch.Size([1, 28, 28])\n",
            "Image Label: Ankle boot\n"
          ]
        }
      ]
    },
    {
      "cell_type": "code",
      "source": [
        "# visualize our data\n",
        "image, label = trainData[0]\n",
        "\n",
        "print(f\"Image shape: {image.shape}\")\n",
        "\n",
        "# color channel needs to be last or gone\n",
        "plt.imshow(image.squeeze(), cmap=\"gray\");\n",
        "plt.title(classNames[label]);\n",
        "plt.axis(False);\n"
      ],
      "metadata": {
        "colab": {
          "base_uri": "https://localhost:8080/",
          "height": 281
        },
        "id": "Fx_OWwSldYQq",
        "outputId": "141b4f7f-fcd4-465e-8c03-11c5d25b8bcd"
      },
      "execution_count": null,
      "outputs": [
        {
          "output_type": "stream",
          "name": "stdout",
          "text": [
            "Image shape: torch.Size([1, 28, 28])\n"
          ]
        },
        {
          "output_type": "display_data",
          "data": {
            "text/plain": [
              "<Figure size 432x288 with 1 Axes>"
            ],
            "image/png": "[encoded data removed]"
          },
          "metadata": {
            "needs_background": "light"
          }
        }
      ]
    },
    {
      "cell_type": "code",
      "source": [
        "# plot more images\n",
        "torch.manual_seed(42)\n",
        "\n",
        "fig = plt.figure(figsize=(9,9))\n",
        "rows,cols = 4,4\n",
        "\n",
        "for i in range(1,rows*cols+1):\n",
        "  \n",
        "  randomIDX = torch.randint(0,len(trainData), size=[1]).item()\n",
        "  \n",
        "  image, label = trainData[randomIDX]\n",
        "\n",
        "  fig.add_subplot(rows,cols,i);\n",
        "  plt.imshow(image.squeeze(),cmap=\"gray\");\n",
        "  plt.title(classNames[label]);\n",
        "  plt.axis(False);"
      ],
      "metadata": {
        "colab": {
          "base_uri": "https://localhost:8080/",
          "height": 536
        },
        "id": "Dy5VZcUufzLu",
        "outputId": "52f543e4-1fca-46bd-eb42-5bc4797588c6"
      },
      "execution_count": null,
      "outputs": [
        {
          "output_type": "display_data",
          "data": {
            "text/plain": [
              "<Figure size 648x648 with 16 Axes>"
            ],
            "image/png": "[encoded data removed]"
          },
          "metadata": {
            "needs_background": "light"
          }
        }
      ]
    },
    {
      "cell_type": "code",
      "source": [],
      "metadata": {
        "id": "wvLPROg-gfKa"
      },
      "execution_count": null,
      "outputs": []
    }
  ]
}