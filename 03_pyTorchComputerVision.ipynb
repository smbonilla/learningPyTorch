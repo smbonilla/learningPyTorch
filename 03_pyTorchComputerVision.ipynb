{
  "nbformat": 4,
  "nbformat_minor": 0,
  "metadata": {
    "colab": {
      "provenance": [],
      "authorship_tag": "ABX9TyMxjoL/pRcJAoJH3q+Q0bHC",
      "include_colab_link": true
    },
    "kernelspec": {
      "name": "python3",
      "display_name": "Python 3"
    },
    "language_info": {
      "name": "python"
    },
    "gpuClass": "standard",
    "accelerator": "GPU",
    "widgets": {
      "application/vnd.jupyter.widget-state+json": {
        "8f35bc0981da4392be4aac7bc9f2f3ec": {
          "model_module": "@jupyter-widgets/controls",
          "model_name": "HBoxModel",
          "model_module_version": "1.5.0",
          "state": {
            "_dom_classes": [],
            "_model_module": "@jupyter-widgets/controls",
            "_model_module_version": "1.5.0",
            "_model_name": "HBoxModel",
            "_view_count": null,
            "_view_module": "@jupyter-widgets/controls",
            "_view_module_version": "1.5.0",
            "_view_name": "HBoxView",
            "box_style": "",
            "children": [
              "IPY_MODEL_9d2ef76e526449318c39cde252c65d6e",
              "IPY_MODEL_6ecb93cc3fe9479393cd354254799be7",
              "IPY_MODEL_d0789fc3da5a4786aded41083c64b4f9"
            ],
            "layout": "IPY_MODEL_33f00706d11b4337a56bf3a41568d1da"
          }
        },
        "9d2ef76e526449318c39cde252c65d6e": {
          "model_module": "@jupyter-widgets/controls",
          "model_name": "HTMLModel",
          "model_module_version": "1.5.0",
          "state": {
            "_dom_classes": [],
            "_model_module": "@jupyter-widgets/controls",
            "_model_module_version": "1.5.0",
            "_model_name": "HTMLModel",
            "_view_count": null,
            "_view_module": "@jupyter-widgets/controls",
            "_view_module_version": "1.5.0",
            "_view_name": "HTMLView",
            "description": "",
            "description_tooltip": null,
            "layout": "IPY_MODEL_15fc48d5b7be4c62a3c8e671cf043260",
            "placeholder": "​",
            "style": "IPY_MODEL_3eed08a3aa2d45f69f1db6ca91820d0a",
            "value": "100%"
          }
        },
        "6ecb93cc3fe9479393cd354254799be7": {
          "model_module": "@jupyter-widgets/controls",
          "model_name": "FloatProgressModel",
          "model_module_version": "1.5.0",
          "state": {
            "_dom_classes": [],
            "_model_module": "@jupyter-widgets/controls",
            "_model_module_version": "1.5.0",
            "_model_name": "FloatProgressModel",
            "_view_count": null,
            "_view_module": "@jupyter-widgets/controls",
            "_view_module_version": "1.5.0",
            "_view_name": "ProgressView",
            "bar_style": "success",
            "description": "",
            "description_tooltip": null,
            "layout": "IPY_MODEL_bbccfee32da043eaa6485e59723c2272",
            "max": 3,
            "min": 0,
            "orientation": "horizontal",
            "style": "IPY_MODEL_07ca67bfbbfe48a98bd95d7ce108589d",
            "value": 3
          }
        },
        "d0789fc3da5a4786aded41083c64b4f9": {
          "model_module": "@jupyter-widgets/controls",
          "model_name": "HTMLModel",
          "model_module_version": "1.5.0",
          "state": {
            "_dom_classes": [],
            "_model_module": "@jupyter-widgets/controls",
            "_model_module_version": "1.5.0",
            "_model_name": "HTMLModel",
            "_view_count": null,
            "_view_module": "@jupyter-widgets/controls",
            "_view_module_version": "1.5.0",
            "_view_name": "HTMLView",
            "description": "",
            "description_tooltip": null,
            "layout": "IPY_MODEL_a135a3c4e30d4da68efecf8fbbe6bda8",
            "placeholder": "​",
            "style": "IPY_MODEL_86936d8283ea43d7b3265c588b62346d",
            "value": " 3/3 [00:20&lt;00:00,  6.57s/it]"
          }
        },
        "33f00706d11b4337a56bf3a41568d1da": {
          "model_module": "@jupyter-widgets/base",
          "model_name": "LayoutModel",
          "model_module_version": "1.2.0",
          "state": {
            "_model_module": "@jupyter-widgets/base",
            "_model_module_version": "1.2.0",
            "_model_name": "LayoutModel",
            "_view_count": null,
            "_view_module": "@jupyter-widgets/base",
            "_view_module_version": "1.2.0",
            "_view_name": "LayoutView",
            "align_content": null,
            "align_items": null,
            "align_self": null,
            "border": null,
            "bottom": null,
            "display": null,
            "flex": null,
            "flex_flow": null,
            "grid_area": null,
            "grid_auto_columns": null,
            "grid_auto_flow": null,
            "grid_auto_rows": null,
            "grid_column": null,
            "grid_gap": null,
            "grid_row": null,
            "grid_template_areas": null,
            "grid_template_columns": null,
            "grid_template_rows": null,
            "height": null,
            "justify_content": null,
            "justify_items": null,
            "left": null,
            "margin": null,
            "max_height": null,
            "max_width": null,
            "min_height": null,
            "min_width": null,
            "object_fit": null,
            "object_position": null,
            "order": null,
            "overflow": null,
            "overflow_x": null,
            "overflow_y": null,
            "padding": null,
            "right": null,
            "top": null,
            "visibility": null,
            "width": null
          }
        },
        "15fc48d5b7be4c62a3c8e671cf043260": {
          "model_module": "@jupyter-widgets/base",
          "model_name": "LayoutModel",
          "model_module_version": "1.2.0",
          "state": {
            "_model_module": "@jupyter-widgets/base",
            "_model_module_version": "1.2.0",
            "_model_name": "LayoutModel",
            "_view_count": null,
            "_view_module": "@jupyter-widgets/base",
            "_view_module_version": "1.2.0",
            "_view_name": "LayoutView",
            "align_content": null,
            "align_items": null,
            "align_self": null,
            "border": null,
            "bottom": null,
            "display": null,
            "flex": null,
            "flex_flow": null,
            "grid_area": null,
            "grid_auto_columns": null,
            "grid_auto_flow": null,
            "grid_auto_rows": null,
            "grid_column": null,
            "grid_gap": null,
            "grid_row": null,
            "grid_template_areas": null,
            "grid_template_columns": null,
            "grid_template_rows": null,
            "height": null,
            "justify_content": null,
            "justify_items": null,
            "left": null,
            "margin": null,
            "max_height": null,
            "max_width": null,
            "min_height": null,
            "min_width": null,
            "object_fit": null,
            "object_position": null,
            "order": null,
            "overflow": null,
            "overflow_x": null,
            "overflow_y": null,
            "padding": null,
            "right": null,
            "top": null,
            "visibility": null,
            "width": null
          }
        },
        "3eed08a3aa2d45f69f1db6ca91820d0a": {
          "model_module": "@jupyter-widgets/controls",
          "model_name": "DescriptionStyleModel",
          "model_module_version": "1.5.0",
          "state": {
            "_model_module": "@jupyter-widgets/controls",
            "_model_module_version": "1.5.0",
            "_model_name": "DescriptionStyleModel",
            "_view_count": null,
            "_view_module": "@jupyter-widgets/base",
            "_view_module_version": "1.2.0",
            "_view_name": "StyleView",
            "description_width": ""
          }
        },
        "bbccfee32da043eaa6485e59723c2272": {
          "model_module": "@jupyter-widgets/base",
          "model_name": "LayoutModel",
          "model_module_version": "1.2.0",
          "state": {
            "_model_module": "@jupyter-widgets/base",
            "_model_module_version": "1.2.0",
            "_model_name": "LayoutModel",
            "_view_count": null,
            "_view_module": "@jupyter-widgets/base",
            "_view_module_version": "1.2.0",
            "_view_name": "LayoutView",
            "align_content": null,
            "align_items": null,
            "align_self": null,
            "border": null,
            "bottom": null,
            "display": null,
            "flex": null,
            "flex_flow": null,
            "grid_area": null,
            "grid_auto_columns": null,
            "grid_auto_flow": null,
            "grid_auto_rows": null,
            "grid_column": null,
            "grid_gap": null,
            "grid_row": null,
            "grid_template_areas": null,
            "grid_template_columns": null,
            "grid_template_rows": null,
            "height": null,
            "justify_content": null,
            "justify_items": null,
            "left": null,
            "margin": null,
            "max_height": null,
            "max_width": null,
            "min_height": null,
            "min_width": null,
            "object_fit": null,
            "object_position": null,
            "order": null,
            "overflow": null,
            "overflow_x": null,
            "overflow_y": null,
            "padding": null,
            "right": null,
            "top": null,
            "visibility": null,
            "width": null
          }
        },
        "07ca67bfbbfe48a98bd95d7ce108589d": {
          "model_module": "@jupyter-widgets/controls",
          "model_name": "ProgressStyleModel",
          "model_module_version": "1.5.0",
          "state": {
            "_model_module": "@jupyter-widgets/controls",
            "_model_module_version": "1.5.0",
            "_model_name": "ProgressStyleModel",
            "_view_count": null,
            "_view_module": "@jupyter-widgets/base",
            "_view_module_version": "1.2.0",
            "_view_name": "StyleView",
            "bar_color": null,
            "description_width": ""
          }
        },
        "a135a3c4e30d4da68efecf8fbbe6bda8": {
          "model_module": "@jupyter-widgets/base",
          "model_name": "LayoutModel",
          "model_module_version": "1.2.0",
          "state": {
            "_model_module": "@jupyter-widgets/base",
            "_model_module_version": "1.2.0",
            "_model_name": "LayoutModel",
            "_view_count": null,
            "_view_module": "@jupyter-widgets/base",
            "_view_module_version": "1.2.0",
            "_view_name": "LayoutView",
            "align_content": null,
            "align_items": null,
            "align_self": null,
            "border": null,
            "bottom": null,
            "display": null,
            "flex": null,
            "flex_flow": null,
            "grid_area": null,
            "grid_auto_columns": null,
            "grid_auto_flow": null,
            "grid_auto_rows": null,
            "grid_column": null,
            "grid_gap": null,
            "grid_row": null,
            "grid_template_areas": null,
            "grid_template_columns": null,
            "grid_template_rows": null,
            "height": null,
            "justify_content": null,
            "justify_items": null,
            "left": null,
            "margin": null,
            "max_height": null,
            "max_width": null,
            "min_height": null,
            "min_width": null,
            "object_fit": null,
            "object_position": null,
            "order": null,
            "overflow": null,
            "overflow_x": null,
            "overflow_y": null,
            "padding": null,
            "right": null,
            "top": null,
            "visibility": null,
            "width": null
          }
        },
        "86936d8283ea43d7b3265c588b62346d": {
          "model_module": "@jupyter-widgets/controls",
          "model_name": "DescriptionStyleModel",
          "model_module_version": "1.5.0",
          "state": {
            "_model_module": "@jupyter-widgets/controls",
            "_model_module_version": "1.5.0",
            "_model_name": "DescriptionStyleModel",
            "_view_count": null,
            "_view_module": "@jupyter-widgets/base",
            "_view_module_version": "1.2.0",
            "_view_name": "StyleView",
            "description_width": ""
          }
        },
        "fbb2388ef4c340f08fcba143406668ae": {
          "model_module": "@jupyter-widgets/controls",
          "model_name": "HBoxModel",
          "model_module_version": "1.5.0",
          "state": {
            "_dom_classes": [],
            "_model_module": "@jupyter-widgets/controls",
            "_model_module_version": "1.5.0",
            "_model_name": "HBoxModel",
            "_view_count": null,
            "_view_module": "@jupyter-widgets/controls",
            "_view_module_version": "1.5.0",
            "_view_name": "HBoxView",
            "box_style": "",
            "children": [
              "IPY_MODEL_bafe63fa012b4197a1979841ccbb632b",
              "IPY_MODEL_e66cf90e25344146ad3983d57eedfb34",
              "IPY_MODEL_cdef9a4e8f4e442494f942a7381b5004"
            ],
            "layout": "IPY_MODEL_a0c64922e8484446b92d7d8830a61038"
          }
        },
        "bafe63fa012b4197a1979841ccbb632b": {
          "model_module": "@jupyter-widgets/controls",
          "model_name": "HTMLModel",
          "model_module_version": "1.5.0",
          "state": {
            "_dom_classes": [],
            "_model_module": "@jupyter-widgets/controls",
            "_model_module_version": "1.5.0",
            "_model_name": "HTMLModel",
            "_view_count": null,
            "_view_module": "@jupyter-widgets/controls",
            "_view_module_version": "1.5.0",
            "_view_name": "HTMLView",
            "description": "",
            "description_tooltip": null,
            "layout": "IPY_MODEL_816677d93c3e43e78efb398714f9ace8",
            "placeholder": "​",
            "style": "IPY_MODEL_8c3ed78fbeb4451b85f301c4818e55de",
            "value": "100%"
          }
        },
        "e66cf90e25344146ad3983d57eedfb34": {
          "model_module": "@jupyter-widgets/controls",
          "model_name": "FloatProgressModel",
          "model_module_version": "1.5.0",
          "state": {
            "_dom_classes": [],
            "_model_module": "@jupyter-widgets/controls",
            "_model_module_version": "1.5.0",
            "_model_name": "FloatProgressModel",
            "_view_count": null,
            "_view_module": "@jupyter-widgets/controls",
            "_view_module_version": "1.5.0",
            "_view_name": "ProgressView",
            "bar_style": "success",
            "description": "",
            "description_tooltip": null,
            "layout": "IPY_MODEL_cef50d4432c2459c8698d30463b0093f",
            "max": 313,
            "min": 0,
            "orientation": "horizontal",
            "style": "IPY_MODEL_01460fbee1c549d3b5e00041d038188f",
            "value": 313
          }
        },
        "cdef9a4e8f4e442494f942a7381b5004": {
          "model_module": "@jupyter-widgets/controls",
          "model_name": "HTMLModel",
          "model_module_version": "1.5.0",
          "state": {
            "_dom_classes": [],
            "_model_module": "@jupyter-widgets/controls",
            "_model_module_version": "1.5.0",
            "_model_name": "HTMLModel",
            "_view_count": null,
            "_view_module": "@jupyter-widgets/controls",
            "_view_module_version": "1.5.0",
            "_view_name": "HTMLView",
            "description": "",
            "description_tooltip": null,
            "layout": "IPY_MODEL_eba702ac66db4593af3c4e8349c0ad90",
            "placeholder": "​",
            "style": "IPY_MODEL_652eac926fff466aa0abc3cc9793bd7e",
            "value": " 313/313 [00:00&lt;00:00, 373.54it/s]"
          }
        },
        "a0c64922e8484446b92d7d8830a61038": {
          "model_module": "@jupyter-widgets/base",
          "model_name": "LayoutModel",
          "model_module_version": "1.2.0",
          "state": {
            "_model_module": "@jupyter-widgets/base",
            "_model_module_version": "1.2.0",
            "_model_name": "LayoutModel",
            "_view_count": null,
            "_view_module": "@jupyter-widgets/base",
            "_view_module_version": "1.2.0",
            "_view_name": "LayoutView",
            "align_content": null,
            "align_items": null,
            "align_self": null,
            "border": null,
            "bottom": null,
            "display": null,
            "flex": null,
            "flex_flow": null,
            "grid_area": null,
            "grid_auto_columns": null,
            "grid_auto_flow": null,
            "grid_auto_rows": null,
            "grid_column": null,
            "grid_gap": null,
            "grid_row": null,
            "grid_template_areas": null,
            "grid_template_columns": null,
            "grid_template_rows": null,
            "height": null,
            "justify_content": null,
            "justify_items": null,
            "left": null,
            "margin": null,
            "max_height": null,
            "max_width": null,
            "min_height": null,
            "min_width": null,
            "object_fit": null,
            "object_position": null,
            "order": null,
            "overflow": null,
            "overflow_x": null,
            "overflow_y": null,
            "padding": null,
            "right": null,
            "top": null,
            "visibility": null,
            "width": null
          }
        },
        "816677d93c3e43e78efb398714f9ace8": {
          "model_module": "@jupyter-widgets/base",
          "model_name": "LayoutModel",
          "model_module_version": "1.2.0",
          "state": {
            "_model_module": "@jupyter-widgets/base",
            "_model_module_version": "1.2.0",
            "_model_name": "LayoutModel",
            "_view_count": null,
            "_view_module": "@jupyter-widgets/base",
            "_view_module_version": "1.2.0",
            "_view_name": "LayoutView",
            "align_content": null,
            "align_items": null,
            "align_self": null,
            "border": null,
            "bottom": null,
            "display": null,
            "flex": null,
            "flex_flow": null,
            "grid_area": null,
            "grid_auto_columns": null,
            "grid_auto_flow": null,
            "grid_auto_rows": null,
            "grid_column": null,
            "grid_gap": null,
            "grid_row": null,
            "grid_template_areas": null,
            "grid_template_columns": null,
            "grid_template_rows": null,
            "height": null,
            "justify_content": null,
            "justify_items": null,
            "left": null,
            "margin": null,
            "max_height": null,
            "max_width": null,
            "min_height": null,
            "min_width": null,
            "object_fit": null,
            "object_position": null,
            "order": null,
            "overflow": null,
            "overflow_x": null,
            "overflow_y": null,
            "padding": null,
            "right": null,
            "top": null,
            "visibility": null,
            "width": null
          }
        },
        "8c3ed78fbeb4451b85f301c4818e55de": {
          "model_module": "@jupyter-widgets/controls",
          "model_name": "DescriptionStyleModel",
          "model_module_version": "1.5.0",
          "state": {
            "_model_module": "@jupyter-widgets/controls",
            "_model_module_version": "1.5.0",
            "_model_name": "DescriptionStyleModel",
            "_view_count": null,
            "_view_module": "@jupyter-widgets/base",
            "_view_module_version": "1.2.0",
            "_view_name": "StyleView",
            "description_width": ""
          }
        },
        "cef50d4432c2459c8698d30463b0093f": {
          "model_module": "@jupyter-widgets/base",
          "model_name": "LayoutModel",
          "model_module_version": "1.2.0",
          "state": {
            "_model_module": "@jupyter-widgets/base",
            "_model_module_version": "1.2.0",
            "_model_name": "LayoutModel",
            "_view_count": null,
            "_view_module": "@jupyter-widgets/base",
            "_view_module_version": "1.2.0",
            "_view_name": "LayoutView",
            "align_content": null,
            "align_items": null,
            "align_self": null,
            "border": null,
            "bottom": null,
            "display": null,
            "flex": null,
            "flex_flow": null,
            "grid_area": null,
            "grid_auto_columns": null,
            "grid_auto_flow": null,
            "grid_auto_rows": null,
            "grid_column": null,
            "grid_gap": null,
            "grid_row": null,
            "grid_template_areas": null,
            "grid_template_columns": null,
            "grid_template_rows": null,
            "height": null,
            "justify_content": null,
            "justify_items": null,
            "left": null,
            "margin": null,
            "max_height": null,
            "max_width": null,
            "min_height": null,
            "min_width": null,
            "object_fit": null,
            "object_position": null,
            "order": null,
            "overflow": null,
            "overflow_x": null,
            "overflow_y": null,
            "padding": null,
            "right": null,
            "top": null,
            "visibility": null,
            "width": null
          }
        },
        "01460fbee1c549d3b5e00041d038188f": {
          "model_module": "@jupyter-widgets/controls",
          "model_name": "ProgressStyleModel",
          "model_module_version": "1.5.0",
          "state": {
            "_model_module": "@jupyter-widgets/controls",
            "_model_module_version": "1.5.0",
            "_model_name": "ProgressStyleModel",
            "_view_count": null,
            "_view_module": "@jupyter-widgets/base",
            "_view_module_version": "1.2.0",
            "_view_name": "StyleView",
            "bar_color": null,
            "description_width": ""
          }
        },
        "eba702ac66db4593af3c4e8349c0ad90": {
          "model_module": "@jupyter-widgets/base",
          "model_name": "LayoutModel",
          "model_module_version": "1.2.0",
          "state": {
            "_model_module": "@jupyter-widgets/base",
            "_model_module_version": "1.2.0",
            "_model_name": "LayoutModel",
            "_view_count": null,
            "_view_module": "@jupyter-widgets/base",
            "_view_module_version": "1.2.0",
            "_view_name": "LayoutView",
            "align_content": null,
            "align_items": null,
            "align_self": null,
            "border": null,
            "bottom": null,
            "display": null,
            "flex": null,
            "flex_flow": null,
            "grid_area": null,
            "grid_auto_columns": null,
            "grid_auto_flow": null,
            "grid_auto_rows": null,
            "grid_column": null,
            "grid_gap": null,
            "grid_row": null,
            "grid_template_areas": null,
            "grid_template_columns": null,
            "grid_template_rows": null,
            "height": null,
            "justify_content": null,
            "justify_items": null,
            "left": null,
            "margin": null,
            "max_height": null,
            "max_width": null,
            "min_height": null,
            "min_width": null,
            "object_fit": null,
            "object_position": null,
            "order": null,
            "overflow": null,
            "overflow_x": null,
            "overflow_y": null,
            "padding": null,
            "right": null,
            "top": null,
            "visibility": null,
            "width": null
          }
        },
        "652eac926fff466aa0abc3cc9793bd7e": {
          "model_module": "@jupyter-widgets/controls",
          "model_name": "DescriptionStyleModel",
          "model_module_version": "1.5.0",
          "state": {
            "_model_module": "@jupyter-widgets/controls",
            "_model_module_version": "1.5.0",
            "_model_name": "DescriptionStyleModel",
            "_view_count": null,
            "_view_module": "@jupyter-widgets/base",
            "_view_module_version": "1.2.0",
            "_view_name": "StyleView",
            "description_width": ""
          }
        },
        "c4eb595c83bf4271bac3536b0e7e7a84": {
          "model_module": "@jupyter-widgets/controls",
          "model_name": "HBoxModel",
          "model_module_version": "1.5.0",
          "state": {
            "_dom_classes": [],
            "_model_module": "@jupyter-widgets/controls",
            "_model_module_version": "1.5.0",
            "_model_name": "HBoxModel",
            "_view_count": null,
            "_view_module": "@jupyter-widgets/controls",
            "_view_module_version": "1.5.0",
            "_view_name": "HBoxView",
            "box_style": "",
            "children": [
              "IPY_MODEL_ff8c8b2809494bd781806d3e12874ff7",
              "IPY_MODEL_c3e7591c02134accbeb8a6486f26e22c",
              "IPY_MODEL_9e65a533cc3842c3b393300b6c8140fe"
            ],
            "layout": "IPY_MODEL_3eb65f3894734ed8bfe0030d4b1b27bb"
          }
        },
        "ff8c8b2809494bd781806d3e12874ff7": {
          "model_module": "@jupyter-widgets/controls",
          "model_name": "HTMLModel",
          "model_module_version": "1.5.0",
          "state": {
            "_dom_classes": [],
            "_model_module": "@jupyter-widgets/controls",
            "_model_module_version": "1.5.0",
            "_model_name": "HTMLModel",
            "_view_count": null,
            "_view_module": "@jupyter-widgets/controls",
            "_view_module_version": "1.5.0",
            "_view_name": "HTMLView",
            "description": "",
            "description_tooltip": null,
            "layout": "IPY_MODEL_1ec7bbddd3704880b698010e4978fedd",
            "placeholder": "​",
            "style": "IPY_MODEL_ab319d6450a24f908095e3f150918783",
            "value": "100%"
          }
        },
        "c3e7591c02134accbeb8a6486f26e22c": {
          "model_module": "@jupyter-widgets/controls",
          "model_name": "FloatProgressModel",
          "model_module_version": "1.5.0",
          "state": {
            "_dom_classes": [],
            "_model_module": "@jupyter-widgets/controls",
            "_model_module_version": "1.5.0",
            "_model_name": "FloatProgressModel",
            "_view_count": null,
            "_view_module": "@jupyter-widgets/controls",
            "_view_module_version": "1.5.0",
            "_view_name": "ProgressView",
            "bar_style": "success",
            "description": "",
            "description_tooltip": null,
            "layout": "IPY_MODEL_4e18f1376a2e4d81b29e44875f1af5a7",
            "max": 3,
            "min": 0,
            "orientation": "horizontal",
            "style": "IPY_MODEL_2dacc81ed3e6462ab816d38505b9bab5",
            "value": 3
          }
        },
        "9e65a533cc3842c3b393300b6c8140fe": {
          "model_module": "@jupyter-widgets/controls",
          "model_name": "HTMLModel",
          "model_module_version": "1.5.0",
          "state": {
            "_dom_classes": [],
            "_model_module": "@jupyter-widgets/controls",
            "_model_module_version": "1.5.0",
            "_model_name": "HTMLModel",
            "_view_count": null,
            "_view_module": "@jupyter-widgets/controls",
            "_view_module_version": "1.5.0",
            "_view_name": "HTMLView",
            "description": "",
            "description_tooltip": null,
            "layout": "IPY_MODEL_623d2cc05a844a4bbacf89f419bf5b16",
            "placeholder": "​",
            "style": "IPY_MODEL_3527abe0558f4c47933a5f7c9e679b6f",
            "value": " 3/3 [00:21&lt;00:00,  7.25s/it]"
          }
        },
        "3eb65f3894734ed8bfe0030d4b1b27bb": {
          "model_module": "@jupyter-widgets/base",
          "model_name": "LayoutModel",
          "model_module_version": "1.2.0",
          "state": {
            "_model_module": "@jupyter-widgets/base",
            "_model_module_version": "1.2.0",
            "_model_name": "LayoutModel",
            "_view_count": null,
            "_view_module": "@jupyter-widgets/base",
            "_view_module_version": "1.2.0",
            "_view_name": "LayoutView",
            "align_content": null,
            "align_items": null,
            "align_self": null,
            "border": null,
            "bottom": null,
            "display": null,
            "flex": null,
            "flex_flow": null,
            "grid_area": null,
            "grid_auto_columns": null,
            "grid_auto_flow": null,
            "grid_auto_rows": null,
            "grid_column": null,
            "grid_gap": null,
            "grid_row": null,
            "grid_template_areas": null,
            "grid_template_columns": null,
            "grid_template_rows": null,
            "height": null,
            "justify_content": null,
            "justify_items": null,
            "left": null,
            "margin": null,
            "max_height": null,
            "max_width": null,
            "min_height": null,
            "min_width": null,
            "object_fit": null,
            "object_position": null,
            "order": null,
            "overflow": null,
            "overflow_x": null,
            "overflow_y": null,
            "padding": null,
            "right": null,
            "top": null,
            "visibility": null,
            "width": null
          }
        },
        "1ec7bbddd3704880b698010e4978fedd": {
          "model_module": "@jupyter-widgets/base",
          "model_name": "LayoutModel",
          "model_module_version": "1.2.0",
          "state": {
            "_model_module": "@jupyter-widgets/base",
            "_model_module_version": "1.2.0",
            "_model_name": "LayoutModel",
            "_view_count": null,
            "_view_module": "@jupyter-widgets/base",
            "_view_module_version": "1.2.0",
            "_view_name": "LayoutView",
            "align_content": null,
            "align_items": null,
            "align_self": null,
            "border": null,
            "bottom": null,
            "display": null,
            "flex": null,
            "flex_flow": null,
            "grid_area": null,
            "grid_auto_columns": null,
            "grid_auto_flow": null,
            "grid_auto_rows": null,
            "grid_column": null,
            "grid_gap": null,
            "grid_row": null,
            "grid_template_areas": null,
            "grid_template_columns": null,
            "grid_template_rows": null,
            "height": null,
            "justify_content": null,
            "justify_items": null,
            "left": null,
            "margin": null,
            "max_height": null,
            "max_width": null,
            "min_height": null,
            "min_width": null,
            "object_fit": null,
            "object_position": null,
            "order": null,
            "overflow": null,
            "overflow_x": null,
            "overflow_y": null,
            "padding": null,
            "right": null,
            "top": null,
            "visibility": null,
            "width": null
          }
        },
        "ab319d6450a24f908095e3f150918783": {
          "model_module": "@jupyter-widgets/controls",
          "model_name": "DescriptionStyleModel",
          "model_module_version": "1.5.0",
          "state": {
            "_model_module": "@jupyter-widgets/controls",
            "_model_module_version": "1.5.0",
            "_model_name": "DescriptionStyleModel",
            "_view_count": null,
            "_view_module": "@jupyter-widgets/base",
            "_view_module_version": "1.2.0",
            "_view_name": "StyleView",
            "description_width": ""
          }
        },
        "4e18f1376a2e4d81b29e44875f1af5a7": {
          "model_module": "@jupyter-widgets/base",
          "model_name": "LayoutModel",
          "model_module_version": "1.2.0",
          "state": {
            "_model_module": "@jupyter-widgets/base",
            "_model_module_version": "1.2.0",
            "_model_name": "LayoutModel",
            "_view_count": null,
            "_view_module": "@jupyter-widgets/base",
            "_view_module_version": "1.2.0",
            "_view_name": "LayoutView",
            "align_content": null,
            "align_items": null,
            "align_self": null,
            "border": null,
            "bottom": null,
            "display": null,
            "flex": null,
            "flex_flow": null,
            "grid_area": null,
            "grid_auto_columns": null,
            "grid_auto_flow": null,
            "grid_auto_rows": null,
            "grid_column": null,
            "grid_gap": null,
            "grid_row": null,
            "grid_template_areas": null,
            "grid_template_columns": null,
            "grid_template_rows": null,
            "height": null,
            "justify_content": null,
            "justify_items": null,
            "left": null,
            "margin": null,
            "max_height": null,
            "max_width": null,
            "min_height": null,
            "min_width": null,
            "object_fit": null,
            "object_position": null,
            "order": null,
            "overflow": null,
            "overflow_x": null,
            "overflow_y": null,
            "padding": null,
            "right": null,
            "top": null,
            "visibility": null,
            "width": null
          }
        },
        "2dacc81ed3e6462ab816d38505b9bab5": {
          "model_module": "@jupyter-widgets/controls",
          "model_name": "ProgressStyleModel",
          "model_module_version": "1.5.0",
          "state": {
            "_model_module": "@jupyter-widgets/controls",
            "_model_module_version": "1.5.0",
            "_model_name": "ProgressStyleModel",
            "_view_count": null,
            "_view_module": "@jupyter-widgets/base",
            "_view_module_version": "1.2.0",
            "_view_name": "StyleView",
            "bar_color": null,
            "description_width": ""
          }
        },
        "623d2cc05a844a4bbacf89f419bf5b16": {
          "model_module": "@jupyter-widgets/base",
          "model_name": "LayoutModel",
          "model_module_version": "1.2.0",
          "state": {
            "_model_module": "@jupyter-widgets/base",
            "_model_module_version": "1.2.0",
            "_model_name": "LayoutModel",
            "_view_count": null,
            "_view_module": "@jupyter-widgets/base",
            "_view_module_version": "1.2.0",
            "_view_name": "LayoutView",
            "align_content": null,
            "align_items": null,
            "align_self": null,
            "border": null,
            "bottom": null,
            "display": null,
            "flex": null,
            "flex_flow": null,
            "grid_area": null,
            "grid_auto_columns": null,
            "grid_auto_flow": null,
            "grid_auto_rows": null,
            "grid_column": null,
            "grid_gap": null,
            "grid_row": null,
            "grid_template_areas": null,
            "grid_template_columns": null,
            "grid_template_rows": null,
            "height": null,
            "justify_content": null,
            "justify_items": null,
            "left": null,
            "margin": null,
            "max_height": null,
            "max_width": null,
            "min_height": null,
            "min_width": null,
            "object_fit": null,
            "object_position": null,
            "order": null,
            "overflow": null,
            "overflow_x": null,
            "overflow_y": null,
            "padding": null,
            "right": null,
            "top": null,
            "visibility": null,
            "width": null
          }
        },
        "3527abe0558f4c47933a5f7c9e679b6f": {
          "model_module": "@jupyter-widgets/controls",
          "model_name": "DescriptionStyleModel",
          "model_module_version": "1.5.0",
          "state": {
            "_model_module": "@jupyter-widgets/controls",
            "_model_module_version": "1.5.0",
            "_model_name": "DescriptionStyleModel",
            "_view_count": null,
            "_view_module": "@jupyter-widgets/base",
            "_view_module_version": "1.2.0",
            "_view_name": "StyleView",
            "description_width": ""
          }
        },
        "496fc40a972346dda2bcda0d264d1ec3": {
          "model_module": "@jupyter-widgets/controls",
          "model_name": "HBoxModel",
          "model_module_version": "1.5.0",
          "state": {
            "_dom_classes": [],
            "_model_module": "@jupyter-widgets/controls",
            "_model_module_version": "1.5.0",
            "_model_name": "HBoxModel",
            "_view_count": null,
            "_view_module": "@jupyter-widgets/controls",
            "_view_module_version": "1.5.0",
            "_view_name": "HBoxView",
            "box_style": "",
            "children": [
              "IPY_MODEL_95a84e1107b34873b4f8384887e6f335",
              "IPY_MODEL_067fdcafe50c4b1799f71fb8633ceb72",
              "IPY_MODEL_135ef1b571bc4144949741b6722db487"
            ],
            "layout": "IPY_MODEL_dff57270c8a5402f8420bccc46b87394"
          }
        },
        "95a84e1107b34873b4f8384887e6f335": {
          "model_module": "@jupyter-widgets/controls",
          "model_name": "HTMLModel",
          "model_module_version": "1.5.0",
          "state": {
            "_dom_classes": [],
            "_model_module": "@jupyter-widgets/controls",
            "_model_module_version": "1.5.0",
            "_model_name": "HTMLModel",
            "_view_count": null,
            "_view_module": "@jupyter-widgets/controls",
            "_view_module_version": "1.5.0",
            "_view_name": "HTMLView",
            "description": "",
            "description_tooltip": null,
            "layout": "IPY_MODEL_9324c594eb9e43b48164f07dd7f69517",
            "placeholder": "​",
            "style": "IPY_MODEL_c6dffd6395014c8d8ed8deafaa654b82",
            "value": "100%"
          }
        },
        "067fdcafe50c4b1799f71fb8633ceb72": {
          "model_module": "@jupyter-widgets/controls",
          "model_name": "FloatProgressModel",
          "model_module_version": "1.5.0",
          "state": {
            "_dom_classes": [],
            "_model_module": "@jupyter-widgets/controls",
            "_model_module_version": "1.5.0",
            "_model_name": "FloatProgressModel",
            "_view_count": null,
            "_view_module": "@jupyter-widgets/controls",
            "_view_module_version": "1.5.0",
            "_view_name": "ProgressView",
            "bar_style": "success",
            "description": "",
            "description_tooltip": null,
            "layout": "IPY_MODEL_9a694391277d4ec9a95a07fc0aceb4a9",
            "max": 313,
            "min": 0,
            "orientation": "horizontal",
            "style": "IPY_MODEL_eb54bf32a9e543e59e7ab5b79fa20b62",
            "value": 313
          }
        },
        "135ef1b571bc4144949741b6722db487": {
          "model_module": "@jupyter-widgets/controls",
          "model_name": "HTMLModel",
          "model_module_version": "1.5.0",
          "state": {
            "_dom_classes": [],
            "_model_module": "@jupyter-widgets/controls",
            "_model_module_version": "1.5.0",
            "_model_name": "HTMLModel",
            "_view_count": null,
            "_view_module": "@jupyter-widgets/controls",
            "_view_module_version": "1.5.0",
            "_view_name": "HTMLView",
            "description": "",
            "description_tooltip": null,
            "layout": "IPY_MODEL_25bf66e710164b9ca0c560d2f139697f",
            "placeholder": "​",
            "style": "IPY_MODEL_4483ec3676994d778ce68560d95e3449",
            "value": " 313/313 [00:00&lt;00:00, 352.45it/s]"
          }
        },
        "dff57270c8a5402f8420bccc46b87394": {
          "model_module": "@jupyter-widgets/base",
          "model_name": "LayoutModel",
          "model_module_version": "1.2.0",
          "state": {
            "_model_module": "@jupyter-widgets/base",
            "_model_module_version": "1.2.0",
            "_model_name": "LayoutModel",
            "_view_count": null,
            "_view_module": "@jupyter-widgets/base",
            "_view_module_version": "1.2.0",
            "_view_name": "LayoutView",
            "align_content": null,
            "align_items": null,
            "align_self": null,
            "border": null,
            "bottom": null,
            "display": null,
            "flex": null,
            "flex_flow": null,
            "grid_area": null,
            "grid_auto_columns": null,
            "grid_auto_flow": null,
            "grid_auto_rows": null,
            "grid_column": null,
            "grid_gap": null,
            "grid_row": null,
            "grid_template_areas": null,
            "grid_template_columns": null,
            "grid_template_rows": null,
            "height": null,
            "justify_content": null,
            "justify_items": null,
            "left": null,
            "margin": null,
            "max_height": null,
            "max_width": null,
            "min_height": null,
            "min_width": null,
            "object_fit": null,
            "object_position": null,
            "order": null,
            "overflow": null,
            "overflow_x": null,
            "overflow_y": null,
            "padding": null,
            "right": null,
            "top": null,
            "visibility": null,
            "width": null
          }
        },
        "9324c594eb9e43b48164f07dd7f69517": {
          "model_module": "@jupyter-widgets/base",
          "model_name": "LayoutModel",
          "model_module_version": "1.2.0",
          "state": {
            "_model_module": "@jupyter-widgets/base",
            "_model_module_version": "1.2.0",
            "_model_name": "LayoutModel",
            "_view_count": null,
            "_view_module": "@jupyter-widgets/base",
            "_view_module_version": "1.2.0",
            "_view_name": "LayoutView",
            "align_content": null,
            "align_items": null,
            "align_self": null,
            "border": null,
            "bottom": null,
            "display": null,
            "flex": null,
            "flex_flow": null,
            "grid_area": null,
            "grid_auto_columns": null,
            "grid_auto_flow": null,
            "grid_auto_rows": null,
            "grid_column": null,
            "grid_gap": null,
            "grid_row": null,
            "grid_template_areas": null,
            "grid_template_columns": null,
            "grid_template_rows": null,
            "height": null,
            "justify_content": null,
            "justify_items": null,
            "left": null,
            "margin": null,
            "max_height": null,
            "max_width": null,
            "min_height": null,
            "min_width": null,
            "object_fit": null,
            "object_position": null,
            "order": null,
            "overflow": null,
            "overflow_x": null,
            "overflow_y": null,
            "padding": null,
            "right": null,
            "top": null,
            "visibility": null,
            "width": null
          }
        },
        "c6dffd6395014c8d8ed8deafaa654b82": {
          "model_module": "@jupyter-widgets/controls",
          "model_name": "DescriptionStyleModel",
          "model_module_version": "1.5.0",
          "state": {
            "_model_module": "@jupyter-widgets/controls",
            "_model_module_version": "1.5.0",
            "_model_name": "DescriptionStyleModel",
            "_view_count": null,
            "_view_module": "@jupyter-widgets/base",
            "_view_module_version": "1.2.0",
            "_view_name": "StyleView",
            "description_width": ""
          }
        },
        "9a694391277d4ec9a95a07fc0aceb4a9": {
          "model_module": "@jupyter-widgets/base",
          "model_name": "LayoutModel",
          "model_module_version": "1.2.0",
          "state": {
            "_model_module": "@jupyter-widgets/base",
            "_model_module_version": "1.2.0",
            "_model_name": "LayoutModel",
            "_view_count": null,
            "_view_module": "@jupyter-widgets/base",
            "_view_module_version": "1.2.0",
            "_view_name": "LayoutView",
            "align_content": null,
            "align_items": null,
            "align_self": null,
            "border": null,
            "bottom": null,
            "display": null,
            "flex": null,
            "flex_flow": null,
            "grid_area": null,
            "grid_auto_columns": null,
            "grid_auto_flow": null,
            "grid_auto_rows": null,
            "grid_column": null,
            "grid_gap": null,
            "grid_row": null,
            "grid_template_areas": null,
            "grid_template_columns": null,
            "grid_template_rows": null,
            "height": null,
            "justify_content": null,
            "justify_items": null,
            "left": null,
            "margin": null,
            "max_height": null,
            "max_width": null,
            "min_height": null,
            "min_width": null,
            "object_fit": null,
            "object_position": null,
            "order": null,
            "overflow": null,
            "overflow_x": null,
            "overflow_y": null,
            "padding": null,
            "right": null,
            "top": null,
            "visibility": null,
            "width": null
          }
        },
        "eb54bf32a9e543e59e7ab5b79fa20b62": {
          "model_module": "@jupyter-widgets/controls",
          "model_name": "ProgressStyleModel",
          "model_module_version": "1.5.0",
          "state": {
            "_model_module": "@jupyter-widgets/controls",
            "_model_module_version": "1.5.0",
            "_model_name": "ProgressStyleModel",
            "_view_count": null,
            "_view_module": "@jupyter-widgets/base",
            "_view_module_version": "1.2.0",
            "_view_name": "StyleView",
            "bar_color": null,
            "description_width": ""
          }
        },
        "25bf66e710164b9ca0c560d2f139697f": {
          "model_module": "@jupyter-widgets/base",
          "model_name": "LayoutModel",
          "model_module_version": "1.2.0",
          "state": {
            "_model_module": "@jupyter-widgets/base",
            "_model_module_version": "1.2.0",
            "_model_name": "LayoutModel",
            "_view_count": null,
            "_view_module": "@jupyter-widgets/base",
            "_view_module_version": "1.2.0",
            "_view_name": "LayoutView",
            "align_content": null,
            "align_items": null,
            "align_self": null,
            "border": null,
            "bottom": null,
            "display": null,
            "flex": null,
            "flex_flow": null,
            "grid_area": null,
            "grid_auto_columns": null,
            "grid_auto_flow": null,
            "grid_auto_rows": null,
            "grid_column": null,
            "grid_gap": null,
            "grid_row": null,
            "grid_template_areas": null,
            "grid_template_columns": null,
            "grid_template_rows": null,
            "height": null,
            "justify_content": null,
            "justify_items": null,
            "left": null,
            "margin": null,
            "max_height": null,
            "max_width": null,
            "min_height": null,
            "min_width": null,
            "object_fit": null,
            "object_position": null,
            "order": null,
            "overflow": null,
            "overflow_x": null,
            "overflow_y": null,
            "padding": null,
            "right": null,
            "top": null,
            "visibility": null,
            "width": null
          }
        },
        "4483ec3676994d778ce68560d95e3449": {
          "model_module": "@jupyter-widgets/controls",
          "model_name": "DescriptionStyleModel",
          "model_module_version": "1.5.0",
          "state": {
            "_model_module": "@jupyter-widgets/controls",
            "_model_module_version": "1.5.0",
            "_model_name": "DescriptionStyleModel",
            "_view_count": null,
            "_view_module": "@jupyter-widgets/base",
            "_view_module_version": "1.2.0",
            "_view_name": "StyleView",
            "description_width": ""
          }
        }
      }
    }
  },
  "cells": [
    {
      "cell_type": "markdown",
      "metadata": {
        "id": "view-in-github",
        "colab_type": "text"
      },
      "source": [
        "<a href=\"https://colab.research.google.com/github/smbonilla/learningPyTorch/blob/main/03_pyTorchComputerVision.ipynb\" target=\"_parent\"><img src=\"https://colab.research.google.com/assets/colab-badge.svg\" alt=\"Open In Colab\"/></a>"
      ]
    },
    {
      "cell_type": "markdown",
      "source": [
        "# PyTorch Computer Vision "
      ],
      "metadata": {
        "id": "G8tVyt-RFnw6"
      }
    },
    {
      "cell_type": "markdown",
      "source": [
        "## 0. Computer vision libraries \n",
        "\n",
        "* `torchvision` - base domain library\n",
        "* `torchvision.datasets` - get datasets and data loading function for compter vision\n",
        "* `torchvision.models` - get pretrained computer vision models\n",
        "* `torchvision.transforms` - functions for manipulating your vision data (images) to be suitable for use with ML model \n",
        "* `torch.utils.data.Dataset` - base dataset class for PyTorch\n",
        "* `torch.utils.data.DataLoader` - created a python iterable over a dataset"
      ],
      "metadata": {
        "id": "WoMh9o6GZakm"
      }
    },
    {
      "cell_type": "code",
      "source": [
        "# import packages\n",
        "import torch\n",
        "from torch import nn \n",
        "\n",
        "import torchvision \n",
        "from torchvision import datasets\n",
        "from torchvision import transforms\n",
        "from torchvision.transforms import ToTensor \n",
        "\n",
        "import matplotlib.pyplot as plt \n",
        "\n",
        "print(torchvision.__version__)\n"
      ],
      "metadata": {
        "colab": {
          "base_uri": "https://localhost:8080/"
        },
        "id": "AvfOM6OUZeHZ",
        "outputId": "fa442139-505a-463e-b613-dae634f22400"
      },
      "execution_count": 103,
      "outputs": [
        {
          "output_type": "stream",
          "name": "stdout",
          "text": [
            "0.13.1+cu113\n"
          ]
        }
      ]
    },
    {
      "cell_type": "markdown",
      "source": [
        "## 1. Getting a dataset\n",
        "\n",
        "the dataset we will be using: FashionMNIST from `torchvision.datasets`\n",
        "\n",
        "imagenet - an image database organized by nouns depicting millions of images"
      ],
      "metadata": {
        "id": "qwIFGR5la9IY"
      }
    },
    {
      "cell_type": "code",
      "source": [
        "# Setup training data\n",
        "trainData = datasets.FashionMNIST(root=\"data\", # where to download data to?\n",
        "                                   train=True, # do we want the training dataset?\n",
        "                                   download=True, # do we want to download\n",
        "                                   transform=ToTensor(), # how do we want to transform data\n",
        "                                   target_transform=None) # how do we want to transform labels/targets\n",
        "\n",
        "testData = datasets.FashionMNIST(root=\"data\",\n",
        "                                  train=False,\n",
        "                                  download=True,\n",
        "                                  transform=ToTensor(),\n",
        "                                  target_transform=None)"
      ],
      "metadata": {
        "id": "ERTVdGCbcPe7"
      },
      "execution_count": 104,
      "outputs": []
    },
    {
      "cell_type": "code",
      "source": [
        "# see the first bit of data\n",
        "\n",
        "image, label = trainData[0]\n",
        "\n",
        "classNames = trainData.classes\n",
        "classNames"
      ],
      "metadata": {
        "colab": {
          "base_uri": "https://localhost:8080/"
        },
        "id": "P1GdNpKrdRPM",
        "outputId": "8cda08e2-57dd-424e-8340-612f803adb12"
      },
      "execution_count": 105,
      "outputs": [
        {
          "output_type": "execute_result",
          "data": {
            "text/plain": [
              "['T-shirt/top',\n",
              " 'Trouser',\n",
              " 'Pullover',\n",
              " 'Dress',\n",
              " 'Coat',\n",
              " 'Sandal',\n",
              " 'Shirt',\n",
              " 'Sneaker',\n",
              " 'Bag',\n",
              " 'Ankle boot']"
            ]
          },
          "metadata": {},
          "execution_count": 105
        }
      ]
    },
    {
      "cell_type": "code",
      "source": [
        "classToIDX = trainData.class_to_idx\n",
        "classToIDX"
      ],
      "metadata": {
        "colab": {
          "base_uri": "https://localhost:8080/"
        },
        "id": "UAINSKNedYW-",
        "outputId": "cec4a425-8110-4bf1-ce1d-fe2bee7f803e"
      },
      "execution_count": 106,
      "outputs": [
        {
          "output_type": "execute_result",
          "data": {
            "text/plain": [
              "{'T-shirt/top': 0,\n",
              " 'Trouser': 1,\n",
              " 'Pullover': 2,\n",
              " 'Dress': 3,\n",
              " 'Coat': 4,\n",
              " 'Sandal': 5,\n",
              " 'Shirt': 6,\n",
              " 'Sneaker': 7,\n",
              " 'Bag': 8,\n",
              " 'Ankle boot': 9}"
            ]
          },
          "metadata": {},
          "execution_count": 106
        }
      ]
    },
    {
      "cell_type": "code",
      "source": [
        "# Check the shape of our image\n",
        "print(f\"Image Shape: {image.shape}\") # color channel, height, width (only 1 cuz B/W)\n",
        "print(f\"Image Label: {classNames[label]}\") "
      ],
      "metadata": {
        "colab": {
          "base_uri": "https://localhost:8080/"
        },
        "id": "ieiB6X_3dYT2",
        "outputId": "7216b1a0-7471-438e-cc6c-902a6edfb316"
      },
      "execution_count": 107,
      "outputs": [
        {
          "output_type": "stream",
          "name": "stdout",
          "text": [
            "Image Shape: torch.Size([1, 28, 28])\n",
            "Image Label: Ankle boot\n"
          ]
        }
      ]
    },
    {
      "cell_type": "code",
      "source": [
        "# visualize our data\n",
        "image, label = trainData[0]\n",
        "\n",
        "print(f\"Image shape: {image.shape}\")\n",
        "\n",
        "# color channel needs to be last or gone\n",
        "plt.imshow(image.squeeze(), cmap=\"gray\");\n",
        "plt.title(classNames[label]);\n",
        "plt.axis(False);\n"
      ],
      "metadata": {
        "colab": {
          "base_uri": "https://localhost:8080/",
          "height": 281
        },
        "id": "Fx_OWwSldYQq",
        "outputId": "f13022d7-c421-4d1b-93ea-5cc69aa330c9"
      },
      "execution_count": 108,
      "outputs": [
        {
          "output_type": "stream",
          "name": "stdout",
          "text": [
            "Image shape: torch.Size([1, 28, 28])\n"
          ]
        },
        {
          "output_type": "display_data",
          "data": {
            "text/plain": [
              "<Figure size 432x288 with 1 Axes>"
            ],
            "image/png": "[encoded data removed]"
          },
          "metadata": {
            "needs_background": "light"
          }
        }
      ]
    },
    {
      "cell_type": "code",
      "source": [
        "# plot more images\n",
        "torch.manual_seed(42)\n",
        "\n",
        "fig = plt.figure(figsize=(9,9))\n",
        "rows,cols = 4,4\n",
        "\n",
        "for i in range(1,rows*cols+1):\n",
        "  \n",
        "  randomIDX = torch.randint(0,len(trainData), size=[1]).item()\n",
        "  \n",
        "  image, label = trainData[randomIDX]\n",
        "\n",
        "  fig.add_subplot(rows,cols,i);\n",
        "  plt.imshow(image.squeeze(),cmap=\"gray\");\n",
        "  plt.title(classNames[label]);\n",
        "  plt.axis(False);"
      ],
      "metadata": {
        "colab": {
          "base_uri": "https://localhost:8080/",
          "height": 536
        },
        "id": "Dy5VZcUufzLu",
        "outputId": "a35c244d-c4e2-405e-9b7b-86a841410633"
      },
      "execution_count": 109,
      "outputs": [
        {
          "output_type": "display_data",
          "data": {
            "text/plain": [
              "<Figure size 648x648 with 16 Axes>"
            ],
            "image/png": "[encoded data removed]"
          },
          "metadata": {
            "needs_background": "light"
          }
        }
      ]
    },
    {
      "cell_type": "code",
      "source": [
        "trainData"
      ],
      "metadata": {
        "colab": {
          "base_uri": "https://localhost:8080/"
        },
        "id": "um9SKw9JBBgu",
        "outputId": "ee7a6b08-6a55-430f-83b0-29779ba03426"
      },
      "execution_count": 110,
      "outputs": [
        {
          "output_type": "execute_result",
          "data": {
            "text/plain": [
              "Dataset FashionMNIST\n",
              "    Number of datapoints: 60000\n",
              "    Root location: data\n",
              "    Split: Train\n",
              "    StandardTransform\n",
              "Transform: ToTensor()"
            ]
          },
          "metadata": {},
          "execution_count": 110
        }
      ]
    },
    {
      "cell_type": "markdown",
      "source": [
        "## 2. Prepare DataLoader\n",
        "\n",
        "Right now, our data is in the form of PyTorch Datasets.\n",
        "\n",
        "DataLoader turns out dataset into a python iterable. \n",
        "\n",
        "We want to turn out data inot batches (or mini-batches), because:\n",
        "1. It is more computationally efficient - broken down to 32 images at at time (batch size of 32)\n",
        "2. It gives our neural network more chances to update its gradients per epoch (mini-batch gradient descent)\n",
        "\n"
      ],
      "metadata": {
        "id": "wvLPROg-gfKa"
      }
    },
    {
      "cell_type": "code",
      "source": [
        "from torch.utils.data import DataLoader \n",
        "\n",
        "# Setup the batch size hyperparameter\n",
        "batchSize = 32\n",
        "\n",
        "# turn datasets into iterables (batches)\n",
        "trainDataLoader = DataLoader(dataset=trainData,\n",
        "                             batch_size=batchSize, \n",
        "                             shuffle=True)\n",
        "\n",
        "testDataLoader = DataLoader(dataset=testData,\n",
        "                            batch_size=batchSize,\n",
        "                            shuffle=False)"
      ],
      "metadata": {
        "id": "AN-2FRjXBdN0"
      },
      "execution_count": 111,
      "outputs": []
    },
    {
      "cell_type": "code",
      "source": [
        "# Check out what we created\n",
        "print(f\"DataLoader: {trainDataLoader, testDataLoader}\")\n",
        "print(f\"Length of trainDataLoader: {len(trainDataLoader)} batches of {batchSize}\")\n",
        "print(f\"Length of testDataLoader: {len(testDataLoader)} batches of {batchSize}\")"
      ],
      "metadata": {
        "colab": {
          "base_uri": "https://localhost:8080/"
        },
        "id": "C2nnzgNmBdLf",
        "outputId": "0f740361-44e6-4d6b-ea32-c4682a039f74"
      },
      "execution_count": 112,
      "outputs": [
        {
          "output_type": "stream",
          "name": "stdout",
          "text": [
            "DataLoader: (<torch.utils.data.dataloader.DataLoader object at 0x7f0ca3108a30>, <torch.utils.data.dataloader.DataLoader object at 0x7f0ca31083d0>)\n",
            "Length of trainDataLoader: 1875 batches of 32\n",
            "Length of testDataLoader: 313 batches of 32\n"
          ]
        }
      ]
    },
    {
      "cell_type": "code",
      "source": [
        "# Check out what's inside train data loader - turn into iterable\n",
        "trainFeaturesBatch, trainLabelsBatch = next(iter(trainDataLoader))\n",
        "trainFeaturesBatch.shape, trainLabelsBatch.shape"
      ],
      "metadata": {
        "colab": {
          "base_uri": "https://localhost:8080/"
        },
        "id": "4JoRMm4IGPhb",
        "outputId": "453c8fc7-b02d-4669-83da-06d97cf90e16"
      },
      "execution_count": 113,
      "outputs": [
        {
          "output_type": "execute_result",
          "data": {
            "text/plain": [
              "(torch.Size([32, 1, 28, 28]), torch.Size([32]))"
            ]
          },
          "metadata": {},
          "execution_count": 113
        }
      ]
    },
    {
      "cell_type": "code",
      "source": [
        "# Show a sample \n",
        "torch.manual_seed(42)\n",
        "randomIDX = torch.randint(0,len(trainFeaturesBatch), size=[1]).item()\n",
        "image,label = trainFeaturesBatch[randomIDX], trainLabelsBatch[randomIDX]\n",
        "plt.imshow(image.squeeze(), cmap=\"gray\")\n",
        "plt.title(classNames[label])\n",
        "plt.axis(False)\n",
        "print(f\"Image Size: {image.shape}\")\n",
        "print(f\"Label: {label}, label size: {label.shape}\")"
      ],
      "metadata": {
        "colab": {
          "base_uri": "https://localhost:8080/",
          "height": 299
        },
        "id": "l8sID-qyBdIY",
        "outputId": "3929eaad-499e-437f-be79-1cc503886d91"
      },
      "execution_count": 114,
      "outputs": [
        {
          "output_type": "stream",
          "name": "stdout",
          "text": [
            "Image Size: torch.Size([1, 28, 28])\n",
            "Label: 6, label size: torch.Size([])\n"
          ]
        },
        {
          "output_type": "display_data",
          "data": {
            "text/plain": [
              "<Figure size 432x288 with 1 Axes>"
            ],
            "image/png": "[encoded data removed]"
          },
          "metadata": {
            "needs_background": "light"
          }
        }
      ]
    },
    {
      "cell_type": "markdown",
      "source": [
        "## 3. Model 0: Build a baseline model\n",
        "\n",
        "When starting to build a series of machine learning modelling experiments, it's best practice to start with a baseline model.\n",
        "\n",
        "A baseline model is a simple model you will try and improve upon with subsequent models/experiments.\n",
        "\n",
        "Start simply and add complexity when necessary."
      ],
      "metadata": {
        "id": "1MCcw2IFBdF1"
      }
    },
    {
      "cell_type": "code",
      "source": [
        "# Create a flatten layer\n",
        "flattenModel = nn.Flatten()\n",
        "\n",
        "# Get a single sample \n",
        "x = trainFeaturesBatch[0]\n",
        "\n",
        "# Flatten the sample\n",
        "output = flattenModel(x)\n",
        "\n",
        "# Print\n",
        "print(f\"Shape before flattening = {x.shape} -> [color, height, width]\")\n",
        "print(f\"Shape after flattening = {output.shape} -> [color, height*width]\")"
      ],
      "metadata": {
        "colab": {
          "base_uri": "https://localhost:8080/"
        },
        "id": "qk5YCAluI7sU",
        "outputId": "12eaf78b-6325-43cc-fe45-c0925db8a138"
      },
      "execution_count": 115,
      "outputs": [
        {
          "output_type": "stream",
          "name": "stdout",
          "text": [
            "Shape before flattening = torch.Size([1, 28, 28]) -> [color, height, width]\n",
            "Shape after flattening = torch.Size([1, 784]) -> [color, height*width]\n"
          ]
        }
      ]
    },
    {
      "cell_type": "code",
      "source": [
        "from torch import nn\n",
        "class FashionMNISTModelV0(nn.Module):\n",
        "  def __init__(self,\n",
        "               inputShape: int,\n",
        "               hiddenUnits: int,\n",
        "               outputShape: int):\n",
        "    super().__init__()\n",
        "    self.layerStack = nn.Sequential(\n",
        "        nn.Flatten(),\n",
        "        nn.Linear(in_features=inputShape, \n",
        "                  out_features=hiddenUnits),\n",
        "        nn.Linear(in_features=hiddenUnits,\n",
        "                  out_features=outputShape)\n",
        "    )\n",
        "\n",
        "  def forward(self, x):\n",
        "    return self.layerStack(x)\n",
        "\n",
        "torch.manual_seed(42)\n",
        "\n",
        "model0 = FashionMNISTModelV0(inputShape = 784, # this is 28*28\n",
        "                             hiddenUnits = 10, # units in hidden layer \n",
        "                             outputShape = len(classNames)) # number of class names\n",
        "\n",
        "model0.to(\"cpu\")\n",
        "\n",
        "model0"
      ],
      "metadata": {
        "colab": {
          "base_uri": "https://localhost:8080/"
        },
        "id": "oYkM5SLhJRtu",
        "outputId": "8f507d5c-cae0-40c6-83b1-17f3b4ca255e"
      },
      "execution_count": 116,
      "outputs": [
        {
          "output_type": "execute_result",
          "data": {
            "text/plain": [
              "FashionMNISTModelV0(\n",
              "  (layerStack): Sequential(\n",
              "    (0): Flatten(start_dim=1, end_dim=-1)\n",
              "    (1): Linear(in_features=784, out_features=10, bias=True)\n",
              "    (2): Linear(in_features=10, out_features=10, bias=True)\n",
              "  )\n",
              ")"
            ]
          },
          "metadata": {},
          "execution_count": 116
        }
      ]
    },
    {
      "cell_type": "code",
      "source": [
        "dummyX = torch.rand([1,1,28,28])\n",
        "\n",
        "model0(dummyX).shape # one logit per class"
      ],
      "metadata": {
        "colab": {
          "base_uri": "https://localhost:8080/"
        },
        "id": "McYYf2dbJnbz",
        "outputId": "01400109-39fd-45f8-c641-e803f21718ae"
      },
      "execution_count": 117,
      "outputs": [
        {
          "output_type": "execute_result",
          "data": {
            "text/plain": [
              "torch.Size([1, 10])"
            ]
          },
          "metadata": {},
          "execution_count": 117
        }
      ]
    },
    {
      "cell_type": "markdown",
      "source": [
        "# Set up loss, optimizer, and evaluation metrix\n",
        "\n",
        "* Loss function - since we're working with multi-class data, our loss function will be `nn.CrossEntropyLoss()`\n",
        "* Optimizer - our optimizer `torch.optim.SGD()`\n",
        "* Evaluation - accuracy (b/c we're working on a classification prob)"
      ],
      "metadata": {
        "id": "GVbPHc-ILncF"
      }
    },
    {
      "cell_type": "code",
      "source": [
        "import requests\n",
        "from pathlib import Path\n",
        "\n",
        "# download helper functions from learn PyTorch repo\n",
        "if Path(\"helper_functions.py\").is_file():\n",
        "  print(\"Skipping download...\")\n",
        "else:\n",
        "  print(\"downloading helper_functions.py\")\n",
        "  request = requests.get(\"https://raw.githubusercontent.com/mrdbourke/pytorch-deep-learning/main/helper_functions.py\")\n",
        "  with open(\"helper_functions.py\", \"wb\") as f:\n",
        "    f.write(request.content)\n",
        "  f.close()\n",
        "\n"
      ],
      "metadata": {
        "colab": {
          "base_uri": "https://localhost:8080/"
        },
        "id": "-9dCUV1nO3Ov",
        "outputId": "d86a7e80-4363-4d05-c442-3f2fdbbbc60e"
      },
      "execution_count": 118,
      "outputs": [
        {
          "output_type": "stream",
          "name": "stdout",
          "text": [
            "Skipping download...\n"
          ]
        }
      ]
    },
    {
      "cell_type": "code",
      "source": [
        "# Import accuracy metric\n",
        "from helper_functions import accuracy_fn\n",
        "\n",
        "# setup loss function and optimizer\n",
        "lossFn = nn.CrossEntropyLoss()\n",
        "optimizer = torch.optim.SGD(params=model0.parameters(),\n",
        "                            lr=0.1)\n"
      ],
      "metadata": {
        "id": "3woVzz1SO3vD"
      },
      "execution_count": 119,
      "outputs": []
    },
    {
      "cell_type": "markdown",
      "source": [
        "### 3.2 Creating a function to time our experiments\n",
        "\n",
        "Machine Learning is very experimental. \n",
        "\n",
        "Two of the main things you'll often want to track are:\n",
        "1. Model's performance (loss and accruacy values etc)\n",
        "2. How fast it runs"
      ],
      "metadata": {
        "id": "CHIeGlYCO3oR"
      }
    },
    {
      "cell_type": "code",
      "source": [
        "from timeit import default_timer as timer \n",
        "\n",
        "def printTrainTime(start: float,\n",
        "                   end: float,\n",
        "                   device: torch.device=None):\n",
        "  \"\"\"\n",
        "  Prints difference between start and end time.\n",
        "  \"\"\"\n",
        "  totalTime = end - start\n",
        "  print(f\"Train time on {device}: {totalTime:.3f} seconds\")\n",
        "  return totalTime "
      ],
      "metadata": {
        "id": "zsO2Pe_hPtJp"
      },
      "execution_count": 120,
      "outputs": []
    },
    {
      "cell_type": "code",
      "source": [
        "startTime = timer()\n",
        "# some code...\n",
        "endTime = timer()\n",
        "printTrainTime(start=startTime, end=endTime, device=\"cpu\")"
      ],
      "metadata": {
        "colab": {
          "base_uri": "https://localhost:8080/"
        },
        "id": "nMk05sf8RFeE",
        "outputId": "f6114115-fcbc-450a-ca65-b160079e41cf"
      },
      "execution_count": 121,
      "outputs": [
        {
          "output_type": "stream",
          "name": "stdout",
          "text": [
            "Train time on cpu: 0.000 seconds\n"
          ]
        },
        {
          "output_type": "execute_result",
          "data": {
            "text/plain": [
              "3.6559999898599926e-05"
            ]
          },
          "metadata": {},
          "execution_count": 121
        }
      ]
    },
    {
      "cell_type": "markdown",
      "source": [
        "### 3.3 Creating a training loop and training on batches (instead of epoch)\n",
        "\n",
        "1. Loop through epochs.\n",
        "2. Loop through training batches, perform training steps, calculate the train loss *per batch*. \n",
        "3. Loop through testing batches, perform testing steps, calculate the test loss *per batch*.\n",
        "4. Print out what's happening\n",
        "5. Time it all (for fun)"
      ],
      "metadata": {
        "id": "fE2N847sRM5z"
      }
    },
    {
      "cell_type": "code",
      "source": [
        "# import tqdm for progress bar! \n",
        "from tqdm.auto import tqdm \n",
        "\n",
        "# set the seed and start timer \n",
        "torch.manual_seed(42)\n",
        "\n",
        "trainTimeStartOnCpu = timer()\n",
        "\n",
        "# set number of epochs (we'll keep this small for faster training time)\n",
        "epochs = 3\n",
        "\n",
        "# create a training & test loop \n",
        "for epoch in tqdm(range(epochs)):\n",
        "\n",
        "  print(f\"Epoch: {epoch}\\n-------\")\n",
        "\n",
        "  ## Training\n",
        "  trainLoss = 0 \n",
        "\n",
        "  # add a loop to loop through training batches\n",
        "  for batch, (X, y) in enumerate(trainDataLoader):\n",
        "    \n",
        "    # training mode\n",
        "    model0.train()\n",
        "\n",
        "    # 1. forward pass\n",
        "    trainPred = model0(X)\n",
        "\n",
        "    # 2. calculate loss (per batch)\n",
        "    loss = lossFn(trainPred, y)\n",
        "    trainLoss += loss # later divide by batch size\n",
        "\n",
        "    # 3. optimizer zero grad\n",
        "    optimizer.zero_grad()\n",
        "\n",
        "    # 4. loss backward\n",
        "    loss.backward()\n",
        "\n",
        "    # 5. optimizer step\n",
        "    optimizer.step()\n",
        "\n",
        "    # print out \n",
        "    if batch % 400 == 0:\n",
        "      # total number of pictures in general \n",
        "      print(f\"Looked at {batch*len(X)}/{len(trainDataLoader.dataset)} samples.\")\n",
        "\n",
        "  # print out divide total train loss by length of train dataloader\n",
        "  trainLoss /= len(trainDataLoader) # total number of batches inside train dataloader\n",
        "\n",
        "  ## Testing\n",
        "  testLoss, testAcc = 0,0\n",
        "\n",
        "  model0.eval()\n",
        "\n",
        "  with torch.inference_mode():\n",
        "    for XTest,yTest in testDataLoader:\n",
        "\n",
        "      # 1. Forward pass\n",
        "      testPred = model0(XTest) # XTest is of size [batchSize, 1, 28, 28]\n",
        "\n",
        "      # 2. Calculate the loss (accumalitvely)\n",
        "      testLoss += lossFn(testPred, yTest)\n",
        "\n",
        "      # 3. Calculate accuracy\n",
        "      testAcc += accuracy_fn(y_true=yTest, y_pred=testPred.argmax(dim=1))\n",
        "  \n",
        "    # Calculate the test loss average per batch\n",
        "    testLoss /= len(testDataLoader)\n",
        "\n",
        "    # calculate the test acc average per batch\n",
        "    testAcc /= len(testDataLoader)\n",
        "\n",
        "  # Print out what's happening\n",
        "  print(f\"\\nTrain Loss: {trainLoss:.4f} | Test Loss: {testLoss:.4f}, Test Acc: {testAcc:.4f}\")\n",
        "\n",
        "trainTimeEndOnCpu = timer()\n",
        "\n",
        "totalTrainTimeModel0 = printTrainTime(start=trainTimeStartOnCpu,\n",
        "                                      end=trainTimeEndOnCpu,\n",
        "                                      device=str(next(model0.parameters()).device))\n",
        "\n"
      ],
      "metadata": {
        "id": "1eKJ_UrSAFJk",
        "colab": {
          "base_uri": "https://localhost:8080/",
          "height": 535,
          "referenced_widgets": [
            "8f35bc0981da4392be4aac7bc9f2f3ec",
            "9d2ef76e526449318c39cde252c65d6e",
            "6ecb93cc3fe9479393cd354254799be7",
            "d0789fc3da5a4786aded41083c64b4f9",
            "33f00706d11b4337a56bf3a41568d1da",
            "15fc48d5b7be4c62a3c8e671cf043260",
            "3eed08a3aa2d45f69f1db6ca91820d0a",
            "bbccfee32da043eaa6485e59723c2272",
            "07ca67bfbbfe48a98bd95d7ce108589d",
            "a135a3c4e30d4da68efecf8fbbe6bda8",
            "86936d8283ea43d7b3265c588b62346d"
          ]
        },
        "outputId": "269cfd26-2ca9-4e93-c2f8-4b8bfc70c73f"
      },
      "execution_count": 122,
      "outputs": [
        {
          "output_type": "display_data",
          "data": {
            "text/plain": [
              "  0%|          | 0/3 [00:00<?, ?it/s]"
            ],
            "application/vnd.jupyter.widget-view+json": {
              "version_major": 2,
              "version_minor": 0,
              "model_id": "8f35bc0981da4392be4aac7bc9f2f3ec"
            }
          },
          "metadata": {}
        },
        {
          "output_type": "stream",
          "name": "stdout",
          "text": [
            "Epoch: 0\n",
            "-------\n",
            "Looked at 0/60000 samples.\n",
            "Looked at 12800/60000 samples.\n",
            "Looked at 25600/60000 samples.\n",
            "Looked at 38400/60000 samples.\n",
            "Looked at 51200/60000 samples.\n",
            "\n",
            "Train Loss: 0.5904 | Test Loss: 0.5095, Test Acc: 82.0387\n",
            "Epoch: 1\n",
            "-------\n",
            "Looked at 0/60000 samples.\n",
            "Looked at 12800/60000 samples.\n",
            "Looked at 25600/60000 samples.\n",
            "Looked at 38400/60000 samples.\n",
            "Looked at 51200/60000 samples.\n",
            "\n",
            "Train Loss: 0.4763 | Test Loss: 0.4799, Test Acc: 83.1969\n",
            "Epoch: 2\n",
            "-------\n",
            "Looked at 0/60000 samples.\n",
            "Looked at 12800/60000 samples.\n",
            "Looked at 25600/60000 samples.\n",
            "Looked at 38400/60000 samples.\n",
            "Looked at 51200/60000 samples.\n",
            "\n",
            "Train Loss: 0.4550 | Test Loss: 0.4766, Test Acc: 83.4265\n",
            "Train time on cpu: 20.054 seconds\n"
          ]
        }
      ]
    },
    {
      "cell_type": "markdown",
      "source": [
        "## 4. Make Predictions and get model 0 results\n",
        "\n"
      ],
      "metadata": {
        "id": "3jTvzPFlAFd9"
      }
    },
    {
      "cell_type": "code",
      "source": [
        "torch.manual_seed(42)\n",
        "\n",
        "def evalModel(model: torch.nn.Module,\n",
        "              dataLoader: torch.utils.data.DataLoader,\n",
        "              lossFn: torch.nn.Module,\n",
        "              accuracyFn,\n",
        "              device=device):\n",
        "  \"\"\"\n",
        "  Returns a dictionary containing the results of model predicting on dataLoader\n",
        "  \"\"\"\n",
        "  loss, acc = 0, 0\n",
        "\n",
        "  model.eval()\n",
        "\n",
        "  with torch.inference_mode():\n",
        "    for X, y in tqdm(dataLoader): \n",
        "      X, y = X.to(device), y.to(device)\n",
        "\n",
        "      # make predictions \n",
        "      yPred = model(X)\n",
        "\n",
        "      # accumulate the loss and acc values per batch\n",
        "      loss += lossFn(yPred, y) \n",
        "      acc += accuracyFn(y_true=y,\n",
        "                        y_pred=yPred.argmax(dim=1))\n",
        "       \n",
        "    # Scale loss and acc to find average loss/acc per batch\n",
        "    loss /= len(dataLoader)\n",
        "    acc /= len(dataLoader)\n",
        "    \n",
        "  return{\"modelName\": model.__class__.__name__, # only works when model was created with a class\n",
        "         \"modelLoss\": loss.item(),\n",
        "         \"modelAcc\": acc}\n",
        "\n",
        "# Calculate model 0 results on test dataset\n",
        "model0Results = evalModel(model=model0,\n",
        "                          dataLoader=testDataLoader,\n",
        "                          lossFn=lossFn,\n",
        "                          accuracyFn=accuracy_fn,\n",
        "                          device=\"cpu\")\n",
        "\n"
      ],
      "metadata": {
        "colab": {
          "base_uri": "https://localhost:8080/",
          "height": 49,
          "referenced_widgets": [
            "fbb2388ef4c340f08fcba143406668ae",
            "bafe63fa012b4197a1979841ccbb632b",
            "e66cf90e25344146ad3983d57eedfb34",
            "cdef9a4e8f4e442494f942a7381b5004",
            "a0c64922e8484446b92d7d8830a61038",
            "816677d93c3e43e78efb398714f9ace8",
            "8c3ed78fbeb4451b85f301c4818e55de",
            "cef50d4432c2459c8698d30463b0093f",
            "01460fbee1c549d3b5e00041d038188f",
            "eba702ac66db4593af3c4e8349c0ad90",
            "652eac926fff466aa0abc3cc9793bd7e"
          ]
        },
        "id": "4CJK-nC0Pnmu",
        "outputId": "1feb27a4-8074-4d2b-d1a9-b5092db2b45d"
      },
      "execution_count": 153,
      "outputs": [
        {
          "output_type": "display_data",
          "data": {
            "text/plain": [
              "  0%|          | 0/313 [00:00<?, ?it/s]"
            ],
            "application/vnd.jupyter.widget-view+json": {
              "version_major": 2,
              "version_minor": 0,
              "model_id": "fbb2388ef4c340f08fcba143406668ae"
            }
          },
          "metadata": {}
        }
      ]
    },
    {
      "cell_type": "markdown",
      "source": [
        "## 5. Improve model (setup device agnostic-code)\n",
        "\n",
        "for using a GPU if there is one"
      ],
      "metadata": {
        "id": "Xswu6LpmSv5I"
      }
    },
    {
      "cell_type": "code",
      "source": [
        "# Setup device agnostic code\n",
        "device = \"cuda\" if torch.cuda.is_available() else \"cpu\"\n",
        "\n"
      ],
      "metadata": {
        "id": "6vsI6m8lS2lG"
      },
      "execution_count": 124,
      "outputs": []
    },
    {
      "cell_type": "markdown",
      "source": [
        "## 6. Improve model (build a model with non-linearity)"
      ],
      "metadata": {
        "id": "eq9w7R5RcjwF"
      }
    },
    {
      "cell_type": "code",
      "source": [
        "# setup model 1 \n",
        "class FashionMNISTModelV1(nn.Module):\n",
        "  def __init__(self,\n",
        "               inputShape: int,\n",
        "               hiddenUnits: int,\n",
        "               outputShape: int):\n",
        "    super().__init__()\n",
        "\n",
        "    self.layerStack = nn.Sequential(\n",
        "        nn.Flatten(), # flatten inputs into a single vector\n",
        "        nn.Linear(in_features=inputShape,out_features=hiddenUnits), \n",
        "        nn.ReLU(),\n",
        "        nn.Linear(in_features=hiddenUnits,out_features=outputShape),\n",
        "        nn.ReLU()\n",
        "    )\n",
        "\n",
        "  def forward(self, x: torch.Tensor):\n",
        "    return self.layerStack(x)\n",
        "\n",
        "# Create an instance of model1 \n",
        "torch.manual_seed(42)\n",
        "model1 = FashionMNISTModelV1(inputShape=28*28,\n",
        "                             hiddenUnits=10,\n",
        "                             outputShape=len(classNames))\n",
        "\n",
        "# Send to the GPU if available \n",
        "model1.to(device)\n",
        "\n",
        "next(model1.parameters()).device"
      ],
      "metadata": {
        "colab": {
          "base_uri": "https://localhost:8080/"
        },
        "id": "WDNZ4gvebMHh",
        "outputId": "322f2f2e-6aaa-45bc-eb42-70f2a2642567"
      },
      "execution_count": 138,
      "outputs": [
        {
          "output_type": "execute_result",
          "data": {
            "text/plain": [
              "device(type='cuda', index=0)"
            ]
          },
          "metadata": {},
          "execution_count": 138
        }
      ]
    },
    {
      "cell_type": "code",
      "source": [
        "from helper_functions import accuracy_fn \n",
        "\n",
        "# setup loss function and optimizer\n",
        "lossFn = nn.CrossEntropyLoss() # because we are classifying between multiple classes\n",
        "optimizer = torch.optim.SGD(params=model1.parameters(),\n",
        "                            lr=0.1) # tries to update our model's parameters to reduce the loss"
      ],
      "metadata": {
        "id": "fn7vX0B1bNpR"
      },
      "execution_count": 139,
      "outputs": []
    },
    {
      "cell_type": "code",
      "source": [
        "optimizer"
      ],
      "metadata": {
        "colab": {
          "base_uri": "https://localhost:8080/"
        },
        "id": "0A3GxRi_fZQx",
        "outputId": "7ae9abe9-7051-4748-f19a-cedb21e43511"
      },
      "execution_count": 140,
      "outputs": [
        {
          "output_type": "execute_result",
          "data": {
            "text/plain": [
              "SGD (\n",
              "Parameter Group 0\n",
              "    dampening: 0\n",
              "    foreach: None\n",
              "    lr: 0.1\n",
              "    maximize: False\n",
              "    momentum: 0\n",
              "    nesterov: False\n",
              "    weight_decay: 0\n",
              ")"
            ]
          },
          "metadata": {},
          "execution_count": 140
        }
      ]
    },
    {
      "cell_type": "markdown",
      "source": [
        "### Functionizing training and evaluation/testing loops"
      ],
      "metadata": {
        "id": "4PsOlf9EmFuJ"
      }
    },
    {
      "cell_type": "code",
      "source": [
        "# MAKE A FUNCTION FOR TRAINING LOOP & TESTING LOOP\n",
        "\n",
        "def trainStep(model: torch.nn.Module,\n",
        "              trainDataLoader: torch.utils.data.DataLoader,\n",
        "              lossFn: torch.nn.Module,\n",
        "              optimizer: torch.optim.Optimizer,\n",
        "              accuracyFn,\n",
        "              device: torch.device=device):\n",
        "  \"\"\"\n",
        "  Performs a training step with model trying to learn on trainDataLoader\n",
        "  \"\"\"\n",
        "  \n",
        "  trainLoss, trainAcc = 0, 0\n",
        "\n",
        "  # put model into training mode\n",
        "  model.train()\n",
        "\n",
        "  for batch, (X,y) in enumerate(trainDataLoader):\n",
        "\n",
        "    # put data on target device\n",
        "    X, y = X.to(device), y.to(device)\n",
        "\n",
        "    # 1. Forward pass \n",
        "    trainPred = model(X)\n",
        "\n",
        "    # 2. Calculate loss & accuracy\n",
        "    loss = lossFn(trainPred, y)\n",
        "    trainLoss += loss\n",
        "    trainAcc += accuracyFn(y_true=y,y_pred=trainPred.argmax(dim=1))\n",
        "\n",
        "    # 3. Optimizer zero grad\n",
        "    optimizer.zero_grad() \n",
        "\n",
        "    # 4. Loss backward\n",
        "    loss.backward()\n",
        "\n",
        "    # 5. Optimizer step\n",
        "    optimizer.step() \n",
        "\n",
        "  # calculate train loss and train accuracy per batch\n",
        "  trainLoss /= len(trainDataLoader)\n",
        "  trainAcc /= len(trainDataLoader)\n",
        "\n",
        "  print(f\"Train loss: {trainLoss:.5f} | Train acc: {trainAcc:.2f}%\")\n",
        "\n",
        "  return trainLoss, trainAcc\n"
      ],
      "metadata": {
        "id": "xa5URepNe862"
      },
      "execution_count": 141,
      "outputs": []
    },
    {
      "cell_type": "code",
      "source": [
        "def testStep(model: torch.nn.Module,\n",
        "            testDataLoader: torch.utils.data.DataLoader,\n",
        "            lossFn: torch.nn.Module,\n",
        "            accuracyFn,\n",
        "            device: torch.device=device):\n",
        "  \"\"\"\n",
        "  Performs a testing loop step on model going over testDataLoader.\n",
        "  \"\"\"\n",
        "  testLoss, testAcc = 0, 0\n",
        "  \n",
        "  # put the model in evaluation mode\n",
        "  model.eval()\n",
        "\n",
        "  # turn on inference mode context manager\n",
        "  with torch.inference_mode():\n",
        "    \n",
        "    for X, y in testDataLoader:\n",
        "\n",
        "      # Put data on device\n",
        "      X, y = X.to(device), y.to(device)\n",
        "\n",
        "      # 1. Forward pass\n",
        "      testPreds = model(X)\n",
        "\n",
        "      # 2. Compute Loss/Accuracy\n",
        "      testLoss += lossFn(testPreds, y)\n",
        "      testAcc += accuracyFn(y_true=y, y_pred=testPreds.argmax(dim=1))\n",
        "\n",
        "    # compute average per batch \n",
        "    testLoss /= len(testDataLoader)\n",
        "    testAcc /= len(testDataLoader)\n",
        "\n",
        "    # print out\n",
        "    print(f\"Test Loss: {testLoss:.5f} | Test Accuracy: {testAcc:.2f}%\")\n",
        "  \n",
        "  return testLoss, testAcc"
      ],
      "metadata": {
        "id": "aUWx4g4WknTP"
      },
      "execution_count": 142,
      "outputs": []
    },
    {
      "cell_type": "code",
      "source": [
        "from timeit import default_timer as timer\n",
        "\n",
        "torch.manual_seed(42)\n",
        "\n",
        "epochs = 3\n",
        "\n",
        "# Measure time \n",
        "trainTimeStartOnGpu = timer()\n",
        "\n",
        "for epoch in tqdm(range(epochs)):\n",
        "  print(f\"Epoch: {epoch}\\n--------\")\n",
        "\n",
        "  trainStep(model=model1,\n",
        "            trainDataLoader=trainDataLoader,\n",
        "            lossFn=lossFn,\n",
        "            optimizer=optimizer,\n",
        "            accuracyFn=accuracy_fn,\n",
        "            device=device)\n",
        "  \n",
        "  testStep(model=model1,\n",
        "           testDataLoader=testDataLoader,\n",
        "           lossFn=lossFn,\n",
        "           accuracyFn=accuracy_fn,\n",
        "           device=device)\n",
        "\n",
        "trainTimeEndOnGpu = timer()\n",
        "totalTrainTimeModel1 = printTrainTime(start=trainTimeStartOnGpu,\n",
        "                                      end=trainTimeEndOnGpu,\n",
        "                                      device=device)"
      ],
      "metadata": {
        "colab": {
          "base_uri": "https://localhost:8080/",
          "height": 275,
          "referenced_widgets": [
            "c4eb595c83bf4271bac3536b0e7e7a84",
            "ff8c8b2809494bd781806d3e12874ff7",
            "c3e7591c02134accbeb8a6486f26e22c",
            "9e65a533cc3842c3b393300b6c8140fe",
            "3eb65f3894734ed8bfe0030d4b1b27bb",
            "1ec7bbddd3704880b698010e4978fedd",
            "ab319d6450a24f908095e3f150918783",
            "4e18f1376a2e4d81b29e44875f1af5a7",
            "2dacc81ed3e6462ab816d38505b9bab5",
            "623d2cc05a844a4bbacf89f419bf5b16",
            "3527abe0558f4c47933a5f7c9e679b6f"
          ]
        },
        "id": "xIurlNddloQ0",
        "outputId": "d85f7819-19ff-4cb7-9bd6-37a2bb3be276"
      },
      "execution_count": 143,
      "outputs": [
        {
          "output_type": "display_data",
          "data": {
            "text/plain": [
              "  0%|          | 0/3 [00:00<?, ?it/s]"
            ],
            "application/vnd.jupyter.widget-view+json": {
              "version_major": 2,
              "version_minor": 0,
              "model_id": "c4eb595c83bf4271bac3536b0e7e7a84"
            }
          },
          "metadata": {}
        },
        {
          "output_type": "stream",
          "name": "stdout",
          "text": [
            "Epoch: 0\n",
            "--------\n",
            "Train loss: 1.09199 | Train acc: 61.34%\n",
            "Test Loss: 0.95636 | Test Accuracy: 65.00%\n",
            "Epoch: 1\n",
            "--------\n",
            "Train loss: 0.78101 | Train acc: 71.93%\n",
            "Test Loss: 0.72227 | Test Accuracy: 73.91%\n",
            "Epoch: 2\n",
            "--------\n",
            "Train loss: 0.67027 | Train acc: 75.94%\n",
            "Test Loss: 0.68500 | Test Accuracy: 75.02%\n",
            "Train time on cuda: 21.758 seconds\n"
          ]
        }
      ]
    },
    {
      "cell_type": "code",
      "source": [
        "print(f\"model 0 results: {model0Results}\")\n",
        "print(f\"train time on CPU: {totalTrainTimeModel0}\")"
      ],
      "metadata": {
        "colab": {
          "base_uri": "https://localhost:8080/"
        },
        "id": "WcWmnKsaiEoM",
        "outputId": "b19fb36d-a2d9-4c8a-ede1-38f0f3155c23"
      },
      "execution_count": 147,
      "outputs": [
        {
          "output_type": "stream",
          "name": "stdout",
          "text": [
            "model 0 results: {'modelName': 'FashionMNISTModelV0', 'modelLoss': 0.47663894295692444, 'modelAcc': 83.42651757188499}\n",
            "train time on CPU: 20.053565674999845\n"
          ]
        }
      ]
    },
    {
      "cell_type": "code",
      "source": [
        "# Get model1 results dictionary\n",
        "model1Results = evalModel(model=model1,\n",
        "                          dataLoader=testDataLoader,\n",
        "                          lossFn=lossFn,\n",
        "                          accuracyFn=accuracy_fn,\n",
        "                          device=device)\n",
        "\n",
        "print(f\"model 1 results: {model1Results}\")\n",
        "print(f\"train time on GPU: {totalTrainTimeModel1}\")"
      ],
      "metadata": {
        "colab": {
          "base_uri": "https://localhost:8080/",
          "height": 84,
          "referenced_widgets": [
            "496fc40a972346dda2bcda0d264d1ec3",
            "95a84e1107b34873b4f8384887e6f335",
            "067fdcafe50c4b1799f71fb8633ceb72",
            "135ef1b571bc4144949741b6722db487",
            "dff57270c8a5402f8420bccc46b87394",
            "9324c594eb9e43b48164f07dd7f69517",
            "c6dffd6395014c8d8ed8deafaa654b82",
            "9a694391277d4ec9a95a07fc0aceb4a9",
            "eb54bf32a9e543e59e7ab5b79fa20b62",
            "25bf66e710164b9ca0c560d2f139697f",
            "4483ec3676994d778ce68560d95e3449"
          ]
        },
        "id": "uDdU-BwEiElZ",
        "outputId": "ec45d37f-7e94-42b6-dc25-76091857066d"
      },
      "execution_count": 156,
      "outputs": [
        {
          "output_type": "display_data",
          "data": {
            "text/plain": [
              "  0%|          | 0/313 [00:00<?, ?it/s]"
            ],
            "application/vnd.jupyter.widget-view+json": {
              "version_major": 2,
              "version_minor": 0,
              "model_id": "496fc40a972346dda2bcda0d264d1ec3"
            }
          },
          "metadata": {}
        },
        {
          "output_type": "stream",
          "name": "stdout",
          "text": [
            "model 1 results: {'modelName': 'FashionMNISTModelV1', 'modelLoss': 0.6850008964538574, 'modelAcc': 75.01996805111821}\n",
            "train time on GPU: 21.75835665900013\n"
          ]
        }
      ]
    },
    {
      "cell_type": "markdown",
      "source": [
        "## Model 2: Building a Convolutional Neural Network (CNN)\n",
        "\n",
        "CNN's are known for their capabilities finding patterns in visual data.\n",
        "\n",
        "To find out what's happening inside a CNN: https://poloclub.github.io/cnn-explainer/\n"
      ],
      "metadata": {
        "id": "3zLB-gc_iEiI"
      }
    },
    {
      "cell_type": "code",
      "source": [
        "# Create a convolutional neural network \n",
        "class FashionMNISTModelV2(nn.Module):\n",
        "  \"\"\"\n",
        "  Model architecture that replicates the TinyVGG model from CNN explainer website.\n",
        "  \"\"\"\n",
        "  def __init__(self, inputShape: int, hiddenUnits: int, outputShape:int):\n",
        "    super().__init__()\n",
        "    self.convBlock1 = nn.Sequential(\n",
        "        nn.Conv2d(in_channels=inputShape,\n",
        "                  out_channels=hiddenUnits,\n",
        "                  kernel_size=3,\n",
        "                  stride=1,\n",
        "                  padding=1),\n",
        "        nn.ReLU(),\n",
        "        nn.Conv2d(in_channels=hiddenUnits,\n",
        "                  out_channels=hiddenUnits,\n",
        "                  kernel_size=3,\n",
        "                  padding=1,\n",
        "                  stride=1),\n",
        "        nn.ReLU(),\n",
        "        nn.MaxPool2d(kernel_size=3)\n",
        "    )\n",
        "    self.convBlock2 = nn.Sequential(\n",
        "        nn.Conv2d(in_channels=hiddenUnits,\n",
        "                  out_channels=hiddenUnits,\n",
        "                  kernel_size=3,\n",
        "                  stride=1,\n",
        "                  padding=1),\n",
        "        nn.ReLU(),\n",
        "        nn.Conv2d(in_channels=hiddenUnits,\n",
        "                  out_channels=hiddenUnits,\n",
        "                  kernel_size=3,\n",
        "                  stride=1,\n",
        "                  padding=1),\n",
        "        nn.ReLU(),\n",
        "        nn.MaxPool2d(kernel_size=3)\n",
        "    )"
      ],
      "metadata": {
        "id": "-AcCtn8S4Oqv"
      },
      "execution_count": 157,
      "outputs": []
    }
  ]
}