{
  "nbformat": 4,
  "nbformat_minor": 0,
  "metadata": {
    "colab": {
      "provenance": [],
      "authorship_tag": "ABX9TyMAVh2E3IRZgjLyadgMCcme",
      "include_colab_link": true
    },
    "kernelspec": {
      "name": "python3",
      "display_name": "Python 3"
    },
    "language_info": {
      "name": "python"
    },
    "accelerator": "GPU",
    "gpuClass": "standard"
  },
  "cells": [
    {
      "cell_type": "markdown",
      "metadata": {
        "id": "view-in-github",
        "colab_type": "text"
      },
      "source": [
        "<a href=\"https://colab.research.google.com/github/smbonilla/learningPyTorch/blob/main/imageGenerationUsingGAN.ipynb\" target=\"_parent\"><img src=\"https://colab.research.google.com/assets/colab-badge.svg\" alt=\"Open In Colab\"/></a>"
      ]
    },
    {
      "cell_type": "markdown",
      "source": [
        "### Image Generation using Generative Adversarial Networks"
      ],
      "metadata": {
        "id": "6ipsL8ulf8ol"
      }
    },
    {
      "cell_type": "code",
      "source": [
        "import torch\n",
        "\n",
        "device = \"cuda\" if torch.cuda.is_available() else \"cpu\""
      ],
      "metadata": {
        "id": "xL0hDFkWik5V"
      },
      "execution_count": 1,
      "outputs": []
    },
    {
      "cell_type": "code",
      "source": [
        "device"
      ],
      "metadata": {
        "colab": {
          "base_uri": "https://localhost:8080/",
          "height": 36
        },
        "id": "15kuafrXikwR",
        "outputId": "71581ca1-c054-4662-e93d-87f962a6b8fd"
      },
      "execution_count": 2,
      "outputs": [
        {
          "output_type": "execute_result",
          "data": {
            "text/plain": [
              "'cuda'"
            ],
            "application/vnd.google.colaboratory.intrinsic+json": {
              "type": "string"
            }
          },
          "metadata": {},
          "execution_count": 2
        }
      ]
    },
    {
      "cell_type": "code",
      "source": [
        "!pip install jovian --upgrade -q\n",
        "import jovian\n",
        "jovian.__version__"
      ],
      "metadata": {
        "colab": {
          "base_uri": "https://localhost:8080/",
          "height": 72
        },
        "id": "OMc7NKh9iktH",
        "outputId": "188e3d09-731f-4ec4-9ef8-a89b10bca353"
      },
      "execution_count": 3,
      "outputs": [
        {
          "output_type": "stream",
          "name": "stdout",
          "text": [
            "\u001b[?25l\r\u001b[K     |████▊                           | 10 kB 12.6 MB/s eta 0:00:01\r\u001b[K     |█████████▌                      | 20 kB 10.3 MB/s eta 0:00:01\r\u001b[K     |██████████████▎                 | 30 kB 14.0 MB/s eta 0:00:01\r\u001b[K     |███████████████████             | 40 kB 17.3 MB/s eta 0:00:01\r\u001b[K     |███████████████████████▉        | 51 kB 20.3 MB/s eta 0:00:01\r\u001b[K     |████████████████████████████▋   | 61 kB 23.3 MB/s eta 0:00:01\r\u001b[K     |████████████████████████████████| 68 kB 6.1 MB/s \n",
            "\u001b[?25h  Building wheel for uuid (setup.py) ... \u001b[?25l\u001b[?25hdone\n"
          ]
        },
        {
          "output_type": "execute_result",
          "data": {
            "text/plain": [
              "'0.2.45'"
            ],
            "application/vnd.google.colaboratory.intrinsic+json": {
              "type": "string"
            }
          },
          "metadata": {},
          "execution_count": 3
        }
      ]
    },
    {
      "cell_type": "code",
      "source": [
        "jovian.utils.colab.set_colab_file_id('1Bz0oJP4zOfTu3Zd2QhFAvY0EXj_119E6')"
      ],
      "metadata": {
        "id": "FN5hxz8ajvPy"
      },
      "execution_count": 4,
      "outputs": []
    },
    {
      "cell_type": "markdown",
      "source": [
        "## Approach towards GAN\n",
        "\n",
        "Random input vector -> Generator Model -> Generated Example\n",
        "\n",
        "Generated Example + Real Example -> Discriminator Model -> Binary Classification (real/fake) -> update discriminator model + generator model \n",
        "\n",
        "1. train the discriminator model to distinguish between really bad generator images and real images (binary classification model)\n",
        "2. train the generator model for a few epochs to create better fakes \n",
        "3. repeat 1&2 over and over\n",
        "\n",
        "\n"
      ],
      "metadata": {
        "id": "KStdqaSJknHa"
      }
    },
    {
      "cell_type": "markdown",
      "source": [
        "## Use Anime Face Dataset\n",
        "\n",
        "consists of 63,000 cropped anime faces - unsupervised and so these images do not have labels\n"
      ],
      "metadata": {
        "id": "kNugXpMZknEy"
      }
    },
    {
      "cell_type": "markdown",
      "source": [
        "### get dataset from kaggle\n",
        "\n",
        "use opendatasets library to download kaggle dataset\n",
        "1. sign in to kaggle and click on profile picture and select my account\n",
        "2. scroll down to API and click create new API Token this will download a file kaggle.json \n",
        "3. when you run `opendatasets.download` you will be asked to enter your username & kaggle API which you get from previous file"
      ],
      "metadata": {
        "id": "iFUkofMIkm9k"
      }
    },
    {
      "cell_type": "code",
      "source": [],
      "metadata": {
        "id": "l6XzhvfMm7za"
      },
      "execution_count": 4,
      "outputs": []
    },
    {
      "cell_type": "code",
      "source": [],
      "metadata": {
        "id": "seeMAy4hm7wx"
      },
      "execution_count": 4,
      "outputs": []
    }
  ]
}