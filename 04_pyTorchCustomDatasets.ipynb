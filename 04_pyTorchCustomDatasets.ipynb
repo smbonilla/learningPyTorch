{
  "nbformat": 4,
  "nbformat_minor": 0,
  "metadata": {
    "colab": {
      "provenance": [],
      "authorship_tag": "ABX9TyN7P0v1ZnFU+cwwfk8l4ksH",
      "include_colab_link": true
    },
    "kernelspec": {
      "name": "python3",
      "display_name": "Python 3"
    },
    "language_info": {
      "name": "python"
    }
  },
  "cells": [
    {
      "cell_type": "markdown",
      "metadata": {
        "id": "view-in-github",
        "colab_type": "text"
      },
      "source": [
        "<a href=\"https://colab.research.google.com/github/smbonilla/learningPyTorch/blob/main/04_pyTorchCustomDatasets.ipynb\" target=\"_parent\"><img src=\"https://colab.research.google.com/assets/colab-badge.svg\" alt=\"Open In Colab\"/></a>"
      ]
    },
    {
      "cell_type": "markdown",
      "source": [
        "# 04. PyTorch Custom Datasets Video Notebook \n",
        "\n",
        "How do you get your own data into PyTorch? \n",
        "\n",
        "One of the ways to do so is via custom datasets. "
      ],
      "metadata": {
        "id": "gnplV17lsvaM"
      }
    },
    {
      "cell_type": "markdown",
      "source": [
        "## 0. Importing PyTorch and setting up device-agnostic code"
      ],
      "metadata": {
        "id": "_5-SemtcwVA_"
      }
    },
    {
      "cell_type": "code",
      "source": [
        "import torch\n",
        "from torch import nn\n",
        "\n",
        "device = \"cuda\" if torch.cuda.is_available() else \"cpu\"\n",
        "device"
      ],
      "metadata": {
        "colab": {
          "base_uri": "https://localhost:8080/",
          "height": 35
        },
        "id": "L4suaVwFwGm1",
        "outputId": "51cff79c-a405-4b69-b6ba-920dc3b26c2a"
      },
      "execution_count": 2,
      "outputs": [
        {
          "output_type": "execute_result",
          "data": {
            "text/plain": [
              "'cpu'"
            ],
            "application/vnd.google.colaboratory.intrinsic+json": {
              "type": "string"
            }
          },
          "metadata": {},
          "execution_count": 2
        }
      ]
    },
    {
      "cell_type": "markdown",
      "source": [
        "## 1. Get data\n",
        "\n",
        "Our dataset is a subset of the Food101 dataset and 1000 images per class (750 training, 250 testing) \n",
        "\n",
        "Food101 starts with 101 different classes of food. Our dataset starts with 3 classes of food and only 10% of the images.\n",
        "\n",
        "When starting out ML projects, it's important to try things on a small scale and then increase the scale when necessary "
      ],
      "metadata": {
        "id": "teqsPeIAwpQJ"
      }
    },
    {
      "cell_type": "code",
      "source": [
        "import requests\n",
        "import zipfile\n",
        "from pathlib import Path\n",
        "\n",
        "# Setup path to a data folder \n",
        "data_path = Path(\"data/\")\n",
        "image_path = data_path / \"pizza_steak_sushi\"\n",
        "\n",
        "# if image folder doesn't exist, download\n",
        "if image_path.is_dir():\n",
        "  print(f\"{image_path} directory already exists ... skipping download\")\n",
        "else:\n",
        "  print(f\"{image_path} directory doesn't exist, creating one...\")\n",
        "  image_path.mkdir(parents=True, exist_ok=True)\n",
        "\n",
        "# Download pizza, steak and sushi data \n",
        "with open(data_path / \"pizza_steak_sushi.zip\", \"wb\") as f:\n",
        "  request = requests.get(\"https://github.com/mrdbourke/pytorch-deep-learning/raw/main/data/pizza_steak_sushi.zip\")\n",
        "  print(f\"Downloading pizza, steak, and sushi data...\")\n",
        "  f.write(request.content)\n",
        "\n",
        "f.close()\n",
        "\n",
        "# unzip pizza, steak, sushi data\n",
        "with zipfile.ZipFile(data_path / \"pizza_steak_sushi.zip\", \"r\") as zip_ref:\n",
        "  print(\"Unzipping pizza, steak, and sushi data...\")\n",
        "  zip_ref.extractall(image_path)"
      ],
      "metadata": {
        "colab": {
          "base_uri": "https://localhost:8080/"
        },
        "id": "Yz-26hViwsA8",
        "outputId": "6f02bcd8-5f18-4223-b6f7-b99557e01bd9"
      },
      "execution_count": 3,
      "outputs": [
        {
          "output_type": "stream",
          "name": "stdout",
          "text": [
            "data/pizza_steak_sushi directory doesn't exist, creating one...\n",
            "Downloading pizza, steak, and sushi data...\n",
            "Unzipping pizza, steak, and sushi data...\n"
          ]
        }
      ]
    },
    {
      "cell_type": "markdown",
      "source": [
        "## 2. Becoming one with the data (data preparation and data exploration)"
      ],
      "metadata": {
        "id": "GcFs2zh2wr7u"
      }
    },
    {
      "cell_type": "code",
      "source": [
        "import os \n",
        "def walkThroughDir(dirPath):\n",
        "  \"\"\"\n",
        "  Walks through dirPath returning its contents.\n",
        "  \"\"\"\n",
        "  for dirpath, dirnames, filenames in os.walk(dirPath):\n",
        "    print(f\"There are {len(dirnames)} directories and {len(filenames)} images in '{dirpath}'.\")"
      ],
      "metadata": {
        "id": "zW5e8TqX0s9z"
      },
      "execution_count": 4,
      "outputs": []
    },
    {
      "cell_type": "code",
      "source": [
        "walkThroughDir(image_path)"
      ],
      "metadata": {
        "colab": {
          "base_uri": "https://localhost:8080/"
        },
        "id": "8YILdJcT0s4f",
        "outputId": "f2db780e-e5ae-4d7f-8c35-ddee7073b837"
      },
      "execution_count": 5,
      "outputs": [
        {
          "output_type": "stream",
          "name": "stdout",
          "text": [
            "There are 2 directories and 0 images in 'data/pizza_steak_sushi'.\n",
            "There are 3 directories and 0 images in 'data/pizza_steak_sushi/train'.\n",
            "There are 0 directories and 72 images in 'data/pizza_steak_sushi/train/sushi'.\n",
            "There are 0 directories and 75 images in 'data/pizza_steak_sushi/train/steak'.\n",
            "There are 0 directories and 78 images in 'data/pizza_steak_sushi/train/pizza'.\n",
            "There are 3 directories and 0 images in 'data/pizza_steak_sushi/test'.\n",
            "There are 0 directories and 31 images in 'data/pizza_steak_sushi/test/sushi'.\n",
            "There are 0 directories and 19 images in 'data/pizza_steak_sushi/test/steak'.\n",
            "There are 0 directories and 25 images in 'data/pizza_steak_sushi/test/pizza'.\n"
          ]
        }
      ]
    },
    {
      "cell_type": "code",
      "source": [
        "# Setup train and testing paths\n",
        "trainDir = image_path / \"train\"\n",
        "testDir = image_path / \"test\"\n",
        "\n",
        "trainDir, testDir"
      ],
      "metadata": {
        "colab": {
          "base_uri": "https://localhost:8080/"
        },
        "id": "3Kx32Y4U1MYg",
        "outputId": "ddd3022f-a396-4573-8cd9-6b24007937b6"
      },
      "execution_count": 7,
      "outputs": [
        {
          "output_type": "execute_result",
          "data": {
            "text/plain": [
              "(PosixPath('data/pizza_steak_sushi/train'),\n",
              " PosixPath('data/pizza_steak_sushi/test'))"
            ]
          },
          "metadata": {},
          "execution_count": 7
        }
      ]
    },
    {
      "cell_type": "code",
      "source": [
        "# Visualize some data"
      ],
      "metadata": {
        "id": "km2Io1JM18XB"
      },
      "execution_count": null,
      "outputs": []
    }
  ]
}