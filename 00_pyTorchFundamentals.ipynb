{
  "nbformat": 4,
  "nbformat_minor": 0,
  "metadata": {
    "colab": {
      "provenance": [],
      "collapsed_sections": [
        "kD8niYDxh9PO",
        "XBsw2aJhh2Y6",
        "T7fV4F4WlKyA",
        "3E2f2egMmeWL",
        "535TEkbkrdAo",
        "3yjjl74frcul",
        "9ZgLGWv9tpal",
        "EeAma5-9x2ZX",
        "f1yDqfRWx5HH",
        "T-bot5USB10W",
        "jtQDbNZNIVXF",
        "Ne82jgeMJ_2j",
        "Kj7ISOeEMyz7",
        "CLOECjgfOHTJ",
        "4S1ERd5VOIQT",
        "R0-P21HqQt9t",
        "WNcw0gZOUpqC"
      ],
      "authorship_tag": "ABX9TyOW0DRi0SqVCnLvFJPjLEak",
      "include_colab_link": true
    },
    "kernelspec": {
      "name": "python3",
      "display_name": "Python 3"
    },
    "language_info": {
      "name": "python"
    },
    "gpuClass": "standard"
  },
  "cells": [
    {
      "cell_type": "markdown",
      "metadata": {
        "id": "view-in-github",
        "colab_type": "text"
      },
      "source": [
        "<a href=\"https://colab.research.google.com/github/smbonilla/learningPyTorch/blob/main/00_pyTorchFundamentals.ipynb\" target=\"_parent\"><img src=\"https://colab.research.google.com/assets/colab-badge.svg\" alt=\"Open In Colab\"/></a>"
      ]
    },
    {
      "cell_type": "markdown",
      "source": [
        "## 00. PyTorch Fundamentals\n",
        "\n",
        "### Resource notebook: https://colab.research.google.com/github/mrdbourke/pytorch-deep-learning/blob/main/00_pytorch_fundamentals.ipynb\n",
        "\n"
      ],
      "metadata": {
        "id": "7VBtilbdZZFL"
      }
    },
    {
      "cell_type": "code",
      "source": [
        "import torch \n",
        "import pandas as pd\n",
        "import numpy as np\n",
        "import matplotlib.pyplot as plt \n",
        "print(torch.__version__)"
      ],
      "metadata": {
        "colab": {
          "base_uri": "https://localhost:8080/"
        },
        "id": "gYI-VphQZv16",
        "outputId": "0698d968-1602-4ed8-9eba-1c4d69cc790c"
      },
      "execution_count": null,
      "outputs": [
        {
          "output_type": "stream",
          "name": "stdout",
          "text": [
            "1.12.1+cu113\n"
          ]
        }
      ]
    },
    {
      "cell_type": "markdown",
      "source": [
        "## Introduction to Tensors\n",
        "\n",
        "### Creating tensors\n",
        "\n",
        "PyTorch tensors are created using 'torch.tensor()' = https://pytorch.org/docs/stable/tensors.html"
      ],
      "metadata": {
        "id": "P5aZufOiadyu"
      }
    },
    {
      "cell_type": "code",
      "source": [
        "# scalar \n",
        "scalar = torch.tensor(7) \n",
        "scalar"
      ],
      "metadata": {
        "colab": {
          "base_uri": "https://localhost:8080/"
        },
        "id": "9UWcdLdia_dO",
        "outputId": "c145da86-dc89-4d76-ec27-0634889026ea"
      },
      "execution_count": null,
      "outputs": [
        {
          "output_type": "execute_result",
          "data": {
            "text/plain": [
              "tensor(7)"
            ]
          },
          "metadata": {},
          "execution_count": 2
        }
      ]
    },
    {
      "cell_type": "code",
      "source": [
        "scalar.ndim"
      ],
      "metadata": {
        "id": "wMGFpW1DbIz9",
        "colab": {
          "base_uri": "https://localhost:8080/"
        },
        "outputId": "829d70da-7eb4-421e-d64b-45d4afec59c4"
      },
      "execution_count": null,
      "outputs": [
        {
          "output_type": "execute_result",
          "data": {
            "text/plain": [
              "0"
            ]
          },
          "metadata": {},
          "execution_count": 4
        }
      ]
    },
    {
      "cell_type": "code",
      "source": [
        "# Get tensor back as Python int\n",
        "scalar.item()"
      ],
      "metadata": {
        "colab": {
          "base_uri": "https://localhost:8080/"
        },
        "id": "q9_sB4nwdNzX",
        "outputId": "631e5ec9-3303-4c28-db5a-e0a273eda4ee"
      },
      "execution_count": null,
      "outputs": [
        {
          "output_type": "execute_result",
          "data": {
            "text/plain": [
              "7"
            ]
          },
          "metadata": {},
          "execution_count": 6
        }
      ]
    },
    {
      "cell_type": "code",
      "source": [
        "# Vector\n",
        "vector = torch.tensor([7,7])\n",
        "vector"
      ],
      "metadata": {
        "colab": {
          "base_uri": "https://localhost:8080/"
        },
        "id": "YaTq9WDqdbL_",
        "outputId": "4f8f303c-0599-449c-eda3-15d1d4108774"
      },
      "execution_count": null,
      "outputs": [
        {
          "output_type": "execute_result",
          "data": {
            "text/plain": [
              "tensor([7, 7])"
            ]
          },
          "metadata": {},
          "execution_count": 9
        }
      ]
    },
    {
      "cell_type": "code",
      "source": [
        "vector.ndim"
      ],
      "metadata": {
        "colab": {
          "base_uri": "https://localhost:8080/"
        },
        "id": "I3nGXVKBdj6u",
        "outputId": "df5a9ed4-3aa7-4afa-dbfc-60f3e0ddb0ea"
      },
      "execution_count": null,
      "outputs": [
        {
          "output_type": "execute_result",
          "data": {
            "text/plain": [
              "1"
            ]
          },
          "metadata": {},
          "execution_count": 10
        }
      ]
    },
    {
      "cell_type": "code",
      "source": [
        "vector.shape"
      ],
      "metadata": {
        "colab": {
          "base_uri": "https://localhost:8080/"
        },
        "id": "Cai5CL1Xd2YL",
        "outputId": "28cd50bf-10dc-4073-8d0f-e0322986e0a8"
      },
      "execution_count": null,
      "outputs": [
        {
          "output_type": "execute_result",
          "data": {
            "text/plain": [
              "torch.Size([2])"
            ]
          },
          "metadata": {},
          "execution_count": 11
        }
      ]
    },
    {
      "cell_type": "code",
      "source": [
        "# Matrix \n",
        "MATRIX = torch.tensor([[7,8],[9,10]])\n",
        "MATRIX"
      ],
      "metadata": {
        "colab": {
          "base_uri": "https://localhost:8080/"
        },
        "id": "V28r6L8yd6h9",
        "outputId": "473f4caa-6d0e-4d4e-f393-ac5e25f4882e"
      },
      "execution_count": null,
      "outputs": [
        {
          "output_type": "execute_result",
          "data": {
            "text/plain": [
              "tensor([[ 7,  8],\n",
              "        [ 9, 10]])"
            ]
          },
          "metadata": {},
          "execution_count": 12
        }
      ]
    },
    {
      "cell_type": "code",
      "source": [
        "MATRIX.ndim"
      ],
      "metadata": {
        "colab": {
          "base_uri": "https://localhost:8080/"
        },
        "id": "-OhWgdsUeLyi",
        "outputId": "4c4d766b-cb8f-454d-f63d-2a29396e1c61"
      },
      "execution_count": null,
      "outputs": [
        {
          "output_type": "execute_result",
          "data": {
            "text/plain": [
              "2"
            ]
          },
          "metadata": {},
          "execution_count": 13
        }
      ]
    },
    {
      "cell_type": "code",
      "source": [
        "MATRIX[0]"
      ],
      "metadata": {
        "colab": {
          "base_uri": "https://localhost:8080/"
        },
        "id": "YwfMpzvaeQ-o",
        "outputId": "1a94c5d2-52c6-4fef-df3d-92b41298df14"
      },
      "execution_count": null,
      "outputs": [
        {
          "output_type": "execute_result",
          "data": {
            "text/plain": [
              "tensor([7, 8])"
            ]
          },
          "metadata": {},
          "execution_count": 14
        }
      ]
    },
    {
      "cell_type": "code",
      "source": [
        "MATRIX[0][0]"
      ],
      "metadata": {
        "colab": {
          "base_uri": "https://localhost:8080/"
        },
        "id": "WBhrdtQdeUAX",
        "outputId": "343c0885-c38e-4033-87c5-59594b0dbef2"
      },
      "execution_count": null,
      "outputs": [
        {
          "output_type": "execute_result",
          "data": {
            "text/plain": [
              "tensor(7)"
            ]
          },
          "metadata": {},
          "execution_count": 15
        }
      ]
    },
    {
      "cell_type": "code",
      "source": [
        "MATRIX.shape"
      ],
      "metadata": {
        "colab": {
          "base_uri": "https://localhost:8080/"
        },
        "id": "hESNr6OxeZkJ",
        "outputId": "bb1d0639-5f56-4f76-9012-ee31dd485672"
      },
      "execution_count": null,
      "outputs": [
        {
          "output_type": "execute_result",
          "data": {
            "text/plain": [
              "torch.Size([2, 2])"
            ]
          },
          "metadata": {},
          "execution_count": 16
        }
      ]
    },
    {
      "cell_type": "code",
      "source": [
        "# Tensor \n",
        "TENSOR = torch.tensor([[[1,2,3],[3,6,9],[2,4,5]]])\n",
        "TENSOR"
      ],
      "metadata": {
        "colab": {
          "base_uri": "https://localhost:8080/"
        },
        "id": "QRLlEvjzedmt",
        "outputId": "6421943f-764c-4907-e890-6cde57642cfc"
      },
      "execution_count": null,
      "outputs": [
        {
          "output_type": "execute_result",
          "data": {
            "text/plain": [
              "tensor([[[1, 2, 3],\n",
              "         [3, 6, 9],\n",
              "         [2, 4, 5]]])"
            ]
          },
          "metadata": {},
          "execution_count": 17
        }
      ]
    },
    {
      "cell_type": "code",
      "source": [
        "TENSOR.ndim"
      ],
      "metadata": {
        "colab": {
          "base_uri": "https://localhost:8080/"
        },
        "id": "X6-38Uzkev6H",
        "outputId": "41afbc1d-fd48-4bc5-eab4-868d6955fc36"
      },
      "execution_count": null,
      "outputs": [
        {
          "output_type": "execute_result",
          "data": {
            "text/plain": [
              "3"
            ]
          },
          "metadata": {},
          "execution_count": 19
        }
      ]
    },
    {
      "cell_type": "code",
      "source": [
        "TENSOR.shape"
      ],
      "metadata": {
        "colab": {
          "base_uri": "https://localhost:8080/"
        },
        "id": "yrZzY1PZe1fG",
        "outputId": "6f135e8a-8500-47bc-ca7a-5357fe595ed3"
      },
      "execution_count": null,
      "outputs": [
        {
          "output_type": "execute_result",
          "data": {
            "text/plain": [
              "torch.Size([1, 3, 3])"
            ]
          },
          "metadata": {},
          "execution_count": 20
        }
      ]
    },
    {
      "cell_type": "code",
      "source": [
        "TENSOR[0]"
      ],
      "metadata": {
        "colab": {
          "base_uri": "https://localhost:8080/"
        },
        "id": "Ej79T9Rae5zb",
        "outputId": "77f22dc2-fe54-4c5f-a74a-cb8711586907"
      },
      "execution_count": null,
      "outputs": [
        {
          "output_type": "execute_result",
          "data": {
            "text/plain": [
              "tensor([[1, 2, 3],\n",
              "        [3, 6, 9],\n",
              "        [2, 4, 5]])"
            ]
          },
          "metadata": {},
          "execution_count": 21
        }
      ]
    },
    {
      "cell_type": "markdown",
      "source": [
        "### Random tensors \n",
        "\n",
        "Random tensors are important because the way neural networks learn is that they start with tensors full of random numbers and adjust those random numbers to better represent the data. \n",
        "\n",
        "`Start with random numbers -> look at data -> update random numbers -> look at data -> update random numbers`"
      ],
      "metadata": {
        "id": "kD8niYDxh9PO"
      }
    },
    {
      "cell_type": "code",
      "source": [
        "# Creating a random tensor of size (3,4)\n",
        "\n",
        "randomTensor = torch.rand(3,4)\n",
        "randomTensor"
      ],
      "metadata": {
        "colab": {
          "base_uri": "https://localhost:8080/"
        },
        "id": "J1TJeDOhh9Cm",
        "outputId": "43de1a3a-fa29-4e16-ee1b-447775198b78"
      },
      "execution_count": null,
      "outputs": [
        {
          "output_type": "execute_result",
          "data": {
            "text/plain": [
              "tensor([[0.0396, 0.8355, 0.4940, 0.3736],\n",
              "        [0.0406, 0.3824, 0.5884, 0.0015],\n",
              "        [0.6177, 0.8371, 0.6627, 0.9909]])"
            ]
          },
          "metadata": {},
          "execution_count": 23
        }
      ]
    },
    {
      "cell_type": "code",
      "source": [
        "# Create a random tensor with similar shape to an image tensor\n",
        "\n",
        "randomImageSizeTensor = torch.rand(size=(224,224,3)) # height, width, color channel\n",
        "randomImageSizeTensor.shape, randomImageSizeTensor.ndim"
      ],
      "metadata": {
        "colab": {
          "base_uri": "https://localhost:8080/"
        },
        "id": "c4GB3daXj-dG",
        "outputId": "b9918d12-a608-406f-fe8d-277f960e8aa8"
      },
      "execution_count": null,
      "outputs": [
        {
          "output_type": "execute_result",
          "data": {
            "text/plain": [
              "(torch.Size([224, 224, 3]), 3)"
            ]
          },
          "metadata": {},
          "execution_count": 26
        }
      ]
    },
    {
      "cell_type": "code",
      "source": [
        "# Creating random tensor with shape (7,7)\n",
        "\n",
        "ex2 = torch.rand(7,7)\n",
        "ex2"
      ],
      "metadata": {
        "colab": {
          "base_uri": "https://localhost:8080/"
        },
        "id": "9byrEIc5fCCh",
        "outputId": "a1c5450b-345a-4d68-ac31-6f97e51bb9c1"
      },
      "execution_count": null,
      "outputs": [
        {
          "output_type": "execute_result",
          "data": {
            "text/plain": [
              "tensor([[0.6849, 0.7899, 0.1336, 0.8465, 0.8857, 0.9559, 0.9748],\n",
              "        [0.8496, 0.6856, 0.8066, 0.0180, 0.3068, 0.9088, 0.4513],\n",
              "        [0.2810, 0.7990, 0.8550, 0.0861, 0.6947, 0.1403, 0.7224],\n",
              "        [0.9814, 0.7013, 0.3932, 0.2535, 0.9206, 0.0709, 0.2179],\n",
              "        [0.0869, 0.5625, 0.2051, 0.6289, 0.4824, 0.1689, 0.4382],\n",
              "        [0.9134, 0.1194, 0.7051, 0.5184, 0.3654, 0.3620, 0.4304],\n",
              "        [0.3164, 0.3268, 0.4595, 0.6434, 0.7313, 0.8400, 0.6983]])"
            ]
          },
          "metadata": {},
          "execution_count": 22
        }
      ]
    },
    {
      "cell_type": "markdown",
      "source": [
        "### Zeros and Ones "
      ],
      "metadata": {
        "id": "XBsw2aJhh2Y6"
      }
    },
    {
      "cell_type": "code",
      "source": [
        "# Create a tensor of all zeros\n",
        "zeros = torch.zeros(size=(3,4))\n",
        "zeros "
      ],
      "metadata": {
        "colab": {
          "base_uri": "https://localhost:8080/"
        },
        "id": "pW1pX0fdlK57",
        "outputId": "662688c8-d984-4490-c59e-4938bca30cad"
      },
      "execution_count": null,
      "outputs": [
        {
          "output_type": "execute_result",
          "data": {
            "text/plain": [
              "tensor([[0., 0., 0., 0.],\n",
              "        [0., 0., 0., 0.],\n",
              "        [0., 0., 0., 0.]])"
            ]
          },
          "metadata": {},
          "execution_count": 27
        }
      ]
    },
    {
      "cell_type": "code",
      "source": [
        "zeros*randomTensor"
      ],
      "metadata": {
        "colab": {
          "base_uri": "https://localhost:8080/"
        },
        "id": "BuVX9iv4lK30",
        "outputId": "624cb5d5-8459-4602-e9de-e992551d197d"
      },
      "execution_count": null,
      "outputs": [
        {
          "output_type": "execute_result",
          "data": {
            "text/plain": [
              "tensor([[0., 0., 0., 0.],\n",
              "        [0., 0., 0., 0.],\n",
              "        [0., 0., 0., 0.]])"
            ]
          },
          "metadata": {},
          "execution_count": 29
        }
      ]
    },
    {
      "cell_type": "code",
      "source": [
        "# Create a tensor of all ones\n",
        "ones = torch.ones(size=(3,4))\n",
        "ones"
      ],
      "metadata": {
        "colab": {
          "base_uri": "https://localhost:8080/"
        },
        "id": "oXzdVNaTlK0z",
        "outputId": "a954f398-ea00-4b86-d71c-354d22c03c3f"
      },
      "execution_count": null,
      "outputs": [
        {
          "output_type": "execute_result",
          "data": {
            "text/plain": [
              "tensor([[1., 1., 1., 1.],\n",
              "        [1., 1., 1., 1.],\n",
              "        [1., 1., 1., 1.]])"
            ]
          },
          "metadata": {},
          "execution_count": 33
        }
      ]
    },
    {
      "cell_type": "markdown",
      "source": [
        "### Creating a range of tensors and tensors-like"
      ],
      "metadata": {
        "id": "T7fV4F4WlKyA"
      }
    },
    {
      "cell_type": "code",
      "source": [
        "# Use torch.range()\n",
        "\n",
        "oneToTen = torch.arange(start=1, end=11, step=1)\n",
        "oneToTen"
      ],
      "metadata": {
        "colab": {
          "base_uri": "https://localhost:8080/"
        },
        "id": "FtRG_74PlKvc",
        "outputId": "54a672c5-ea29-4066-f7dd-6b98a119a282"
      },
      "execution_count": null,
      "outputs": [
        {
          "output_type": "execute_result",
          "data": {
            "text/plain": [
              "tensor([ 1,  2,  3,  4,  5,  6,  7,  8,  9, 10])"
            ]
          },
          "metadata": {},
          "execution_count": 46
        }
      ]
    },
    {
      "cell_type": "code",
      "source": [
        "# Creating tensors like another tensor - same shape as oneToTen\n",
        "\n",
        "tenZeros = torch.zeros_like(oneToTen)\n",
        "tenZeros"
      ],
      "metadata": {
        "colab": {
          "base_uri": "https://localhost:8080/"
        },
        "id": "iJNI-qHSmcL6",
        "outputId": "ddf8b34d-4081-4a4f-90b6-bb86935d2235"
      },
      "execution_count": null,
      "outputs": [
        {
          "output_type": "execute_result",
          "data": {
            "text/plain": [
              "tensor([0, 0, 0, 0, 0, 0, 0, 0, 0, 0])"
            ]
          },
          "metadata": {},
          "execution_count": 47
        }
      ]
    },
    {
      "cell_type": "markdown",
      "source": [
        "### Tensor datatypes\n",
        "\n",
        "***Note:*** Tensory datatypes is one of the 3 biggest errors you might run into with PyTorch & deep learning:\n",
        "1. Tensors not right datatype\n",
        "2. Tensors not right shape\n",
        "3. Tensors not on the right device"
      ],
      "metadata": {
        "id": "3E2f2egMmeWL"
      }
    },
    {
      "cell_type": "code",
      "source": [
        "# Float 32 tensor\n",
        "float32Tensor = torch.tensor([3.0, 6.0, 9.0], \n",
        "                             dtype = None, # what datatype tensor is \n",
        "                             device = None, # by default device=\"cpu\" \n",
        "                             requires_grad=False) # track gradients as tensor goes through operations \n",
        "float32Tensor"
      ],
      "metadata": {
        "colab": {
          "base_uri": "https://localhost:8080/"
        },
        "id": "bwKrTfrAoYZ-",
        "outputId": "856a2e34-7de5-4408-e419-1c50e3e2fa80"
      },
      "execution_count": null,
      "outputs": [
        {
          "output_type": "execute_result",
          "data": {
            "text/plain": [
              "tensor([3., 6., 9.])"
            ]
          },
          "metadata": {},
          "execution_count": 54
        }
      ]
    },
    {
      "cell_type": "code",
      "source": [
        "float32Tensor.dtype"
      ],
      "metadata": {
        "colab": {
          "base_uri": "https://localhost:8080/"
        },
        "id": "-tC_COaBoYXJ",
        "outputId": "ab32e479-86be-459b-e901-a316a4094936"
      },
      "execution_count": null,
      "outputs": [
        {
          "output_type": "execute_result",
          "data": {
            "text/plain": [
              "torch.float32"
            ]
          },
          "metadata": {},
          "execution_count": 53
        }
      ]
    },
    {
      "cell_type": "code",
      "source": [
        "float16Tensor = float32Tensor.type(torch.float16) # change data type\n",
        "float16Tensor "
      ],
      "metadata": {
        "colab": {
          "base_uri": "https://localhost:8080/"
        },
        "id": "nqNJh0C0oYUW",
        "outputId": "bd34af3d-2339-43ca-fbf7-4566b6206ab7"
      },
      "execution_count": null,
      "outputs": [
        {
          "output_type": "execute_result",
          "data": {
            "text/plain": [
              "tensor([3., 6., 9.], dtype=torch.float16)"
            ]
          },
          "metadata": {},
          "execution_count": 56
        }
      ]
    },
    {
      "cell_type": "code",
      "source": [
        "float16Tensor*float32Tensor"
      ],
      "metadata": {
        "colab": {
          "base_uri": "https://localhost:8080/"
        },
        "id": "IXpynIMjoYRj",
        "outputId": "65502086-db38-4d58-d3b2-d44c61868b38"
      },
      "execution_count": null,
      "outputs": [
        {
          "output_type": "execute_result",
          "data": {
            "text/plain": [
              "tensor([ 9., 36., 81.])"
            ]
          },
          "metadata": {},
          "execution_count": 57
        }
      ]
    },
    {
      "cell_type": "code",
      "source": [
        "int32Tensor = torch.tensor([3, 6, 9], dtype = torch.int32)\n",
        "int32Tensor"
      ],
      "metadata": {
        "colab": {
          "base_uri": "https://localhost:8080/"
        },
        "id": "HSHP4hQGrU61",
        "outputId": "e82999b9-a4f3-438b-aba0-9d9cd10206e4"
      },
      "execution_count": null,
      "outputs": [
        {
          "output_type": "execute_result",
          "data": {
            "text/plain": [
              "tensor([3, 6, 9], dtype=torch.int32)"
            ]
          },
          "metadata": {},
          "execution_count": 63
        }
      ]
    },
    {
      "cell_type": "markdown",
      "source": [
        "### Getting information from tensors (tensor attributes)\n",
        "\n",
        "1. Tensors not right datatype - to get datatype from a tensor, can use `tensor.dtype`\n",
        "2. Tensors not right shape - to get shape from a tensor, can use `tensor.shape`\n",
        "3. Tensors not on the right device - to get device from a tensor, can use `tensor.device`"
      ],
      "metadata": {
        "id": "535TEkbkrdAo"
      }
    },
    {
      "cell_type": "code",
      "source": [
        "# Create a random tensor\n",
        "\n",
        "someTensor = torch.rand([3,4])\n",
        "someTensor"
      ],
      "metadata": {
        "colab": {
          "base_uri": "https://localhost:8080/"
        },
        "id": "6wfNmLTgrc5H",
        "outputId": "3ea52c36-2f49-400d-d8d7-8e021976776b"
      },
      "execution_count": null,
      "outputs": [
        {
          "output_type": "execute_result",
          "data": {
            "text/plain": [
              "tensor([[0.2655, 0.6278, 0.2500, 0.6135],\n",
              "        [0.8087, 0.5547, 0.5962, 0.8198],\n",
              "        [0.4740, 0.1925, 0.4861, 0.6150]])"
            ]
          },
          "metadata": {},
          "execution_count": 64
        }
      ]
    },
    {
      "cell_type": "code",
      "source": [
        "# Find out details about some tensor\n",
        "\n",
        "print(someTensor)\n",
        "print(f\"Datatype of tensor: {someTensor.dtype}\")\n",
        "print(f\"Shape of tensor: {someTensor.shape}\") # can use someTensor.size() or someTensor.shape\n",
        "print(f\"Device tensor is on: {someTensor.device}\")"
      ],
      "metadata": {
        "colab": {
          "base_uri": "https://localhost:8080/"
        },
        "id": "oucJ5bWVrczQ",
        "outputId": "e6035884-c44c-4600-cef7-c5d19dfc2a3e"
      },
      "execution_count": null,
      "outputs": [
        {
          "output_type": "stream",
          "name": "stdout",
          "text": [
            "tensor([[0.2655, 0.6278, 0.2500, 0.6135],\n",
            "        [0.8087, 0.5547, 0.5962, 0.8198],\n",
            "        [0.4740, 0.1925, 0.4861, 0.6150]])\n",
            "Datatype of tensor: torch.float32\n",
            "Shape of tensor: torch.Size([3, 4])\n",
            "Device tensor is on: cpu\n"
          ]
        }
      ]
    },
    {
      "cell_type": "markdown",
      "source": [
        "### Manipulating tensors (tensor operations)\n",
        "\n",
        "Tensor operations include:\n",
        "* addition\n",
        "* subtraction\n",
        "* multiplication (element-wise)\n",
        "* division\n",
        "* matrix multiplication "
      ],
      "metadata": {
        "id": "3yjjl74frcul"
      }
    },
    {
      "cell_type": "code",
      "source": [
        "# addition\n",
        "\n",
        "tensor = torch.tensor([1,2,3])\n",
        "tensor + 10"
      ],
      "metadata": {
        "colab": {
          "base_uri": "https://localhost:8080/"
        },
        "id": "-Rq9r0lgtpwP",
        "outputId": "6cf900b2-8ea0-4c1a-fc3b-1705d23eef3c"
      },
      "execution_count": null,
      "outputs": [
        {
          "output_type": "execute_result",
          "data": {
            "text/plain": [
              "tensor([11, 12, 13])"
            ]
          },
          "metadata": {},
          "execution_count": 75
        }
      ]
    },
    {
      "cell_type": "code",
      "source": [
        "# multiplication\n",
        "\n",
        "tensor * 10"
      ],
      "metadata": {
        "colab": {
          "base_uri": "https://localhost:8080/"
        },
        "id": "KGVKP12qtpp9",
        "outputId": "224f2eb1-9a8e-43e3-9f54-63030bac339e"
      },
      "execution_count": null,
      "outputs": [
        {
          "output_type": "execute_result",
          "data": {
            "text/plain": [
              "tensor([10, 20, 30])"
            ]
          },
          "metadata": {},
          "execution_count": 76
        }
      ]
    },
    {
      "cell_type": "code",
      "source": [
        "# subtraction\n",
        "\n",
        "tensor - 10"
      ],
      "metadata": {
        "colab": {
          "base_uri": "https://localhost:8080/"
        },
        "id": "_0EpUgdTtpgu",
        "outputId": "b0ed4563-cfb6-4d54-84fa-e7a0aa9ac5fc"
      },
      "execution_count": null,
      "outputs": [
        {
          "output_type": "execute_result",
          "data": {
            "text/plain": [
              "tensor([ 90, 190, 290])"
            ]
          },
          "metadata": {},
          "execution_count": 70
        }
      ]
    },
    {
      "cell_type": "code",
      "source": [
        "# try out PyTorch in-built functions\n",
        "\n",
        "torch.mul(tensor,10), torch.add(tensor,10), torch.sub(tensor,10)"
      ],
      "metadata": {
        "colab": {
          "base_uri": "https://localhost:8080/"
        },
        "id": "FWIDa81wtpdd",
        "outputId": "91dafde6-7c34-4d36-f9c4-c8630d519aad"
      },
      "execution_count": null,
      "outputs": [
        {
          "output_type": "execute_result",
          "data": {
            "text/plain": [
              "(tensor([1000, 2000, 3000]), tensor([110, 210, 310]), tensor([ 90, 190, 290]))"
            ]
          },
          "metadata": {},
          "execution_count": 73
        }
      ]
    },
    {
      "cell_type": "markdown",
      "source": [
        "### Matrix Multiplication\n",
        "\n",
        "two main ways of performing multiplication in neural networks and deep learning:\n",
        "1. Element-wise multiplication \n",
        "2. Matrix multiplication (dot product)\n",
        "\n",
        "There are two main rules for performing matrix multiplication: \n",
        "1. The **inner dimensions** must match\n",
        "2. The resulting matrix has the shape of the **outer dimensions** "
      ],
      "metadata": {
        "id": "9ZgLGWv9tpal"
      }
    },
    {
      "cell_type": "code",
      "source": [
        "# Element-wise multiplication \n",
        "print(tensor, '*', tensor)\n",
        "print(f\"Equals: {tensor*tensor}\")"
      ],
      "metadata": {
        "colab": {
          "base_uri": "https://localhost:8080/"
        },
        "id": "Wy4ukdzHtpWr",
        "outputId": "40c92e8a-7b7d-4c30-835c-7cce11de91fd"
      },
      "execution_count": null,
      "outputs": [
        {
          "output_type": "stream",
          "name": "stdout",
          "text": [
            "tensor([1, 2, 3]) * tensor([1, 2, 3])\n",
            "Equals: tensor([1, 4, 9])\n"
          ]
        }
      ]
    },
    {
      "cell_type": "code",
      "source": [
        "# Matrix multiplication\n",
        "torch.matmul(tensor, tensor)"
      ],
      "metadata": {
        "colab": {
          "base_uri": "https://localhost:8080/"
        },
        "id": "hxWc2jDMvge_",
        "outputId": "7858560f-59e7-4d12-fa92-b52330bf1d03"
      },
      "execution_count": null,
      "outputs": [
        {
          "output_type": "execute_result",
          "data": {
            "text/plain": [
              "tensor(14)"
            ]
          },
          "metadata": {},
          "execution_count": 79
        }
      ]
    },
    {
      "cell_type": "markdown",
      "source": [
        "### Shape Errors"
      ],
      "metadata": {
        "id": "EeAma5-9x2ZX"
      }
    },
    {
      "cell_type": "code",
      "source": [
        "# shapes for matrix multiplication \n",
        "\n",
        "tensorA = torch.tensor([[1,2],\n",
        "                        [3,4],\n",
        "                        [5,6]])\n",
        "\n",
        "tensorB = torch.tensor([[7,10],\n",
        "                        [8,11],\n",
        "                        [9,12]])\n",
        "\n",
        "torch.mm(tensorA,tensorB.T) # torch.mm is the same as torch.matmul "
      ],
      "metadata": {
        "colab": {
          "base_uri": "https://localhost:8080/"
        },
        "id": "fOKoqtySx5P_",
        "outputId": "87c27245-0a30-4ac5-f8ee-cb5e4d4235b0"
      },
      "execution_count": null,
      "outputs": [
        {
          "output_type": "execute_result",
          "data": {
            "text/plain": [
              "tensor([[ 27,  30,  33],\n",
              "        [ 61,  68,  75],\n",
              "        [ 95, 106, 117]])"
            ]
          },
          "metadata": {},
          "execution_count": 85
        }
      ]
    },
    {
      "cell_type": "code",
      "source": [
        "tensorB.T, tensorB.T.shape # transpose tensor"
      ],
      "metadata": {
        "colab": {
          "base_uri": "https://localhost:8080/"
        },
        "id": "b3W3kEErx5Kp",
        "outputId": "d81d9030-ccac-49a2-a849-10cef52ff6c6"
      },
      "execution_count": null,
      "outputs": [
        {
          "output_type": "execute_result",
          "data": {
            "text/plain": [
              "(tensor([[ 7,  8,  9],\n",
              "         [10, 11, 12]]), torch.Size([2, 3]))"
            ]
          },
          "metadata": {},
          "execution_count": 87
        }
      ]
    },
    {
      "cell_type": "markdown",
      "source": [
        "### Finding the min, max, mean, sum, etc (tensor aggregation)"
      ],
      "metadata": {
        "id": "f1yDqfRWx5HH"
      }
    },
    {
      "cell_type": "code",
      "source": [
        "# Create a tensor\n",
        "\n",
        "x = torch.arange(0, 100, 10)\n",
        "x, x.dtype"
      ],
      "metadata": {
        "colab": {
          "base_uri": "https://localhost:8080/"
        },
        "id": "cBtwQ5bey5H_",
        "outputId": "b1184d03-d9f4-4a5a-8ee3-bb709e4a493d"
      },
      "execution_count": null,
      "outputs": [
        {
          "output_type": "execute_result",
          "data": {
            "text/plain": [
              "(tensor([ 0, 10, 20, 30, 40, 50, 60, 70, 80, 90]), torch.int64)"
            ]
          },
          "metadata": {},
          "execution_count": 92
        }
      ]
    },
    {
      "cell_type": "code",
      "source": [
        "# find the min\n",
        "\n",
        "torch.min(x), x.min()"
      ],
      "metadata": {
        "colab": {
          "base_uri": "https://localhost:8080/"
        },
        "id": "h0lWrMqdy5C1",
        "outputId": "e91ef48e-a887-46d5-cb07-fc3f5323f2c0"
      },
      "execution_count": null,
      "outputs": [
        {
          "output_type": "execute_result",
          "data": {
            "text/plain": [
              "(tensor(0), tensor(0))"
            ]
          },
          "metadata": {},
          "execution_count": 89
        }
      ]
    },
    {
      "cell_type": "code",
      "source": [
        "# find the max\n",
        "\n",
        "torch.max(x), x.max()"
      ],
      "metadata": {
        "colab": {
          "base_uri": "https://localhost:8080/"
        },
        "id": "FQVbt2MTy498",
        "outputId": "c704b9dd-eb28-40f3-c214-4cadfd6ef95f"
      },
      "execution_count": null,
      "outputs": [
        {
          "output_type": "execute_result",
          "data": {
            "text/plain": [
              "(tensor(90), tensor(90))"
            ]
          },
          "metadata": {},
          "execution_count": 90
        }
      ]
    },
    {
      "cell_type": "code",
      "source": [
        "# find the mean - note: the torch.mean() fun requires a tensor of float32 datatype to work\n",
        "\n",
        "torch.mean(x.type(torch.float32)), x.type(torch.float32).mean()"
      ],
      "metadata": {
        "colab": {
          "base_uri": "https://localhost:8080/"
        },
        "id": "sFQhdO2a0vzy",
        "outputId": "0508d7f4-96c8-41f9-f458-13474af5458f"
      },
      "execution_count": null,
      "outputs": [
        {
          "output_type": "execute_result",
          "data": {
            "text/plain": [
              "(tensor(45.), tensor(45.))"
            ]
          },
          "metadata": {},
          "execution_count": 94
        }
      ]
    },
    {
      "cell_type": "code",
      "source": [
        "# find the sum\n",
        "\n",
        "torch.sum(x), x.sum()"
      ],
      "metadata": {
        "colab": {
          "base_uri": "https://localhost:8080/"
        },
        "id": "wJckbbhrB19_",
        "outputId": "a51c0da0-25b0-4548-b267-f59e9229a670"
      },
      "execution_count": null,
      "outputs": [
        {
          "output_type": "execute_result",
          "data": {
            "text/plain": [
              "(tensor(450), tensor(450))"
            ]
          },
          "metadata": {},
          "execution_count": 95
        }
      ]
    },
    {
      "cell_type": "code",
      "source": [
        "# find position of max \n",
        "\n",
        "torch.argmax(x), x.argmax()"
      ],
      "metadata": {
        "colab": {
          "base_uri": "https://localhost:8080/"
        },
        "id": "poPNz6fhB16p",
        "outputId": "3944442e-1096-450c-907d-2bf5ff490431"
      },
      "execution_count": null,
      "outputs": [
        {
          "output_type": "execute_result",
          "data": {
            "text/plain": [
              "(tensor(9), tensor(9))"
            ]
          },
          "metadata": {},
          "execution_count": 96
        }
      ]
    },
    {
      "cell_type": "code",
      "source": [
        "# find position of min\n",
        "\n",
        "torch.argmin(x), x.argmin()"
      ],
      "metadata": {
        "colab": {
          "base_uri": "https://localhost:8080/"
        },
        "id": "paP4NuUtB13n",
        "outputId": "30b62ef2-a75c-49a8-86c2-657aa201efde"
      },
      "execution_count": null,
      "outputs": [
        {
          "output_type": "execute_result",
          "data": {
            "text/plain": [
              "(tensor(0), tensor(0))"
            ]
          },
          "metadata": {},
          "execution_count": 97
        }
      ]
    },
    {
      "cell_type": "markdown",
      "source": [
        "### Reshaping, stacking, squeezing, and unsqueezing tensors\n",
        "\n",
        "* Reshaping - reshapes an input tensor to a defined shape \n",
        "* View - return a view of an input tensor of certain shape but keep same memory as the original tensor\n",
        "* Stacking - combine multiple tensors on top of each other (vstack) or side by side (hstack)\n",
        "* Squeeze - removes all `1` dimensions from a tensor\n",
        "* Unsqueeze - add a `1` dimension to a target tensor\n",
        "* Permute - return a view of the input with dimensions permuted (Swapped) in a certain way "
      ],
      "metadata": {
        "id": "T-bot5USB10W"
      }
    },
    {
      "cell_type": "code",
      "source": [
        "# create a tensor \n",
        "\n",
        "x = torch.arange(1.,10.)\n",
        "x,x.shape"
      ],
      "metadata": {
        "colab": {
          "base_uri": "https://localhost:8080/"
        },
        "id": "czkUaluT0vt9",
        "outputId": "6ca3ddaf-abc8-45a0-fe8c-d86260690da8"
      },
      "execution_count": null,
      "outputs": [
        {
          "output_type": "execute_result",
          "data": {
            "text/plain": [
              "(tensor([1., 2., 3., 4., 5., 6., 7., 8., 9.]), torch.Size([9]))"
            ]
          },
          "metadata": {},
          "execution_count": 115
        }
      ]
    },
    {
      "cell_type": "code",
      "source": [
        "# add an extra dimension\n",
        "\n",
        "xReshaped = x.reshape(9,1)\n",
        "xReshaped, xReshaped.shape"
      ],
      "metadata": {
        "colab": {
          "base_uri": "https://localhost:8080/"
        },
        "id": "KugT0peHDNcZ",
        "outputId": "110d2eb1-ac45-4028-890a-7826e47b0962"
      },
      "execution_count": null,
      "outputs": [
        {
          "output_type": "execute_result",
          "data": {
            "text/plain": [
              "(tensor([[1.],\n",
              "         [2.],\n",
              "         [3.],\n",
              "         [4.],\n",
              "         [5.],\n",
              "         [6.],\n",
              "         [7.],\n",
              "         [8.],\n",
              "         [9.]]), torch.Size([9, 1]))"
            ]
          },
          "metadata": {},
          "execution_count": 106
        }
      ]
    },
    {
      "cell_type": "code",
      "source": [
        "# change the view \n",
        "\n",
        "z = x.view(9,1)\n",
        "z, z.shape"
      ],
      "metadata": {
        "colab": {
          "base_uri": "https://localhost:8080/"
        },
        "id": "ktGIYEcfEZZi",
        "outputId": "1487faa6-9088-41bd-a93f-fccc9c57c1ca"
      },
      "execution_count": null,
      "outputs": [
        {
          "output_type": "execute_result",
          "data": {
            "text/plain": [
              "(tensor([[1.],\n",
              "         [2.],\n",
              "         [3.],\n",
              "         [4.],\n",
              "         [5.],\n",
              "         [6.],\n",
              "         [7.],\n",
              "         [8.],\n",
              "         [9.]]), torch.Size([9, 1]))"
            ]
          },
          "metadata": {},
          "execution_count": 117
        }
      ]
    },
    {
      "cell_type": "code",
      "source": [
        "# changing z changes x (because a view of a tensor shares the same memory as the original tensor)\n",
        "\n",
        "z[0,:] = 5\n",
        "z,x"
      ],
      "metadata": {
        "colab": {
          "base_uri": "https://localhost:8080/"
        },
        "id": "_xaittS1EZWx",
        "outputId": "530151e3-4f30-4e85-cef0-e7252cd04b5e"
      },
      "execution_count": null,
      "outputs": [
        {
          "output_type": "execute_result",
          "data": {
            "text/plain": [
              "(tensor([[5.],\n",
              "         [2.],\n",
              "         [3.],\n",
              "         [4.],\n",
              "         [5.],\n",
              "         [6.],\n",
              "         [7.],\n",
              "         [8.],\n",
              "         [9.]]), tensor([5., 2., 3., 4., 5., 6., 7., 8., 9.]))"
            ]
          },
          "metadata": {},
          "execution_count": 118
        }
      ]
    },
    {
      "cell_type": "code",
      "source": [
        "# stack tensors on top of each other\n",
        "\n",
        "xStacked = torch.stack([x, x, x, x], dim = 1)\n",
        "xStacked"
      ],
      "metadata": {
        "colab": {
          "base_uri": "https://localhost:8080/"
        },
        "id": "8heBKlRaEZT7",
        "outputId": "fc742571-e153-49dc-afcd-dbcf66426c09"
      },
      "execution_count": null,
      "outputs": [
        {
          "output_type": "execute_result",
          "data": {
            "text/plain": [
              "tensor([[5., 5., 5., 5.],\n",
              "        [2., 2., 2., 2.],\n",
              "        [3., 3., 3., 3.],\n",
              "        [4., 4., 4., 4.],\n",
              "        [5., 5., 5., 5.],\n",
              "        [6., 6., 6., 6.],\n",
              "        [7., 7., 7., 7.],\n",
              "        [8., 8., 8., 8.],\n",
              "        [9., 9., 9., 9.]])"
            ]
          },
          "metadata": {},
          "execution_count": 119
        }
      ]
    },
    {
      "cell_type": "code",
      "source": [
        "# squeeze tensors (removes all single dimensions frmo a target tensor)\n",
        "\n",
        "xSqueeze = xReshaped.T.squeeze()\n",
        "\n",
        "xReshaped.T.squeeze().shape, xReshaped.T.shape"
      ],
      "metadata": {
        "colab": {
          "base_uri": "https://localhost:8080/"
        },
        "id": "Bs9EY7OjDNUK",
        "outputId": "b3374961-8931-46bb-d6d4-bd506415eafb"
      },
      "execution_count": null,
      "outputs": [
        {
          "output_type": "execute_result",
          "data": {
            "text/plain": [
              "(torch.Size([9]), torch.Size([1, 9]))"
            ]
          },
          "metadata": {},
          "execution_count": 126
        }
      ]
    },
    {
      "cell_type": "code",
      "source": [
        "# unsqueeze tensors (adds a single dimension to a target tensor at a specific dim)\n",
        "\n",
        "xUnsqueeze = xSqueeze.unsqueeze(dim=0)\n",
        "xUnsqueeze, xUnsqueeze.shape"
      ],
      "metadata": {
        "colab": {
          "base_uri": "https://localhost:8080/"
        },
        "id": "E3zPQm5iDNRI",
        "outputId": "788857e3-0663-4c27-c933-3338f2dbb401"
      },
      "execution_count": null,
      "outputs": [
        {
          "output_type": "execute_result",
          "data": {
            "text/plain": [
              "(tensor([[5., 5., 5., 5., 5., 5., 5., 5., 5.]]), torch.Size([1, 9]))"
            ]
          },
          "metadata": {},
          "execution_count": 128
        }
      ]
    },
    {
      "cell_type": "code",
      "source": [
        "# permute - torch.permute rearranges the dimensions of a target tensor - returns a view\n",
        "\n",
        "xOriginal = torch.rand(size=(224, 224, 3)) # [height, width, colorChannels]\n",
        "\n",
        "# permute original tensor to rearrange the axis (or dim) order \n",
        "\n",
        "xPermute = torch.permute(xOriginal, [2, 0 , 1]) # or xOriginal.permute(2,0,1)\n",
        "\n",
        "print(f\"Previous shape: {xOriginal.shape}\")\n",
        "print(f\"Previous shape: {xPermute.size()}\") # if you change xPermute, it changes xOriginal as well"
      ],
      "metadata": {
        "colab": {
          "base_uri": "https://localhost:8080/"
        },
        "id": "G4i6OL_iDNN3",
        "outputId": "a61af4f4-616c-4d77-ab85-7a206646b3e3"
      },
      "execution_count": null,
      "outputs": [
        {
          "output_type": "stream",
          "name": "stdout",
          "text": [
            "Previous shape: torch.Size([224, 224, 3])\n",
            "Previous shape: torch.Size([3, 224, 224])\n"
          ]
        }
      ]
    },
    {
      "cell_type": "markdown",
      "source": [
        "### Indexing (selecting data from tensors)\n",
        "\n",
        "indexing with PyTorch is similar to indexing with Numpy. "
      ],
      "metadata": {
        "id": "jtQDbNZNIVXF"
      }
    },
    {
      "cell_type": "code",
      "source": [
        "# Create a tensor\n",
        "\n",
        "x = torch.arange(1,10).reshape(1,3,3)\n",
        "x,x.shape"
      ],
      "metadata": {
        "colab": {
          "base_uri": "https://localhost:8080/"
        },
        "id": "6boRaxaKIVRd",
        "outputId": "547118da-8f91-4e56-980c-539ccdac6b8a"
      },
      "execution_count": null,
      "outputs": [
        {
          "output_type": "execute_result",
          "data": {
            "text/plain": [
              "(tensor([[[1, 2, 3],\n",
              "          [4, 5, 6],\n",
              "          [7, 8, 9]]]), torch.Size([1, 3, 3]))"
            ]
          },
          "metadata": {},
          "execution_count": 135
        }
      ]
    },
    {
      "cell_type": "code",
      "source": [
        "# Index on our new tensor\n",
        "\n",
        "x[0][0][0], x[0,0,0]"
      ],
      "metadata": {
        "colab": {
          "base_uri": "https://localhost:8080/"
        },
        "id": "yT-SLyTWIVOw",
        "outputId": "0a68c5e8-8830-4974-f8c6-165bf0d343fd"
      },
      "execution_count": null,
      "outputs": [
        {
          "output_type": "execute_result",
          "data": {
            "text/plain": [
              "(tensor(1), tensor(1))"
            ]
          },
          "metadata": {},
          "execution_count": 140
        }
      ]
    },
    {
      "cell_type": "code",
      "source": [
        "# get number 9 \n",
        "\n",
        "x[0][2][2], x[:,2,2]"
      ],
      "metadata": {
        "colab": {
          "base_uri": "https://localhost:8080/"
        },
        "id": "ihagubMFIVL3",
        "outputId": "ada0bf32-d652-4a9b-d94a-4a9bee717fd4"
      },
      "execution_count": null,
      "outputs": [
        {
          "output_type": "execute_result",
          "data": {
            "text/plain": [
              "(tensor(9), tensor([9]))"
            ]
          },
          "metadata": {},
          "execution_count": 149
        }
      ]
    },
    {
      "cell_type": "code",
      "source": [
        "# get all values of 0th and 1st dim but only index 1 of 2nd dim\n",
        "\n",
        "x[:,:,1]"
      ],
      "metadata": {
        "colab": {
          "base_uri": "https://localhost:8080/"
        },
        "id": "sPiGJajmIVIV",
        "outputId": "44238a47-3fd6-446b-b81e-78d8ba0a1a66"
      },
      "execution_count": null,
      "outputs": [
        {
          "output_type": "execute_result",
          "data": {
            "text/plain": [
              "tensor([[2, 5, 8]])"
            ]
          },
          "metadata": {},
          "execution_count": 146
        }
      ]
    },
    {
      "cell_type": "code",
      "source": [
        "# get all values of 0 dimension but only 1 index of 1st and 2nd dim\n",
        "\n",
        "x[:, 1, 1]"
      ],
      "metadata": {
        "colab": {
          "base_uri": "https://localhost:8080/"
        },
        "id": "RySDzXhWKAFC",
        "outputId": "2f241f1b-c723-4fd7-c33a-412e35d8ffe5"
      },
      "execution_count": null,
      "outputs": [
        {
          "output_type": "execute_result",
          "data": {
            "text/plain": [
              "tensor([5])"
            ]
          },
          "metadata": {},
          "execution_count": 147
        }
      ]
    },
    {
      "cell_type": "code",
      "source": [
        "# get index 0 of 0th and 1st dimension and all values of 2nd dim\n",
        "\n",
        "x[0, 0, :]"
      ],
      "metadata": {
        "colab": {
          "base_uri": "https://localhost:8080/"
        },
        "id": "O5qkROelJ_9i",
        "outputId": "e5b5c876-40e8-4b75-d0b3-676580e2b78a"
      },
      "execution_count": null,
      "outputs": [
        {
          "output_type": "execute_result",
          "data": {
            "text/plain": [
              "tensor([1, 2, 3])"
            ]
          },
          "metadata": {},
          "execution_count": 148
        }
      ]
    },
    {
      "cell_type": "code",
      "source": [
        "# get 3,6,9\n",
        "\n",
        "x[:,:,2]"
      ],
      "metadata": {
        "colab": {
          "base_uri": "https://localhost:8080/"
        },
        "id": "tfu_pmxIJ_50",
        "outputId": "4312fa6b-5f34-4139-d84b-89df719ea187"
      },
      "execution_count": null,
      "outputs": [
        {
          "output_type": "execute_result",
          "data": {
            "text/plain": [
              "tensor([[3, 6, 9]])"
            ]
          },
          "metadata": {},
          "execution_count": 153
        }
      ]
    },
    {
      "cell_type": "markdown",
      "source": [
        "### PyTorch tensors & NumPy \n",
        "\n",
        "Numpy is a popular scientific Python numerical computing library - PyTorch has functionality to interact with it.\n",
        "\n",
        "* Data in NumPy, want in PyTorch tensor -> `torch.from_numpy(ndarray)`\n",
        "* PyTorch tensor, want Numpy -> `torch.Tensor.numpy()`\n"
      ],
      "metadata": {
        "id": "Ne82jgeMJ_2j"
      }
    },
    {
      "cell_type": "code",
      "source": [
        "# numpy array to tensor \n",
        "\n",
        "array = np.arange(1.0, 8.0)\n",
        "tensor = torch.from_numpy(array) # if you want torch.from_numpy(array).dtype(float32)\n",
        "array, tensor"
      ],
      "metadata": {
        "colab": {
          "base_uri": "https://localhost:8080/"
        },
        "id": "B-44zimTMy9P",
        "outputId": "b690bd40-5195-4846-9bec-25dbca1066be"
      },
      "execution_count": null,
      "outputs": [
        {
          "output_type": "execute_result",
          "data": {
            "text/plain": [
              "(array([1., 2., 3., 4., 5., 6., 7.]),\n",
              " tensor([1., 2., 3., 4., 5., 6., 7.], dtype=torch.float64))"
            ]
          },
          "metadata": {},
          "execution_count": 155
        }
      ]
    },
    {
      "cell_type": "code",
      "source": [
        "# change the value of the array, what will this do to the `tensor`?\n",
        "\n",
        "array = array + 1 \n",
        "\n",
        "tensor # tensor does not change"
      ],
      "metadata": {
        "colab": {
          "base_uri": "https://localhost:8080/"
        },
        "id": "oQFiYNs6My6M",
        "outputId": "06c0dc0d-1249-4600-cd1a-e031abaabdb5"
      },
      "execution_count": null,
      "outputs": [
        {
          "output_type": "execute_result",
          "data": {
            "text/plain": [
              "tensor([1., 2., 3., 4., 5., 6., 7.], dtype=torch.float64)"
            ]
          },
          "metadata": {},
          "execution_count": 156
        }
      ]
    },
    {
      "cell_type": "code",
      "source": [
        "# tensor to NumPy array \n",
        "\n",
        "tensor = torch.ones(7)\n",
        "numpyTensor = tensor.numpy()\n",
        "tensor, numpyTensor"
      ],
      "metadata": {
        "colab": {
          "base_uri": "https://localhost:8080/"
        },
        "id": "MIaE1j2uMy3N",
        "outputId": "3fa3a9e6-ef08-4168-8d0e-ab183856cf67"
      },
      "execution_count": null,
      "outputs": [
        {
          "output_type": "execute_result",
          "data": {
            "text/plain": [
              "(tensor([1., 1., 1., 1., 1., 1., 1.]),\n",
              " array([1., 1., 1., 1., 1., 1., 1.], dtype=float32))"
            ]
          },
          "metadata": {},
          "execution_count": 158
        }
      ]
    },
    {
      "cell_type": "markdown",
      "source": [
        "### Reproducibility (trying to take random out of random)\n",
        "\n",
        "To reduce the randomness in neural networks and PyTorch comes the concept of a **random seed**. \n",
        "\n",
        "Essentually what the random seed does is \"flavour\" the randomness. "
      ],
      "metadata": {
        "id": "Kj7ISOeEMyz7"
      }
    },
    {
      "cell_type": "code",
      "source": [
        "# create two random tensors\n",
        "\n",
        "randA = torch.rand(3,4)\n",
        "randB = torch.rand(3,4)\n",
        "\n",
        "print(randA)\n",
        "print(randB)\n",
        "print(randA == randB)"
      ],
      "metadata": {
        "colab": {
          "base_uri": "https://localhost:8080/"
        },
        "id": "CjiPvncROHZD",
        "outputId": "bbf0fe6b-6332-42ea-e108-41c679ad7873"
      },
      "execution_count": null,
      "outputs": [
        {
          "output_type": "stream",
          "name": "stdout",
          "text": [
            "tensor([[0.7131, 0.7484, 0.9672, 0.4200],\n",
            "        [0.5483, 0.7565, 0.5915, 0.0044],\n",
            "        [0.5854, 0.6305, 0.7533, 0.9427]])\n",
            "tensor([[0.1331, 0.9609, 0.6403, 0.0578],\n",
            "        [0.7206, 0.9557, 0.9212, 0.6507],\n",
            "        [0.8561, 0.7665, 0.5256, 0.3988]])\n",
            "tensor([[False, False, False, False],\n",
            "        [False, False, False, False],\n",
            "        [False, False, False, False]])\n"
          ]
        }
      ]
    },
    {
      "cell_type": "code",
      "source": [
        "# let's make some random but reproducible tensors \n",
        "\n",
        "# set random seed \n",
        "RANDOM_SEED = 42\n",
        "\n",
        "torch.manual_seed(RANDOM_SEED)\n",
        "randC = torch.rand(3,4)\n",
        "\n",
        "torch.manual_seed(RANDOM_SEED)\n",
        "randD = torch.rand(3,4)\n",
        "\n",
        "print(randC)\n",
        "print(randD)\n",
        "print(randC == randD)"
      ],
      "metadata": {
        "colab": {
          "base_uri": "https://localhost:8080/"
        },
        "id": "eIdFjYZ7OHWO",
        "outputId": "4ce1419e-c825-4d6f-dcf6-c0b358a16c11"
      },
      "execution_count": null,
      "outputs": [
        {
          "output_type": "stream",
          "name": "stdout",
          "text": [
            "tensor([[0.8823, 0.9150, 0.3829, 0.9593],\n",
            "        [0.3904, 0.6009, 0.2566, 0.7936],\n",
            "        [0.9408, 0.1332, 0.9346, 0.5936]])\n",
            "tensor([[0.8823, 0.9150, 0.3829, 0.9593],\n",
            "        [0.3904, 0.6009, 0.2566, 0.7936],\n",
            "        [0.9408, 0.1332, 0.9346, 0.5936]])\n",
            "tensor([[True, True, True, True],\n",
            "        [True, True, True, True],\n",
            "        [True, True, True, True]])\n"
          ]
        }
      ]
    },
    {
      "cell_type": "markdown",
      "source": [
        "### Running tensors and PyTorch objects on the GPUs (and making faster computations)\n",
        "\n",
        "GPUS = faster computation on numbers, thanks to CUDA + NVIDIA hardware +PyTorch working behind the scenes making everything nice\n",
        "\n"
      ],
      "metadata": {
        "id": "CLOECjgfOHTJ"
      }
    },
    {
      "cell_type": "markdown",
      "source": [
        "### 1. Getting a GPU\n",
        "\n",
        "1. Easiest - Use google colab for a free GPU (options to upgrade)\n",
        "2. Get your own GPU - requires set up and investment - The best GPUS for deep learning 2020 timm dettmers\n",
        "3. Use cloud computing - GCP, AWS, Azure, digital oceans, services allow you to rent computers on the cloud\n",
        "\n"
      ],
      "metadata": {
        "id": "4S1ERd5VOIQT"
      }
    },
    {
      "cell_type": "markdown",
      "source": [
        "### 2. Check for GPU access with PyTorch"
      ],
      "metadata": {
        "id": "R0-P21HqQt9t"
      }
    },
    {
      "cell_type": "code",
      "source": [
        "# check for GPU access with PyTorch --> change runtime type\n",
        "\n",
        "import torch \n",
        "torch.cuda.is_available()"
      ],
      "metadata": {
        "colab": {
          "base_uri": "https://localhost:8080/"
        },
        "id": "efSK_arKQt19",
        "outputId": "98033ce8-78aa-4339-8ca9-f31359056d4d"
      },
      "execution_count": null,
      "outputs": [
        {
          "output_type": "execute_result",
          "data": {
            "text/plain": [
              "True"
            ]
          },
          "metadata": {},
          "execution_count": 1
        }
      ]
    },
    {
      "cell_type": "code",
      "source": [
        "# setup device agnostic code --> run on GPU if available, else default to CPU \n",
        "\n",
        "device = \"cuda\" if torch.cuda.is_available() else \"cpu\"\n",
        "device"
      ],
      "metadata": {
        "colab": {
          "base_uri": "https://localhost:8080/",
          "height": 35
        },
        "id": "ijPPdf9qQtzL",
        "outputId": "747a4e1b-3dfb-48f8-bb0c-68b167b8f7ed"
      },
      "execution_count": null,
      "outputs": [
        {
          "output_type": "execute_result",
          "data": {
            "text/plain": [
              "'cuda'"
            ],
            "application/vnd.google.colaboratory.intrinsic+json": {
              "type": "string"
            }
          },
          "metadata": {},
          "execution_count": 2
        }
      ]
    },
    {
      "cell_type": "code",
      "source": [
        "# count number of GPUS !nvidia-smi\n",
        "\n",
        "torch.cuda.device_count()"
      ],
      "metadata": {
        "colab": {
          "base_uri": "https://localhost:8080/"
        },
        "id": "jYcnrXsCQtwF",
        "outputId": "e9d88f0d-f4b1-4c7f-b84a-4be91a4e1d81"
      },
      "execution_count": null,
      "outputs": [
        {
          "output_type": "execute_result",
          "data": {
            "text/plain": [
              "1"
            ]
          },
          "metadata": {},
          "execution_count": 5
        }
      ]
    },
    {
      "cell_type": "markdown",
      "source": [
        "### 3. Putting tensors (and models) on the GPU\n",
        "\n",
        "The reason we want our tensors/models on the GPU is because using a GPU results in faster computations."
      ],
      "metadata": {
        "id": "WNcw0gZOUpqC"
      }
    },
    {
      "cell_type": "code",
      "source": [
        "# create a tensor (default on the cpu)\n",
        "\n",
        "tensor = torch.tensor([1, 2, 3])\n",
        "\n",
        "# tensor not on GPU \n",
        "print(tensor, tensor.device)"
      ],
      "metadata": {
        "colab": {
          "base_uri": "https://localhost:8080/"
        },
        "id": "Dirn9bIpUqNK",
        "outputId": "b5896f20-1beb-447c-8512-af1c31918e35"
      },
      "execution_count": null,
      "outputs": [
        {
          "output_type": "stream",
          "name": "stdout",
          "text": [
            "tensor([1, 2, 3]) cpu\n"
          ]
        }
      ]
    },
    {
      "cell_type": "code",
      "source": [
        "# move tensor to GPU (if available)\n",
        "\n",
        "tensorOnGpu = tensor.to(device)\n",
        "tensorOnGpu"
      ],
      "metadata": {
        "colab": {
          "base_uri": "https://localhost:8080/"
        },
        "id": "kGHvcZkNUqKT",
        "outputId": "1c358db1-b982-4d45-f515-a8d5a3585774"
      },
      "execution_count": null,
      "outputs": [
        {
          "output_type": "execute_result",
          "data": {
            "text/plain": [
              "tensor([1, 2, 3], device='cuda:0')"
            ]
          },
          "metadata": {},
          "execution_count": 8
        }
      ]
    },
    {
      "cell_type": "markdown",
      "source": [
        "### 4. Moving tensors back to CPU \n",
        "\n",
        "NumPy only works in CPU "
      ],
      "metadata": {
        "id": "70zgBS8OUpm6"
      }
    },
    {
      "cell_type": "code",
      "source": [
        "# to fix GPU tensor with NumPy issue, first set it to CPU\n",
        "tensorOnCpu = tensorOnGpu.cpu().numpy()\n",
        "tensorOnCpu"
      ],
      "metadata": {
        "colab": {
          "base_uri": "https://localhost:8080/"
        },
        "id": "EcFyD-NuQtth",
        "outputId": "836bf72b-2d35-4089-a13c-91312a69dcef"
      },
      "execution_count": null,
      "outputs": [
        {
          "output_type": "execute_result",
          "data": {
            "text/plain": [
              "array([1, 2, 3])"
            ]
          },
          "metadata": {},
          "execution_count": 10
        }
      ]
    },
    {
      "cell_type": "code",
      "source": [
        "tensorOnGpu"
      ],
      "metadata": {
        "colab": {
          "base_uri": "https://localhost:8080/"
        },
        "id": "DxI_L_ibWHkh",
        "outputId": "697d84c0-e4a7-42ca-ca2c-69033b4e9eee"
      },
      "execution_count": null,
      "outputs": [
        {
          "output_type": "execute_result",
          "data": {
            "text/plain": [
              "tensor([1, 2, 3], device='cuda:0')"
            ]
          },
          "metadata": {},
          "execution_count": 11
        }
      ]
    }
  ]
}