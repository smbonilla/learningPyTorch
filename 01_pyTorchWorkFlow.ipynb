{
  "nbformat": 4,
  "nbformat_minor": 0,
  "metadata": {
    "colab": {
      "provenance": [],
      "authorship_tag": "ABX9TyPmhahnwi4ju655YgbXA9Ux",
      "include_colab_link": true
    },
    "kernelspec": {
      "name": "python3",
      "display_name": "Python 3"
    },
    "language_info": {
      "name": "python"
    }
  },
  "cells": [
    {
      "cell_type": "markdown",
      "metadata": {
        "id": "view-in-github",
        "colab_type": "text"
      },
      "source": [
        "<a href=\"https://colab.research.google.com/github/smbonilla/learningPyTorch/blob/main/01_pyTorchWorkFlow.ipynb\" target=\"_parent\"><img src=\"https://colab.research.google.com/assets/colab-badge.svg\" alt=\"Open In Colab\"/></a>"
      ]
    },
    {
      "cell_type": "markdown",
      "source": [
        "# PyTorch Workflow \n",
        "\n",
        "Exploring an example PyTorch end-to-end workflow."
      ],
      "metadata": {
        "id": "zlreoYvTfey3"
      }
    },
    {
      "cell_type": "code",
      "source": [
        "whatWeCover = {1: \"data (prepare and load)\",\n",
        "               2: \"build model\",\n",
        "               3: \"fitting model to data (training)\",\n",
        "               4: \"making predictions and evaluating a model (inference)\",\n",
        "               5: \"save and loading a model\",\n",
        "               6: \"putting it all together\"}\n",
        "\n",
        "whatWeCover"
      ],
      "metadata": {
        "colab": {
          "base_uri": "https://localhost:8080/"
        },
        "id": "_qJHwyf7hF_V",
        "outputId": "74f68631-9403-44f8-d0eb-e2de87789315"
      },
      "execution_count": 48,
      "outputs": [
        {
          "output_type": "execute_result",
          "data": {
            "text/plain": [
              "{1: 'data (prepare and load)',\n",
              " 2: 'build model',\n",
              " 3: 'fitting model to data (training)',\n",
              " 4: 'making predictions and evaluating a model (inference)',\n",
              " 5: 'save and loading a model',\n",
              " 6: 'putting it all together'}"
            ]
          },
          "metadata": {},
          "execution_count": 48
        }
      ]
    },
    {
      "cell_type": "code",
      "source": [
        "import torch \n",
        "from torch import nn # nn contains all of PyTorch's building blocks for neural networks\n",
        "import matplotlib.pyplot as plt \n",
        "\n",
        "# Check PyTorch version\n",
        "torch.__version__"
      ],
      "metadata": {
        "colab": {
          "base_uri": "https://localhost:8080/",
          "height": 35
        },
        "id": "PKbn7wxDho92",
        "outputId": "d775523c-cd82-4d96-cf0d-d1a0f27639bf"
      },
      "execution_count": 49,
      "outputs": [
        {
          "output_type": "execute_result",
          "data": {
            "text/plain": [
              "'1.12.1+cu113'"
            ],
            "application/vnd.google.colaboratory.intrinsic+json": {
              "type": "string"
            }
          },
          "metadata": {},
          "execution_count": 49
        }
      ]
    },
    {
      "cell_type": "markdown",
      "source": [
        "## 1. Data (preparing and loading)\n",
        "\n",
        "data can be almost anything in machine learning. \n",
        "* excel spreadsheet\n",
        "* images of any kind\n",
        "* videos\n",
        "* audio \n",
        "* DNA\n",
        "* text\n",
        "\n",
        "machine learning is a game of two parts: \n",
        "1. get data into numerical representation\n",
        "2. build a model to learn patterns in that numerical representation"
      ],
      "metadata": {
        "id": "j3twnq0JiKwS"
      }
    },
    {
      "cell_type": "code",
      "source": [
        "# create *known* parameters\n",
        "\n",
        "weight = 0.7 # m in linear regression eq\n",
        "bias = 0.3 # b in linear regression eq \n",
        "\n",
        "start = 0 \n",
        "end = 1\n",
        "step = 0.02 \n",
        "\n",
        "# input (need extra dimension for model later)\n",
        "X = torch.arange(start, end, step).unsqueeze(dim = 1)\n",
        "\n",
        "# output \n",
        "y = weight * X + bias "
      ],
      "metadata": {
        "id": "dN5XPhe9iMOw"
      },
      "execution_count": 50,
      "outputs": []
    },
    {
      "cell_type": "markdown",
      "source": [
        "### Splitting data into training and test sets\n",
        "\n",
        "**very** important sets:\n",
        "1. training set (70%) **always**\n",
        "2. validation set - tune model patterns (15%) **often**\n",
        "3. test set - see if the model is ready for the wild (15%) **always**\n",
        "\n",
        "Generalization: the ability for a machine learning model to perform well on data it hasn't seen before."
      ],
      "metadata": {
        "id": "uTUg875_iMLo"
      }
    },
    {
      "cell_type": "code",
      "source": [
        "# splitting training and test \n",
        "\n",
        "trainSplit = int(0.8*len(X))\n",
        "\n",
        "XTrain, yTrain = X[:trainSplit], y[:trainSplit] # not random splitting \n",
        "\n",
        "XTest, yTest = X[trainSplit:], y[trainSplit:] # not random splitting\n",
        "\n",
        "len(XTrain), len(yTrain), len(XTest), len(yTest)"
      ],
      "metadata": {
        "colab": {
          "base_uri": "https://localhost:8080/"
        },
        "id": "aXXTPTzTiMGf",
        "outputId": "a9633b79-e8b8-42c1-96f5-88aa98bb6431"
      },
      "execution_count": 51,
      "outputs": [
        {
          "output_type": "execute_result",
          "data": {
            "text/plain": [
              "(40, 40, 10, 10)"
            ]
          },
          "metadata": {},
          "execution_count": 51
        }
      ]
    },
    {
      "cell_type": "code",
      "source": [
        "# visualize data \n",
        "\n",
        "def plotPredictions(trainData = XTrain,\n",
        "                    trainLabels = yTrain,\n",
        "                    testData=XTest,\n",
        "                    testLabels = yTest, \n",
        "                    predictions = None):\n",
        "  \"\"\"\n",
        "  Plots training data, test data and compares predictions\n",
        "  \"\"\"\n",
        "\n",
        "  plt.figure(figsize=(10,7))\n",
        "\n",
        "  # plot training data in blue\n",
        "  plt.scatter(trainData, trainLabels, c=\"b\", s=4, label=\"TRAINING DATA\")\n",
        "\n",
        "  # plot test data in green \n",
        "  plt.scatter(testData, testLabels, c=\"g\", s=4, label=\"TESTING DATA\")\n",
        "\n",
        "  # are there predictions?\n",
        "  if predictions is not None:\n",
        "    \n",
        "    # plot predictions if exist\n",
        "    plt.scatter(testData, predictions, c=\"r\", s=4, label=\"PREDICTED DATA\")\n",
        "\n",
        "  # show the legend\n",
        "  plt.legend(prop={\"size\": 14})"
      ],
      "metadata": {
        "id": "vMtPbL4DiMDX"
      },
      "execution_count": 52,
      "outputs": []
    },
    {
      "cell_type": "code",
      "source": [
        "plotPredictions()"
      ],
      "metadata": {
        "colab": {
          "base_uri": "https://localhost:8080/",
          "height": 428
        },
        "id": "inniLESAmWjm",
        "outputId": "8b002078-1cbd-46d1-9b5d-246d0e7c1c88"
      },
      "execution_count": 53,
      "outputs": [
        {
          "output_type": "display_data",
          "data": {
            "text/plain": [
              "<Figure size 720x504 with 1 Axes>"
            ],
            "image/png": "[encoded data removed]"
          },
          "metadata": {
            "needs_background": "light"
          }
        }
      ]
    },
    {
      "cell_type": "markdown",
      "source": [
        "## 2. Build model\n",
        "\n",
        "Our first PyTorch model!\n",
        "\n",
        "What our model does:\n",
        "* start with random values for weight & bias\n",
        "* look at training data and adjust the random values to better represent the ideal values\n",
        "\n",
        "How does it do this? \n",
        "- Two main algorithms:\n",
        "  1. gradient descent \n",
        "  2. backpropagation"
      ],
      "metadata": {
        "id": "-PwgTcw4mWgp"
      }
    },
    {
      "cell_type": "code",
      "source": [
        "# create a linear regression model class \n",
        "\n",
        "class LinearRegressionModel(nn.Module): # <- almost everything in PyTorch inherits from nn.module\n",
        "  def __init__(self):\n",
        "    super().__init__()\n",
        "\n",
        "    # Initialize model parameters\n",
        "    self.weights = nn.Parameter(torch.randn(1, # start with a random weight and try to adjust it to ideal weight\n",
        "                                            requires_grad=True, # can this paramter be updated via gradient descent\n",
        "                                            dtype=torch.float)) # PyTorch loves the datatype torch.float32\n",
        "    self.bias = nn.Parameter(torch.randn(1,\n",
        "                                         requires_grad=True,\n",
        "                                         dtype=torch.float))\n",
        "    \n",
        "  # forward method to define the computation in the model \n",
        "  def forward(self, x: torch.Tensor) -> torch.Tensor: # <- \"x\" is the input data\n",
        "    return self.weights*x + self.bias # this is the linear regression formula\n"
      ],
      "metadata": {
        "id": "VDy22wAOmWd0"
      },
      "execution_count": 128,
      "outputs": []
    },
    {
      "cell_type": "markdown",
      "source": [
        "### PyTorch model building essentials\n",
        "\n",
        "* `torch.nn` - contains all of the buildings for computational graphs (a neural network can be considered a computation graph)\n",
        "* `torch.nn.Parameter` - what parameters should our model try and learn, often a PyTorch layer from torch.nn will set these for us\n",
        "* `torch.nn.Module` - the base class for all neural network modules, if you subclass if, you should overwrite forward()\n",
        "* `torch.optim` - where the optimizers in PyTorch live, they will help with gradient descent\n",
        "* `def forward ()` - All `nn.Module` subclasses require you to overwite `forward()` "
      ],
      "metadata": {
        "id": "tZy-wvhXmWa1"
      }
    },
    {
      "cell_type": "markdown",
      "source": [
        "### Checking the contents of our PyTorch model\n",
        "\n",
        "check out our model parameters by using `.parameters()`"
      ],
      "metadata": {
        "id": "Pv3r5aV2pt3B"
      }
    },
    {
      "cell_type": "code",
      "source": [
        "# create a random seed \n",
        "torch.manual_seed(42)\n",
        "\n",
        "# create an instance of the model (this is a subclass of nn.Module)\n",
        "model_0 = LinearRegressionModel()\n",
        "\n",
        "# check our parameters two ways\n",
        "list(model_0.parameters())\n",
        "\n",
        "model_0.state_dict()"
      ],
      "metadata": {
        "colab": {
          "base_uri": "https://localhost:8080/"
        },
        "id": "qc_fHT9upt0C",
        "outputId": "71b6ac63-8cd2-42dd-c1ae-8cb4f118a52a"
      },
      "execution_count": 129,
      "outputs": [
        {
          "output_type": "execute_result",
          "data": {
            "text/plain": [
              "OrderedDict([('weights', tensor([0.3367])), ('bias', tensor([0.1288]))])"
            ]
          },
          "metadata": {},
          "execution_count": 129
        }
      ]
    },
    {
      "cell_type": "markdown",
      "source": [
        "### Making prediction using `torch.inference_mode()`\n",
        "\n",
        "to check our model's predictive power, let's see how well it predicts `yTest` based on `XTest`\n",
        "\n",
        "when we pass data through our model, it's going to run it through `forward()` method"
      ],
      "metadata": {
        "id": "wWgTsTUjptxP"
      }
    },
    {
      "cell_type": "code",
      "source": [
        "# make predictions with model and can do something similar with torch.no_grad()\n",
        "\n",
        "with torch.inference_mode(): # when we are doing inference, we are not training so keeping track of less data - no need to track grad\n",
        "  yPreds = model_0(XTest)\n",
        "\n",
        "yPreds"
      ],
      "metadata": {
        "colab": {
          "base_uri": "https://localhost:8080/"
        },
        "id": "K7bhXRpX3KD2",
        "outputId": "f296eb53-82c9-46fe-a2a4-26c424fa338c"
      },
      "execution_count": 130,
      "outputs": [
        {
          "output_type": "execute_result",
          "data": {
            "text/plain": [
              "tensor([[0.3982],\n",
              "        [0.4049],\n",
              "        [0.4116],\n",
              "        [0.4184],\n",
              "        [0.4251],\n",
              "        [0.4318],\n",
              "        [0.4386],\n",
              "        [0.4453],\n",
              "        [0.4520],\n",
              "        [0.4588]])"
            ]
          },
          "metadata": {},
          "execution_count": 130
        }
      ]
    },
    {
      "cell_type": "code",
      "source": [
        "plotPredictions(predictions=yPreds)"
      ],
      "metadata": {
        "colab": {
          "base_uri": "https://localhost:8080/",
          "height": 428
        },
        "id": "v0nyfTAJ6rIX",
        "outputId": "f39be474-6984-4ca2-dcb8-3a8df51bff64"
      },
      "execution_count": 131,
      "outputs": [
        {
          "output_type": "display_data",
          "data": {
            "text/plain": [
              "<Figure size 720x504 with 1 Axes>"
            ],
            "image/png": "[encoded data removed]"
          },
          "metadata": {
            "needs_background": "light"
          }
        }
      ]
    },
    {
      "cell_type": "markdown",
      "source": [
        "## 3. Train model \n",
        "\n",
        "The idea of training is for this model to move from *random* parameters to our *known* parameters \n",
        "- from a poor representation of the data to a better representation of the data\n",
        "\n",
        "One way to measure how poor the predictions are is to use a loss function.\n",
        "* Note: loss function may also be called cost function or criterion in different areas. for our case, we're going to refer to it as a loss function\n",
        "\n",
        "Things we use to train:\n",
        "* **Loss function:** a function to measure how wrong your model's predictions are to the ideas outputs, lower is better\n",
        "\n",
        "* **Optimizer:** Takes into account the loss of a model and adjusts the model's parameters (e.g. weight & bias) to lower the loss\n",
        "\n",
        "PyTorch, we need:\n",
        "* a training loop\n",
        "* a testing loop"
      ],
      "metadata": {
        "id": "QLARl3v07mtj"
      }
    },
    {
      "cell_type": "code",
      "source": [
        "# Setup a loss function \n",
        "lossFn = nn.L1Loss()\n",
        "\n",
        "# Setup an optimizer (stochastic gradient descent)\n",
        "optimizer = torch.optim.SGD(model_0.parameters(), \n",
        "                            lr = 0.001) # lr = learning rate -> possibly the most important hyperparameter -> change in parameters"
      ],
      "metadata": {
        "id": "qTyBJbFb7mmB"
      },
      "execution_count": 132,
      "outputs": []
    },
    {
      "cell_type": "markdown",
      "source": [
        "### Building a training loop (and a testing loop) in PyTorch\n",
        "\n",
        "what do we need:\n",
        "0. loop through the data\n",
        "1. forward pass (data moving through our model's `forward()`) to make predictions on data\n",
        "2. calculate the loss (compare forward pass predictions to ground truth labels)\n",
        "3. optimize zero grad \n",
        "4. loss backward - move backwards through the network to calculate gradients of each parameter (**backpropagation**)\n",
        "5. optimizer step - use the optimizer to adjust our model's parameters to try and improve loss (**gradient descent**) "
      ],
      "metadata": {
        "id": "VeH1sCT56rEJ"
      }
    },
    {
      "cell_type": "code",
      "source": [
        "torch.manual_seed(42)\n",
        "\n",
        "# an Epoch is one loop through the data (this is a hyperparameter because we have set it ourselves)\n",
        "epochs = 400\n",
        "\n",
        "# Track different values\n",
        "epochCount = [] \n",
        "lossValues = [] # tracking experiments\n",
        "testLossValues = [] \n",
        "\n",
        "### Training \n",
        "\n",
        "# 0. Loop through data\n",
        "for epoch in range(epochs):\n",
        "\n",
        "  # set the model to training mode \n",
        "  model_0.train() # train mode in PyTorch sets all parameters that require gradients to require gradients\n",
        "\n",
        "  # 1. Forward pass\n",
        "  yPred = model_0(XTrain)\n",
        "\n",
        "  # 2. Calculate the loss\n",
        "  loss = lossFn(yPred,yTrain)\n",
        "\n",
        "  # 3. Optimizer zero grad\n",
        "  optimizer.zero_grad() # start fresh so it doesn't accumulate\n",
        "\n",
        "  # 4. Perform backpropagation on the loss with respect to the parameters of the model\n",
        "  loss.backward()\n",
        "\n",
        "  # 5. Step the optimizer (perform gradient descent)\n",
        "  optimizer.step() # by default how the optimizer changes will accumulate through the loop, so we have to zero them above in step 3 for the next iteration\n",
        "\n",
        "  ### Testing\n",
        "  model_0.eval() # turns off different settings in the model not needed for eval/testing (dropout/batch norm layers)\n",
        "\n",
        "  with torch.inference_mode(): # turns off gradient tracking \n",
        "    \n",
        "    # 1. Forward pass \n",
        "    testPred = model_0(XTest)\n",
        "\n",
        "    # 2. calculate the loss\n",
        "    testLoss = lossFn(testPred,yTest)\n",
        "\n",
        "  # print out what's happening\n",
        "  if epoch%10 == 0:\n",
        "    epochCount.append(epoch)\n",
        "    lossValues.append(loss)\n",
        "    testLossValues.append(testLoss)\n",
        "\n",
        "    print(f\"Epoch: {epoch} | Loss: {loss} | Test loss: {testLoss}\")\n",
        "    print(model_0.state_dict())\n"
      ],
      "metadata": {
        "colab": {
          "base_uri": "https://localhost:8080/"
        },
        "id": "9ZaPekaX3J95",
        "outputId": "511f8a2c-4309-430c-f709-2f7e4ddb7a7e"
      },
      "execution_count": 138,
      "outputs": [
        {
          "output_type": "stream",
          "name": "stdout",
          "text": [
            "Epoch: 0 | Loss: 0.003752306802198291 | Test loss: 0.008672690019011497\n",
            "OrderedDict([('weights', tensor([0.6815])), ('bias', tensor([0.3078]))])\n",
            "Epoch: 10 | Loss: 0.0034090480767190456 | Test loss: 0.007913952693343163\n",
            "OrderedDict([('weights', tensor([0.6832])), ('bias', tensor([0.3070]))])\n",
            "Epoch: 20 | Loss: 0.0030657730530947447 | Test loss: 0.007086604833602905\n",
            "OrderedDict([('weights', tensor([0.6849])), ('bias', tensor([0.3063]))])\n",
            "Epoch: 30 | Loss: 0.0027218691539019346 | Test loss: 0.006259244866669178\n",
            "OrderedDict([('weights', tensor([0.6866])), ('bias', tensor([0.3056]))])\n",
            "Epoch: 40 | Loss: 0.0023787864483892918 | Test loss: 0.005500525236129761\n",
            "OrderedDict([('weights', tensor([0.6883])), ('bias', tensor([0.3049]))])\n",
            "Epoch: 50 | Loss: 0.002035337733104825 | Test loss: 0.004673170857131481\n",
            "OrderedDict([('weights', tensor([0.6900])), ('bias', tensor([0.3042]))])\n",
            "Epoch: 60 | Loss: 0.0016914367442950606 | Test loss: 0.0038457990158349276\n",
            "OrderedDict([('weights', tensor([0.6918])), ('bias', tensor([0.3035]))])\n",
            "Epoch: 70 | Loss: 0.0013485297095030546 | Test loss: 0.0030870854388922453\n",
            "OrderedDict([('weights', tensor([0.6935])), ('bias', tensor([0.3027]))])\n",
            "Epoch: 80 | Loss: 0.0010049014817923307 | Test loss: 0.002259713364765048\n",
            "OrderedDict([('weights', tensor([0.6952])), ('bias', tensor([0.3020]))])\n",
            "Epoch: 90 | Loss: 0.0006616368773393333 | Test loss: 0.0014667033683508635\n",
            "OrderedDict([('weights', tensor([0.6969])), ('bias', tensor([0.3013]))])\n",
            "Epoch: 100 | Loss: 0.0003177322505507618 | Test loss: 0.0006393313524313271\n",
            "OrderedDict([('weights', tensor([0.6986])), ('bias', tensor([0.3006]))])\n",
            "Epoch: 110 | Loss: 0.0004444979131221771 | Test loss: 0.0005780101055279374\n",
            "OrderedDict([('weights', tensor([0.6997])), ('bias', tensor([0.3008]))])\n",
            "Epoch: 120 | Loss: 0.0004444979131221771 | Test loss: 0.0005780101055279374\n",
            "OrderedDict([('weights', tensor([0.6997])), ('bias', tensor([0.3008]))])\n",
            "Epoch: 130 | Loss: 0.0004444979131221771 | Test loss: 0.0005780101055279374\n",
            "OrderedDict([('weights', tensor([0.6997])), ('bias', tensor([0.3008]))])\n",
            "Epoch: 140 | Loss: 0.0004444979131221771 | Test loss: 0.0005780101055279374\n",
            "OrderedDict([('weights', tensor([0.6997])), ('bias', tensor([0.3008]))])\n",
            "Epoch: 150 | Loss: 0.0004444979131221771 | Test loss: 0.0005780101055279374\n",
            "OrderedDict([('weights', tensor([0.6997])), ('bias', tensor([0.3008]))])\n",
            "Epoch: 160 | Loss: 0.0004444979131221771 | Test loss: 0.0005780101055279374\n",
            "OrderedDict([('weights', tensor([0.6997])), ('bias', tensor([0.3008]))])\n",
            "Epoch: 170 | Loss: 0.0004444979131221771 | Test loss: 0.0005780101055279374\n",
            "OrderedDict([('weights', tensor([0.6997])), ('bias', tensor([0.3008]))])\n",
            "Epoch: 180 | Loss: 0.0004444979131221771 | Test loss: 0.0005780101055279374\n",
            "OrderedDict([('weights', tensor([0.6997])), ('bias', tensor([0.3008]))])\n",
            "Epoch: 190 | Loss: 0.0004444979131221771 | Test loss: 0.0005780101055279374\n",
            "OrderedDict([('weights', tensor([0.6997])), ('bias', tensor([0.3008]))])\n",
            "Epoch: 200 | Loss: 0.0004444979131221771 | Test loss: 0.0005780101055279374\n",
            "OrderedDict([('weights', tensor([0.6997])), ('bias', tensor([0.3008]))])\n",
            "Epoch: 210 | Loss: 0.0004444979131221771 | Test loss: 0.0005780101055279374\n",
            "OrderedDict([('weights', tensor([0.6997])), ('bias', tensor([0.3008]))])\n",
            "Epoch: 220 | Loss: 0.0004444979131221771 | Test loss: 0.0005780101055279374\n",
            "OrderedDict([('weights', tensor([0.6997])), ('bias', tensor([0.3008]))])\n",
            "Epoch: 230 | Loss: 0.0004444979131221771 | Test loss: 0.0005780101055279374\n",
            "OrderedDict([('weights', tensor([0.6997])), ('bias', tensor([0.3008]))])\n",
            "Epoch: 240 | Loss: 0.0004444979131221771 | Test loss: 0.0005780101055279374\n",
            "OrderedDict([('weights', tensor([0.6997])), ('bias', tensor([0.3008]))])\n",
            "Epoch: 250 | Loss: 0.0004444979131221771 | Test loss: 0.0005780101055279374\n",
            "OrderedDict([('weights', tensor([0.6997])), ('bias', tensor([0.3008]))])\n",
            "Epoch: 260 | Loss: 0.0004444979131221771 | Test loss: 0.0005780101055279374\n",
            "OrderedDict([('weights', tensor([0.6997])), ('bias', tensor([0.3008]))])\n",
            "Epoch: 270 | Loss: 0.0004444979131221771 | Test loss: 0.0005780101055279374\n",
            "OrderedDict([('weights', tensor([0.6997])), ('bias', tensor([0.3008]))])\n",
            "Epoch: 280 | Loss: 0.0004444979131221771 | Test loss: 0.0005780101055279374\n",
            "OrderedDict([('weights', tensor([0.6997])), ('bias', tensor([0.3008]))])\n",
            "Epoch: 290 | Loss: 0.0004444979131221771 | Test loss: 0.0005780101055279374\n",
            "OrderedDict([('weights', tensor([0.6997])), ('bias', tensor([0.3008]))])\n",
            "Epoch: 300 | Loss: 0.0004444979131221771 | Test loss: 0.0005780101055279374\n",
            "OrderedDict([('weights', tensor([0.6997])), ('bias', tensor([0.3008]))])\n",
            "Epoch: 310 | Loss: 0.0004444979131221771 | Test loss: 0.0005780101055279374\n",
            "OrderedDict([('weights', tensor([0.6997])), ('bias', tensor([0.3008]))])\n",
            "Epoch: 320 | Loss: 0.0004444979131221771 | Test loss: 0.0005780101055279374\n",
            "OrderedDict([('weights', tensor([0.6997])), ('bias', tensor([0.3008]))])\n",
            "Epoch: 330 | Loss: 0.0004444979131221771 | Test loss: 0.0005780101055279374\n",
            "OrderedDict([('weights', tensor([0.6997])), ('bias', tensor([0.3008]))])\n",
            "Epoch: 340 | Loss: 0.0004444979131221771 | Test loss: 0.0005780101055279374\n",
            "OrderedDict([('weights', tensor([0.6997])), ('bias', tensor([0.3008]))])\n",
            "Epoch: 350 | Loss: 0.0004444979131221771 | Test loss: 0.0005780101055279374\n",
            "OrderedDict([('weights', tensor([0.6997])), ('bias', tensor([0.3008]))])\n",
            "Epoch: 360 | Loss: 0.0004444979131221771 | Test loss: 0.0005780101055279374\n",
            "OrderedDict([('weights', tensor([0.6997])), ('bias', tensor([0.3008]))])\n",
            "Epoch: 370 | Loss: 0.0004444979131221771 | Test loss: 0.0005780101055279374\n",
            "OrderedDict([('weights', tensor([0.6997])), ('bias', tensor([0.3008]))])\n",
            "Epoch: 380 | Loss: 0.0004444979131221771 | Test loss: 0.0005780101055279374\n",
            "OrderedDict([('weights', tensor([0.6997])), ('bias', tensor([0.3008]))])\n",
            "Epoch: 390 | Loss: 0.0004444979131221771 | Test loss: 0.0005780101055279374\n",
            "OrderedDict([('weights', tensor([0.6997])), ('bias', tensor([0.3008]))])\n"
          ]
        }
      ]
    },
    {
      "cell_type": "code",
      "source": [
        "# Plot the loss curves \n",
        "import numpy as np\n",
        "# np.array(torch.tensor(lossValues))\n",
        "\n",
        "plt.plot(epochCount, np.array(torch.tensor(lossValues)), label=\"TRAIN LOSS\")\n",
        "plt.plot(epochCount, testLossValues, label =\"TEST LOSS\")\n",
        "plt.legend(prop={\"size\":14})"
      ],
      "metadata": {
        "colab": {
          "base_uri": "https://localhost:8080/",
          "height": 282
        },
        "id": "pQ8r4fFyjM6u",
        "outputId": "4bddf4cb-7c3a-4c57-9ce5-b8e95f45f444"
      },
      "execution_count": 139,
      "outputs": [
        {
          "output_type": "execute_result",
          "data": {
            "text/plain": [
              "<matplotlib.legend.Legend at 0x7f47b9b65b10>"
            ]
          },
          "metadata": {},
          "execution_count": 139
        },
        {
          "output_type": "display_data",
          "data": {
            "text/plain": [
              "<Figure size 432x288 with 1 Axes>"
            ],
            "image/png": "[encoded data removed]"
          },
          "metadata": {
            "needs_background": "light"
          }
        }
      ]
    },
    {
      "cell_type": "code",
      "source": [
        "with torch.inference_mode():\n",
        "  yPredsNew = model_0(XTest)\n",
        "  print(model_0.state_dict())"
      ],
      "metadata": {
        "colab": {
          "base_uri": "https://localhost:8080/"
        },
        "id": "_YIek8fdYhOs",
        "outputId": "793e5003-260b-4039-e212-73fdb221059e"
      },
      "execution_count": 140,
      "outputs": [
        {
          "output_type": "stream",
          "name": "stdout",
          "text": [
            "OrderedDict([('weights', tensor([0.6994])), ('bias', tensor([0.2998]))])\n"
          ]
        }
      ]
    },
    {
      "cell_type": "code",
      "source": [
        "plotPredictions(predictions=yPredsNew)"
      ],
      "metadata": {
        "colab": {
          "base_uri": "https://localhost:8080/",
          "height": 428
        },
        "id": "NlnVFBwZdrjI",
        "outputId": "e16216e9-f12c-44bc-c382-a2fff5050b7d"
      },
      "execution_count": 141,
      "outputs": [
        {
          "output_type": "display_data",
          "data": {
            "text/plain": [
              "<Figure size 720x504 with 1 Axes>"
            ],
            "image/png": "[encoded data removed]"
          },
          "metadata": {
            "needs_background": "light"
          }
        }
      ]
    },
    {
      "cell_type": "code",
      "source": [],
      "metadata": {
        "id": "kdByUmZBdrXY"
      },
      "execution_count": null,
      "outputs": []
    },
    {
      "cell_type": "code",
      "source": [],
      "metadata": {
        "id": "RcllwPAdfUE_"
      },
      "execution_count": null,
      "outputs": []
    },
    {
      "cell_type": "code",
      "source": [],
      "metadata": {
        "id": "2W_9FvdufUC6"
      },
      "execution_count": null,
      "outputs": []
    },
    {
      "cell_type": "code",
      "source": [],
      "metadata": {
        "id": "JccBRS4lfT_n"
      },
      "execution_count": null,
      "outputs": []
    }
  ]
}