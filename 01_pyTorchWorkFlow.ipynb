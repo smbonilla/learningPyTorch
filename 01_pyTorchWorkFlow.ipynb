{
  "nbformat": 4,
  "nbformat_minor": 0,
  "metadata": {
    "colab": {
      "provenance": [],
      "authorship_tag": "ABX9TyOD9Yu5w7etfeuUo8sngzKj",
      "include_colab_link": true
    },
    "kernelspec": {
      "name": "python3",
      "display_name": "Python 3"
    },
    "language_info": {
      "name": "python"
    }
  },
  "cells": [
    {
      "cell_type": "markdown",
      "metadata": {
        "id": "view-in-github",
        "colab_type": "text"
      },
      "source": [
        "<a href=\"https://colab.research.google.com/github/smbonilla/learningPyTorch/blob/main/01_pyTorchWorkFlow.ipynb\" target=\"_parent\"><img src=\"https://colab.research.google.com/assets/colab-badge.svg\" alt=\"Open In Colab\"/></a>"
      ]
    },
    {
      "cell_type": "markdown",
      "source": [
        "# PyTorch Workflow \n",
        "\n",
        "Exploring an example PyTorch end-to-end workflow."
      ],
      "metadata": {
        "id": "zlreoYvTfey3"
      }
    },
    {
      "cell_type": "code",
      "source": [
        "whatWeCover = {1: \"data (prepare and load)\",\n",
        "               2: \"build model\",\n",
        "               3: \"fitting model to data (training)\",\n",
        "               4: \"making predictions and evaluating a model (inference)\",\n",
        "               5: \"save and loading a model\",\n",
        "               6: \"putting it all together\"}\n",
        "\n",
        "whatWeCover"
      ],
      "metadata": {
        "colab": {
          "base_uri": "https://localhost:8080/"
        },
        "id": "_qJHwyf7hF_V",
        "outputId": "28ba88f9-e70a-4352-9d32-23b61921c697"
      },
      "execution_count": 1,
      "outputs": [
        {
          "output_type": "execute_result",
          "data": {
            "text/plain": [
              "{1: 'data (prepare and load)',\n",
              " 2: 'build model',\n",
              " 3: 'fitting model to data (training)',\n",
              " 4: 'making predictions and evaluating a model (inference)',\n",
              " 5: 'save and loading a model',\n",
              " 6: 'putting it all together'}"
            ]
          },
          "metadata": {},
          "execution_count": 1
        }
      ]
    },
    {
      "cell_type": "code",
      "source": [
        "import torch \n",
        "from torch import nn # nn contains all of PyTorch's building blocks for neural networks\n",
        "import matplotlib.pyplot as plt \n",
        "\n",
        "# Check PyTorch version\n",
        "torch.__version__"
      ],
      "metadata": {
        "colab": {
          "base_uri": "https://localhost:8080/",
          "height": 35
        },
        "id": "PKbn7wxDho92",
        "outputId": "033da0e8-a9a1-4575-dc72-d8542dc470d5"
      },
      "execution_count": 2,
      "outputs": [
        {
          "output_type": "execute_result",
          "data": {
            "text/plain": [
              "'1.12.1+cu113'"
            ],
            "application/vnd.google.colaboratory.intrinsic+json": {
              "type": "string"
            }
          },
          "metadata": {},
          "execution_count": 2
        }
      ]
    },
    {
      "cell_type": "markdown",
      "source": [
        "## 1. Data (preparing and loading)\n",
        "\n",
        "data can be almost anything in machine learning. \n",
        "* excel spreadsheet\n",
        "* images of any kind\n",
        "* videos\n",
        "* audio \n",
        "* DNA\n",
        "* text\n",
        "\n",
        "machine learning is a game of two parts: \n",
        "1. get data into numerical representation\n",
        "2. build a model to learn patterns in that numerical representation"
      ],
      "metadata": {
        "id": "j3twnq0JiKwS"
      }
    },
    {
      "cell_type": "code",
      "source": [
        "# create *known* parameters\n",
        "\n",
        "weight = 0.7 # m in linear regression eq\n",
        "bias = 0.3 # b in linear regression eq \n",
        "\n",
        "start = 0 \n",
        "end = 1\n",
        "step = 0.02 \n",
        "\n",
        "# input (need extra dimension for model later)\n",
        "X = torch.arange(start, end, step).unsqueeze(dim = 1)\n",
        "\n",
        "# output \n",
        "y = weight * X + bias "
      ],
      "metadata": {
        "id": "dN5XPhe9iMOw"
      },
      "execution_count": 3,
      "outputs": []
    },
    {
      "cell_type": "markdown",
      "source": [
        "### Splitting data into training and test sets\n",
        "\n",
        "**very** important sets:\n",
        "1. training set (70%) **always**\n",
        "2. validation set - tune model patterns (15%) **often**\n",
        "3. test set - see if the model is ready for the wild (15%) **always**\n",
        "\n",
        "Generalization: the ability for a machine learning model to perform well on data it hasn't seen before."
      ],
      "metadata": {
        "id": "uTUg875_iMLo"
      }
    },
    {
      "cell_type": "code",
      "source": [
        "# splitting training and test \n",
        "\n",
        "trainSplit = int(0.8*len(X))\n",
        "\n",
        "XTrain, yTrain = X[:trainSplit], y[:trainSplit] # not random splitting \n",
        "\n",
        "XTest, yTest = X[trainSplit:], y[trainSplit:] # not random splitting\n",
        "\n",
        "len(XTrain), len(yTrain), len(XTest), len(yTest)"
      ],
      "metadata": {
        "colab": {
          "base_uri": "https://localhost:8080/"
        },
        "id": "aXXTPTzTiMGf",
        "outputId": "e6abdf74-4342-4467-df1d-65b0697b175b"
      },
      "execution_count": 4,
      "outputs": [
        {
          "output_type": "execute_result",
          "data": {
            "text/plain": [
              "(40, 40, 10, 10)"
            ]
          },
          "metadata": {},
          "execution_count": 4
        }
      ]
    },
    {
      "cell_type": "code",
      "source": [
        "# visualize data \n",
        "\n",
        "def plotPredictions(trainData = XTrain,\n",
        "                    trainLabels = yTrain,\n",
        "                    testData=XTest,\n",
        "                    testLabels = yTest, \n",
        "                    predictions = None):\n",
        "  \"\"\"\n",
        "  Plots training data, test data and compares predictions\n",
        "  \"\"\"\n",
        "\n",
        "  plt.figure(figsize=(10,7))\n",
        "\n",
        "  # plot training data in blue\n",
        "  plt.scatter(trainData, trainLabels, c=\"b\", s=4, label=\"TRAINING DATA\")\n",
        "\n",
        "  # plot test data in green \n",
        "  plt.scatter(testData, testLabels, c=\"g\", s=4, label=\"TESTING DATA\")\n",
        "\n",
        "  # are there predictions?\n",
        "  if predictions is not None:\n",
        "    \n",
        "    # plot predictions if exist\n",
        "    plt.scatter(testData, predictions, c=\"r\", s=4, label=\"PREDICTED DATA\")\n",
        "\n",
        "  # show the legend\n",
        "  plt.legend(prop={\"size\": 14})"
      ],
      "metadata": {
        "id": "vMtPbL4DiMDX"
      },
      "execution_count": 5,
      "outputs": []
    },
    {
      "cell_type": "code",
      "source": [
        "plotPredictions()"
      ],
      "metadata": {
        "colab": {
          "base_uri": "https://localhost:8080/",
          "height": 428
        },
        "id": "inniLESAmWjm",
        "outputId": "cf9cab32-fe0a-4a72-d6cc-e4ea6d3873ac"
      },
      "execution_count": 6,
      "outputs": [
        {
          "output_type": "display_data",
          "data": {
            "text/plain": [
              "<Figure size 720x504 with 1 Axes>"
            ],
            "image/png": "[encoded data removed]"
          },
          "metadata": {
            "needs_background": "light"
          }
        }
      ]
    },
    {
      "cell_type": "markdown",
      "source": [
        "## 2. Build model\n",
        "\n",
        "Our first PyTorch model!\n",
        "\n",
        "What our model does:\n",
        "* start with random values for weight & bias\n",
        "* look at training data and adjust the random values to better represent the ideal values\n",
        "\n",
        "How does it do this? \n",
        "- Two main algorithms:\n",
        "  1. gradient descent \n",
        "  2. backpropagation"
      ],
      "metadata": {
        "id": "-PwgTcw4mWgp"
      }
    },
    {
      "cell_type": "code",
      "source": [
        "# create a linear regression model class \n",
        "\n",
        "class LinearRegressionModel(nn.Module): # <- almost everything in PyTorch inherits from nn.module\n",
        "  def __init__(self):\n",
        "    super().__init__()\n",
        "\n",
        "    # Initialize model parameters\n",
        "    self.weights = nn.Parameter(torch.randn(1, # start with a random weight and try to adjust it to ideal weight\n",
        "                                            requires_grad=True, # can this paramter be updated via gradient descent\n",
        "                                            dtype=torch.float)) # PyTorch loves the datatype torch.float32\n",
        "    self.bias = nn.Parameter(torch.randn(1,\n",
        "                                         requires_grad=True,\n",
        "                                         dtype=torch.float))\n",
        "    \n",
        "  # forward method to define the computation in the model \n",
        "  def forward(self, x: torch.Tensor) -> torch.Tensor: # <- \"x\" is the input data\n",
        "    return self.weights*x + self.bias # this is the linear regression formula\n"
      ],
      "metadata": {
        "id": "VDy22wAOmWd0"
      },
      "execution_count": 7,
      "outputs": []
    },
    {
      "cell_type": "markdown",
      "source": [
        "### PyTorch model building essentials\n",
        "\n",
        "* `torch.nn` - contains all of the buildings for computational graphs (a neural network can be considered a computation graph)\n",
        "* `torch.nn.Parameter` - what parameters should our model try and learn, often a PyTorch layer from torch.nn will set these for us\n",
        "* `torch.nn.Module` - the base class for all neural network modules, if you subclass if, you should overwrite forward()\n",
        "* `torch.optim` - where the optimizers in PyTorch live, they will help with gradient descent\n",
        "* `def forward ()` - All `nn.Module` subclasses require you to overwite `forward()` "
      ],
      "metadata": {
        "id": "tZy-wvhXmWa1"
      }
    },
    {
      "cell_type": "markdown",
      "source": [
        "### Checking the contents of our PyTorch model\n",
        "\n",
        "check out our model parameters by using `.parameters()`"
      ],
      "metadata": {
        "id": "Pv3r5aV2pt3B"
      }
    },
    {
      "cell_type": "code",
      "source": [
        "# create a random seed \n",
        "torch.manual_seed(42)\n",
        "\n",
        "# create an instance of the model (this is a subclass of nn.Module)\n",
        "model_0 = LinearRegressionModel()\n",
        "\n",
        "# check our parameters two ways\n",
        "list(model_0.parameters())\n",
        "\n",
        "model_0.state_dict()"
      ],
      "metadata": {
        "colab": {
          "base_uri": "https://localhost:8080/"
        },
        "id": "qc_fHT9upt0C",
        "outputId": "9a6f45be-2395-4ce2-bed2-e4e83692eb21"
      },
      "execution_count": 8,
      "outputs": [
        {
          "output_type": "execute_result",
          "data": {
            "text/plain": [
              "OrderedDict([('weights', tensor([0.3367])), ('bias', tensor([0.1288]))])"
            ]
          },
          "metadata": {},
          "execution_count": 8
        }
      ]
    },
    {
      "cell_type": "markdown",
      "source": [
        "### Making prediction using `torch.inference_mode()`\n",
        "\n",
        "to check our model's predictive power, let's see how well it predicts `yTest` based on `XTest`\n",
        "\n",
        "when we pass data through our model, it's going to run it through `forward()` method"
      ],
      "metadata": {
        "id": "wWgTsTUjptxP"
      }
    },
    {
      "cell_type": "code",
      "source": [
        "# make predictions with model and can do something similar with torch.no_grad()\n",
        "\n",
        "with torch.inference_mode(): # when we are doing inference, we are not training so keeping track of less data - no need to track grad\n",
        "  yPreds = model_0(XTest)\n",
        "\n",
        "yPreds"
      ],
      "metadata": {
        "colab": {
          "base_uri": "https://localhost:8080/"
        },
        "id": "K7bhXRpX3KD2",
        "outputId": "5db1f990-0265-473c-e14a-8d54ddab9b7d"
      },
      "execution_count": 9,
      "outputs": [
        {
          "output_type": "execute_result",
          "data": {
            "text/plain": [
              "tensor([[0.3982],\n",
              "        [0.4049],\n",
              "        [0.4116],\n",
              "        [0.4184],\n",
              "        [0.4251],\n",
              "        [0.4318],\n",
              "        [0.4386],\n",
              "        [0.4453],\n",
              "        [0.4520],\n",
              "        [0.4588]])"
            ]
          },
          "metadata": {},
          "execution_count": 9
        }
      ]
    },
    {
      "cell_type": "code",
      "source": [
        "plotPredictions(predictions=yPreds)"
      ],
      "metadata": {
        "colab": {
          "base_uri": "https://localhost:8080/",
          "height": 428
        },
        "id": "v0nyfTAJ6rIX",
        "outputId": "3808aede-a761-4cdc-b2eb-9ba738be815b"
      },
      "execution_count": 10,
      "outputs": [
        {
          "output_type": "display_data",
          "data": {
            "text/plain": [
              "<Figure size 720x504 with 1 Axes>"
            ],
            "image/png": "[encoded data removed]"
          },
          "metadata": {
            "needs_background": "light"
          }
        }
      ]
    },
    {
      "cell_type": "markdown",
      "source": [
        "## 3. Train model \n",
        "\n",
        "The idea of training is for this model to move from *random* parameters to our *known* parameters \n",
        "- from a poor representation of the data to a better representation of the data\n",
        "\n",
        "One way to measure how poor the predictions are is to use a loss function.\n",
        "* Note: loss function may also be called cost function or criterion in different areas. for our case, we're going to refer to it as a loss function\n",
        "\n",
        "Things we use to train:\n",
        "* **Loss function:** a function to measure how wrong your model's predictions are to the ideas outputs, lower is better\n",
        "\n",
        "* **Optimizer:** Takes into account the loss of a model and adjusts the model's parameters (e.g. weight & bias) to lower the loss\n",
        "\n",
        "PyTorch, we need:\n",
        "* a training loop\n",
        "* a testing loop"
      ],
      "metadata": {
        "id": "QLARl3v07mtj"
      }
    },
    {
      "cell_type": "code",
      "source": [
        "# Setup a loss function \n",
        "lossFn = nn.L1Loss()\n",
        "\n",
        "# Setup an optimizer (stochastic gradient descent)\n",
        "optimizer = torch.optim.SGD(model_0.parameters(), \n",
        "                            lr = 0.001) # lr = learning rate -> possibly the most important hyperparameter -> change in parameters"
      ],
      "metadata": {
        "id": "qTyBJbFb7mmB"
      },
      "execution_count": 11,
      "outputs": []
    },
    {
      "cell_type": "markdown",
      "source": [
        "### Building a training loop (and a testing loop) in PyTorch\n",
        "\n",
        "what do we need:\n",
        "0. loop through the data\n",
        "1. forward pass (data moving through our model's `forward()`) to make predictions on data\n",
        "2. calculate the loss (compare forward pass predictions to ground truth labels)\n",
        "3. optimize zero grad \n",
        "4. loss backward - move backwards through the network to calculate gradients of each parameter (**backpropagation**)\n",
        "5. optimizer step - use the optimizer to adjust our model's parameters to try and improve loss (**gradient descent**) "
      ],
      "metadata": {
        "id": "VeH1sCT56rEJ"
      }
    },
    {
      "cell_type": "code",
      "source": [
        "torch.manual_seed(42)\n",
        "\n",
        "# an Epoch is one loop through the data (this is a hyperparameter because we have set it ourselves)\n",
        "epochs = 400\n",
        "\n",
        "# Track different values\n",
        "epochCount = [] \n",
        "lossValues = [] # tracking experiments\n",
        "testLossValues = [] \n",
        "\n",
        "### Training \n",
        "\n",
        "# 0. Loop through data\n",
        "for epoch in range(epochs):\n",
        "\n",
        "  # set the model to training mode \n",
        "  model_0.train() # train mode in PyTorch sets all parameters that require gradients to require gradients\n",
        "\n",
        "  # 1. Forward pass\n",
        "  yPred = model_0(XTrain)\n",
        "\n",
        "  # 2. Calculate the loss\n",
        "  loss = lossFn(yPred,yTrain)\n",
        "\n",
        "  # 3. Optimizer zero grad\n",
        "  optimizer.zero_grad() # start fresh so it doesn't accumulate\n",
        "\n",
        "  # 4. Perform backpropagation on the loss with respect to the parameters of the model\n",
        "  loss.backward()\n",
        "\n",
        "  # 5. Step the optimizer (perform gradient descent)\n",
        "  optimizer.step() # by default how the optimizer changes will accumulate through the loop, so we have to zero them above in step 3 for the next iteration\n",
        "\n",
        "  ### Testing\n",
        "  model_0.eval() # turns off different settings in the model not needed for eval/testing (dropout/batch norm layers)\n",
        "\n",
        "  with torch.inference_mode(): # turns off gradient tracking \n",
        "    \n",
        "    # 1. Forward pass \n",
        "    testPred = model_0(XTest)\n",
        "\n",
        "    # 2. calculate the loss\n",
        "    testLoss = lossFn(testPred,yTest)\n",
        "\n",
        "  # print out what's happening\n",
        "  if epoch%10 == 0:\n",
        "    epochCount.append(epoch)\n",
        "    lossValues.append(loss)\n",
        "    testLossValues.append(testLoss)\n",
        "\n",
        "    print(f\"Epoch: {epoch} | Loss: {loss} | Test loss: {testLoss}\")\n",
        "    print(model_0.state_dict())\n"
      ],
      "metadata": {
        "colab": {
          "base_uri": "https://localhost:8080/"
        },
        "id": "9ZaPekaX3J95",
        "outputId": "cc004440-96f6-45c2-b5ec-55415bcac9f3"
      },
      "execution_count": 12,
      "outputs": [
        {
          "output_type": "stream",
          "name": "stdout",
          "text": [
            "Epoch: 0 | Loss: 0.31288138031959534 | Test loss: 0.4931890368461609\n",
            "OrderedDict([('weights', tensor([0.3371])), ('bias', tensor([0.1298]))])\n",
            "Epoch: 10 | Loss: 0.3013603389263153 | Test loss: 0.4797181189060211\n",
            "OrderedDict([('weights', tensor([0.3410])), ('bias', tensor([0.1398]))])\n",
            "Epoch: 20 | Loss: 0.28983938694000244 | Test loss: 0.4662471413612366\n",
            "OrderedDict([('weights', tensor([0.3449])), ('bias', tensor([0.1498]))])\n",
            "Epoch: 30 | Loss: 0.2783183455467224 | Test loss: 0.4527761936187744\n",
            "OrderedDict([('weights', tensor([0.3488])), ('bias', tensor([0.1598]))])\n",
            "Epoch: 40 | Loss: 0.26679736375808716 | Test loss: 0.43930521607398987\n",
            "OrderedDict([('weights', tensor([0.3527])), ('bias', tensor([0.1698]))])\n",
            "Epoch: 50 | Loss: 0.2552763819694519 | Test loss: 0.4258342385292053\n",
            "OrderedDict([('weights', tensor([0.3566])), ('bias', tensor([0.1798]))])\n",
            "Epoch: 60 | Loss: 0.24375538527965546 | Test loss: 0.41236335039138794\n",
            "OrderedDict([('weights', tensor([0.3605])), ('bias', tensor([0.1898]))])\n",
            "Epoch: 70 | Loss: 0.232234388589859 | Test loss: 0.398892343044281\n",
            "OrderedDict([('weights', tensor([0.3644])), ('bias', tensor([0.1998]))])\n",
            "Epoch: 80 | Loss: 0.22071340680122375 | Test loss: 0.38542139530181885\n",
            "OrderedDict([('weights', tensor([0.3683])), ('bias', tensor([0.2098]))])\n",
            "Epoch: 90 | Loss: 0.2091923952102661 | Test loss: 0.3719504475593567\n",
            "OrderedDict([('weights', tensor([0.3722])), ('bias', tensor([0.2198]))])\n",
            "Epoch: 100 | Loss: 0.19767141342163086 | Test loss: 0.35847947001457214\n",
            "OrderedDict([('weights', tensor([0.3761])), ('bias', tensor([0.2298]))])\n",
            "Epoch: 110 | Loss: 0.18615040183067322 | Test loss: 0.34500852227211\n",
            "OrderedDict([('weights', tensor([0.3800])), ('bias', tensor([0.2398]))])\n",
            "Epoch: 120 | Loss: 0.17462942004203796 | Test loss: 0.33153754472732544\n",
            "OrderedDict([('weights', tensor([0.3839])), ('bias', tensor([0.2498]))])\n",
            "Epoch: 130 | Loss: 0.16310855746269226 | Test loss: 0.3180667459964752\n",
            "OrderedDict([('weights', tensor([0.3878])), ('bias', tensor([0.2598]))])\n",
            "Epoch: 140 | Loss: 0.15158770978450775 | Test loss: 0.304595947265625\n",
            "OrderedDict([('weights', tensor([0.3917])), ('bias', tensor([0.2698]))])\n",
            "Epoch: 150 | Loss: 0.14006686210632324 | Test loss: 0.2911251187324524\n",
            "OrderedDict([('weights', tensor([0.3956])), ('bias', tensor([0.2798]))])\n",
            "Epoch: 160 | Loss: 0.12854602932929993 | Test loss: 0.2776543200016022\n",
            "OrderedDict([('weights', tensor([0.3995])), ('bias', tensor([0.2898]))])\n",
            "Epoch: 170 | Loss: 0.11702518165111542 | Test loss: 0.26418352127075195\n",
            "OrderedDict([('weights', tensor([0.4034])), ('bias', tensor([0.2998]))])\n",
            "Epoch: 180 | Loss: 0.10654274374246597 | Test loss: 0.251315176486969\n",
            "OrderedDict([('weights', tensor([0.4073])), ('bias', tensor([0.3092]))])\n",
            "Epoch: 190 | Loss: 0.09747617691755295 | Test loss: 0.2392154484987259\n",
            "OrderedDict([('weights', tensor([0.4112])), ('bias', tensor([0.3179]))])\n",
            "Epoch: 200 | Loss: 0.08973254263401031 | Test loss: 0.22795839607715607\n",
            "OrderedDict([('weights', tensor([0.4150])), ('bias', tensor([0.3257]))])\n",
            "Epoch: 210 | Loss: 0.08306284993886948 | Test loss: 0.21740305423736572\n",
            "OrderedDict([('weights', tensor([0.4188])), ('bias', tensor([0.3329]))])\n",
            "Epoch: 220 | Loss: 0.07729282230138779 | Test loss: 0.20750825107097626\n",
            "OrderedDict([('weights', tensor([0.4225])), ('bias', tensor([0.3395]))])\n",
            "Epoch: 230 | Loss: 0.07242877781391144 | Test loss: 0.19840054214000702\n",
            "OrderedDict([('weights', tensor([0.4261])), ('bias', tensor([0.3454]))])\n",
            "Epoch: 240 | Loss: 0.06828799843788147 | Test loss: 0.18992407619953156\n",
            "OrderedDict([('weights', tensor([0.4296])), ('bias', tensor([0.3508]))])\n",
            "Epoch: 250 | Loss: 0.06476505100727081 | Test loss: 0.18208928406238556\n",
            "OrderedDict([('weights', tensor([0.4330])), ('bias', tensor([0.3556]))])\n",
            "Epoch: 260 | Loss: 0.06174134090542793 | Test loss: 0.17478716373443604\n",
            "OrderedDict([('weights', tensor([0.4363])), ('bias', tensor([0.3599]))])\n",
            "Epoch: 270 | Loss: 0.05915876477956772 | Test loss: 0.16802480816841125\n",
            "OrderedDict([('weights', tensor([0.4395])), ('bias', tensor([0.3638]))])\n",
            "Epoch: 280 | Loss: 0.0569603331387043 | Test loss: 0.161748006939888\n",
            "OrderedDict([('weights', tensor([0.4426])), ('bias', tensor([0.3673]))])\n",
            "Epoch: 290 | Loss: 0.05514555424451828 | Test loss: 0.15608695149421692\n",
            "OrderedDict([('weights', tensor([0.4456])), ('bias', tensor([0.3703]))])\n",
            "Epoch: 300 | Loss: 0.05357731133699417 | Test loss: 0.15086300671100616\n",
            "OrderedDict([('weights', tensor([0.4485])), ('bias', tensor([0.3730]))])\n",
            "Epoch: 310 | Loss: 0.05218071490526199 | Test loss: 0.14595307409763336\n",
            "OrderedDict([('weights', tensor([0.4513])), ('bias', tensor([0.3754]))])\n",
            "Epoch: 320 | Loss: 0.05105169489979744 | Test loss: 0.1415499746799469\n",
            "OrderedDict([('weights', tensor([0.4540])), ('bias', tensor([0.3774]))])\n",
            "Epoch: 330 | Loss: 0.050030313432216644 | Test loss: 0.1374681293964386\n",
            "OrderedDict([('weights', tensor([0.4567])), ('bias', tensor([0.3791]))])\n",
            "Epoch: 340 | Loss: 0.049160152673721313 | Test loss: 0.13370750844478607\n",
            "OrderedDict([('weights', tensor([0.4592])), ('bias', tensor([0.3806]))])\n",
            "Epoch: 350 | Loss: 0.04836020991206169 | Test loss: 0.13020753860473633\n",
            "OrderedDict([('weights', tensor([0.4617])), ('bias', tensor([0.3819]))])\n",
            "Epoch: 360 | Loss: 0.04769856110215187 | Test loss: 0.12709848582744598\n",
            "OrderedDict([('weights', tensor([0.4640])), ('bias', tensor([0.3829]))])\n",
            "Epoch: 370 | Loss: 0.04703690856695175 | Test loss: 0.12398938834667206\n",
            "OrderedDict([('weights', tensor([0.4664])), ('bias', tensor([0.3839]))])\n",
            "Epoch: 380 | Loss: 0.04650093987584114 | Test loss: 0.12147434055805206\n",
            "OrderedDict([('weights', tensor([0.4686])), ('bias', tensor([0.3845]))])\n",
            "Epoch: 390 | Loss: 0.045996345579624176 | Test loss: 0.11902527511119843\n",
            "OrderedDict([('weights', tensor([0.4708])), ('bias', tensor([0.3850]))])\n"
          ]
        }
      ]
    },
    {
      "cell_type": "code",
      "source": [
        "# Plot the loss curves \n",
        "import numpy as np\n",
        "# np.array(torch.tensor(lossValues))\n",
        "\n",
        "plt.plot(epochCount, np.array(torch.tensor(lossValues)), label=\"TRAIN LOSS\")\n",
        "plt.plot(epochCount, testLossValues, label =\"TEST LOSS\")\n",
        "plt.legend(prop={\"size\":14})"
      ],
      "metadata": {
        "colab": {
          "base_uri": "https://localhost:8080/",
          "height": 282
        },
        "id": "pQ8r4fFyjM6u",
        "outputId": "4728dd64-d850-42b5-e2ee-fcbbf967eeb9"
      },
      "execution_count": 13,
      "outputs": [
        {
          "output_type": "execute_result",
          "data": {
            "text/plain": [
              "<matplotlib.legend.Legend at 0x7f569989a100>"
            ]
          },
          "metadata": {},
          "execution_count": 13
        },
        {
          "output_type": "display_data",
          "data": {
            "text/plain": [
              "<Figure size 432x288 with 1 Axes>"
            ],
            "image/png": "[encoded data removed]"
          },
          "metadata": {
            "needs_background": "light"
          }
        }
      ]
    },
    {
      "cell_type": "code",
      "source": [
        "with torch.inference_mode():\n",
        "  yPredsNew = model_0(XTest)\n",
        "  print(model_0.state_dict())"
      ],
      "metadata": {
        "colab": {
          "base_uri": "https://localhost:8080/"
        },
        "id": "_YIek8fdYhOs",
        "outputId": "d523a626-400b-4eea-c285-96a8408ac3b2"
      },
      "execution_count": 14,
      "outputs": [
        {
          "output_type": "stream",
          "name": "stdout",
          "text": [
            "OrderedDict([('weights', tensor([0.4728])), ('bias', tensor([0.3854]))])\n"
          ]
        }
      ]
    },
    {
      "cell_type": "code",
      "source": [
        "plotPredictions(predictions=yPredsNew)"
      ],
      "metadata": {
        "colab": {
          "base_uri": "https://localhost:8080/",
          "height": 428
        },
        "id": "NlnVFBwZdrjI",
        "outputId": "2551a031-8b4d-4455-d9cf-2c8fc0ef6260"
      },
      "execution_count": 15,
      "outputs": [
        {
          "output_type": "display_data",
          "data": {
            "text/plain": [
              "<Figure size 720x504 with 1 Axes>"
            ],
            "image/png": "[encoded data removed]"
          },
          "metadata": {
            "needs_background": "light"
          }
        }
      ]
    },
    {
      "cell_type": "markdown",
      "source": [
        "## Saving a model in PyTorch \n",
        "\n",
        "There are three main methods for saving and loading models in PyTorch:\n",
        "1. `torch.save()` - save a PyTorch object in Python's pickle format\n",
        "2. `torch.load()` - load a saved PyTorch object\n",
        "3. `torch.nn.Module.load_state_dict()` - load a model's save state dictionary "
      ],
      "metadata": {
        "id": "kdByUmZBdrXY"
      }
    },
    {
      "cell_type": "code",
      "source": [
        "# Saving our PyTorch model \n",
        "from pathlib import Path \n",
        "\n",
        "# 1. Create models directory \n",
        "MODEL_PATH = Path(\"models\")\n",
        "MODEL_PATH.mkdir(parents=True, exist_ok=True)\n",
        "\n",
        "# 2. Create model save path either .pt or .pth\n",
        "MODEL_NAME = \"01_pyTorchWorkFlow_model_0.pth\"\n",
        "MODEL_SAVE_PATH = MODEL_PATH / MODEL_NAME \n",
        "\n",
        "MODEL_SAVE_PATH"
      ],
      "metadata": {
        "id": "RcllwPAdfUE_",
        "colab": {
          "base_uri": "https://localhost:8080/"
        },
        "outputId": "4f78699d-a8e0-4152-e169-cb7838c01ca6"
      },
      "execution_count": 17,
      "outputs": [
        {
          "output_type": "execute_result",
          "data": {
            "text/plain": [
              "PosixPath('models/01_pyTorchWorkFlow_model_0.pth')"
            ]
          },
          "metadata": {},
          "execution_count": 17
        }
      ]
    },
    {
      "cell_type": "code",
      "source": [
        "# 3. Save the model state dict\n",
        "print(f\"Saving model to: {MODEL_SAVE_PATH}\")\n",
        "torch.save(obj=model_0.state_dict(), \n",
        "           f=MODEL_SAVE_PATH)"
      ],
      "metadata": {
        "id": "2W_9FvdufUC6",
        "colab": {
          "base_uri": "https://localhost:8080/"
        },
        "outputId": "cbe55258-ba3f-4e1d-c07c-30c5d855120c"
      },
      "execution_count": 18,
      "outputs": [
        {
          "output_type": "stream",
          "name": "stdout",
          "text": [
            "Saving model to: models/01_pyTorchWorkFlow_model_0.pth\n"
          ]
        }
      ]
    },
    {
      "cell_type": "code",
      "source": [
        "!ls -l models"
      ],
      "metadata": {
        "id": "JccBRS4lfT_n",
        "colab": {
          "base_uri": "https://localhost:8080/"
        },
        "outputId": "6da49d20-77c0-4317-9a6c-596a8dceeed8"
      },
      "execution_count": 20,
      "outputs": [
        {
          "output_type": "stream",
          "name": "stdout",
          "text": [
            "total 4\n",
            "-rw-r--r-- 1 root root 1063 Dec  1 12:22 01_pyTorchWorkFlow_model_0.pth\n"
          ]
        }
      ]
    },
    {
      "cell_type": "code",
      "source": [
        "# 4. Load PyTorch parameters - only saved `state_dict()` so need to instantiate a new instance of model class\n",
        "loaded_model_0 = LinearRegressionModel()\n",
        "\n",
        "# load saved state_dict or model_0 (this will update the new instance with updated parameters)\n",
        "loaded_model_0.load_state_dict(torch.load(f=MODEL_SAVE_PATH))\n",
        "\n",
        "loaded_model_0.state_dict()"
      ],
      "metadata": {
        "colab": {
          "base_uri": "https://localhost:8080/"
        },
        "id": "lIgUFUo5pFmp",
        "outputId": "61be1e5e-c7f9-4e6f-a87a-836cadbc7a3d"
      },
      "execution_count": 22,
      "outputs": [
        {
          "output_type": "execute_result",
          "data": {
            "text/plain": [
              "OrderedDict([('weights', tensor([0.4728])), ('bias', tensor([0.3854]))])"
            ]
          },
          "metadata": {},
          "execution_count": 22
        }
      ]
    },
    {
      "cell_type": "code",
      "source": [
        "# Testing loaded model: make some predictions\n",
        "loaded_model_0.eval() \n",
        "\n",
        "with torch.inference_mode():\n",
        "  loadedModelPreds = loaded_model_0(XTest)\n",
        "\n",
        "# old model\n",
        "model_0.eval()\n",
        "\n",
        "with torch.inference_mode():\n",
        "  yPreds = model_0(XTest)\n",
        "\n",
        "# checking\n",
        "loadedModelPreds == yPreds"
      ],
      "metadata": {
        "colab": {
          "base_uri": "https://localhost:8080/"
        },
        "id": "BFsnD9R5pIWG",
        "outputId": "78e875c8-8854-4e88-bde6-84d5fdea8593"
      },
      "execution_count": 24,
      "outputs": [
        {
          "output_type": "execute_result",
          "data": {
            "text/plain": [
              "tensor([[True],\n",
              "        [True],\n",
              "        [True],\n",
              "        [True],\n",
              "        [True],\n",
              "        [True],\n",
              "        [True],\n",
              "        [True],\n",
              "        [True],\n",
              "        [True]])"
            ]
          },
          "metadata": {},
          "execution_count": 24
        }
      ]
    },
    {
      "cell_type": "markdown",
      "source": [
        "# 6. Putting it all together \n",
        "\n",
        "coding it all in one place"
      ],
      "metadata": {
        "id": "PlSH0m37pITj"
      }
    },
    {
      "cell_type": "code",
      "source": [
        "# Import PyTorch and matplotlib \n",
        "import torch\n",
        "from torch import nn\n",
        "import matplotlib.pyplot as plt\n",
        "\n",
        "# check pytorch version \n",
        "torch.__version__"
      ],
      "metadata": {
        "colab": {
          "base_uri": "https://localhost:8080/",
          "height": 35
        },
        "id": "UrUfJt1TpIQs",
        "outputId": "bd8141e3-c219-41f3-e872-ecb6e17217ff"
      },
      "execution_count": 26,
      "outputs": [
        {
          "output_type": "execute_result",
          "data": {
            "text/plain": [
              "'1.12.1+cu113'"
            ],
            "application/vnd.google.colaboratory.intrinsic+json": {
              "type": "string"
            }
          },
          "metadata": {},
          "execution_count": 26
        }
      ]
    },
    {
      "cell_type": "code",
      "source": [
        "# setup device agnostic code \n",
        "device = \"cuda\" if torch.cuda.is_available() else \"cpu\"\n",
        "print(f\"Using device: {device}\")"
      ],
      "metadata": {
        "colab": {
          "base_uri": "https://localhost:8080/"
        },
        "id": "EfuIYvinpH6a",
        "outputId": "10e92cb4-3326-4036-aaeb-7fd112eb053b"
      },
      "execution_count": 28,
      "outputs": [
        {
          "output_type": "stream",
          "name": "stdout",
          "text": [
            "Using device: cpu\n"
          ]
        }
      ]
    },
    {
      "cell_type": "code",
      "source": [
        "# create dummy data set - y = weight * X + bias\n",
        "weight = 0.7\n",
        "bias = 0.3 \n",
        "\n",
        "# create range values \n",
        "start = 0 \n",
        "end = 1 \n",
        "step = 0.02 \n",
        "\n",
        "# create X and y (features and labels)\n",
        "X = torch.arange(start, end, step).unsqueeze(dim=1) # without unsqueeze, errors will pop up\n",
        "y = weight * X + bias \n",
        "\n",
        "# split data in training and test\n",
        "trainSplit = int(0.8*len(X))\n",
        "XTrain, yTrain = X[:trainSplit], y[:trainSplit]\n",
        "XTest, yTest = X[trainSplit:], y[trainSplit:]"
      ],
      "metadata": {
        "id": "0lIfTkxbpH3q"
      },
      "execution_count": 31,
      "outputs": []
    },
    {
      "cell_type": "code",
      "source": [
        "# Plot the data - note: using plotPredictions()\n",
        "plotPredictions(XTrain, yTrain, XTest, yTest)"
      ],
      "metadata": {
        "colab": {
          "base_uri": "https://localhost:8080/",
          "height": 428
        },
        "id": "suoZTQ22pH00",
        "outputId": "91585aa5-4d37-4eb4-e779-7211d5524724"
      },
      "execution_count": 32,
      "outputs": [
        {
          "output_type": "display_data",
          "data": {
            "text/plain": [
              "<Figure size 720x504 with 1 Axes>"
            ],
            "image/png": "[encoded data removed]"
          },
          "metadata": {
            "needs_background": "light"
          }
        }
      ]
    },
    {
      "cell_type": "code",
      "source": [
        "# build PyTorch linear model by subclassing nn.Module\n",
        "class LinearRegressionModelV2(nn.Module):\n",
        "  def __init__(self):\n",
        "    super().__init__()\n",
        "\n",
        "    # Use nn.Linear() for creating model parameters / aka: linear transform, probing layer, fully connected layer, dense layer\n",
        "    self.linearLayer = nn.Linear(in_features=1, # one value of x\n",
        "                                 out_features=1) # one value of y\n",
        "\n",
        "  def forward(self, x:torch.Tensor) -> torch.Tensor: # x should be a torch.Tensor and it should return torch.Tensor\n",
        "    return self.linearLayer(x)\n",
        "\n",
        "# Set the manual seed\n",
        "torch.manual_seed(42)\n",
        "\n",
        "model_1 = LinearRegressionModelV2()\n",
        "model_1, model_1.state_dict() # values will be different because diff form of randomnness\n"
      ],
      "metadata": {
        "colab": {
          "base_uri": "https://localhost:8080/"
        },
        "id": "i7IL2umJtws9",
        "outputId": "b892a2c9-4360-4b0d-d173-01fd97ff36c2"
      },
      "execution_count": 37,
      "outputs": [
        {
          "output_type": "execute_result",
          "data": {
            "text/plain": [
              "(LinearRegressionModelV2(\n",
              "   (linearLayer): Linear(in_features=1, out_features=1, bias=True)\n",
              " ),\n",
              " OrderedDict([('linearLayer.weight', tensor([[0.7645]])),\n",
              "              ('linearLayer.bias', tensor([0.8300]))]))"
            ]
          },
          "metadata": {},
          "execution_count": 37
        }
      ]
    },
    {
      "cell_type": "code",
      "source": [
        "# set model to use the target device \n",
        "model_1.to(device)\n",
        "next(model_1.parameters()).device"
      ],
      "metadata": {
        "colab": {
          "base_uri": "https://localhost:8080/"
        },
        "id": "LwDVNV4jwLiI",
        "outputId": "b67e37e7-ce0c-4272-93ee-555691047955"
      },
      "execution_count": 38,
      "outputs": [
        {
          "output_type": "execute_result",
          "data": {
            "text/plain": [
              "device(type='cpu')"
            ]
          },
          "metadata": {},
          "execution_count": 38
        }
      ]
    },
    {
      "cell_type": "code",
      "source": [
        "# training \n",
        "\n",
        "# loss function\n",
        "lossFn = nn.L1Loss() # same as MAE\n",
        "\n",
        "# optimizer\n",
        "optimizer = torch.optim.SGD(params=model_1.parameters(), \n",
        "                            lr=0.01)\n",
        "\n",
        "# training loop\n",
        "torch.manual_seed(42)\n",
        "\n",
        "epochs = 200\n",
        "\n",
        "# device agnostic code for data\n",
        "XTrain = XTrain.to(device)\n",
        "yTrain = yTrain.to(device)\n",
        "XTest = XTest.to(device)\n",
        "yTest = yTest.to(device)\n",
        "\n",
        "for epoch in range(epochs):\n",
        "\n",
        "  # train\n",
        "  model_1.train()\n",
        "\n",
        "  # 1. forward pass\n",
        "  yPred = model_1(XTrain)\n",
        "\n",
        "  # 2. Calculate the loss\n",
        "  loss = lossFn(yPred, yTrain)\n",
        "\n",
        "  # 3. optimizer 0 grad\n",
        "  optimizer.zero_grad()\n",
        "\n",
        "  # 4. perform backpropagation \n",
        "  loss.backward()\n",
        "\n",
        "  # 5. optimizer step \n",
        "  optimizer.step()\n",
        "\n",
        "  # testing loop\n",
        "\n",
        "  # eval\n",
        "  model_1.eval()\n",
        "\n",
        "  with torch.inference_mode():\n",
        "    testPred = model_1(XTest)\n",
        "\n",
        "    testLoss = lossFn(testPred, yTest)\n",
        "\n",
        "  # print stuff out \n",
        "  if epoch % 10 == 0:\n",
        "    print(f\"Epoch: {epoch} | Loss: {loss} | Test Loss: {testLoss}\")"
      ],
      "metadata": {
        "colab": {
          "base_uri": "https://localhost:8080/"
        },
        "id": "Z6LI0qr0wYNY",
        "outputId": "6f753e02-d423-4428-988b-9bddd35737c8"
      },
      "execution_count": 39,
      "outputs": [
        {
          "output_type": "stream",
          "name": "stdout",
          "text": [
            "Epoch: 0 | Loss: 0.5551779866218567 | Test Loss: 0.5739762187004089\n",
            "Epoch: 10 | Loss: 0.4399680495262146 | Test Loss: 0.4392663538455963\n",
            "Epoch: 20 | Loss: 0.3247582018375397 | Test Loss: 0.30455657839775085\n",
            "Epoch: 30 | Loss: 0.20954827964305878 | Test Loss: 0.16984674334526062\n",
            "Epoch: 40 | Loss: 0.09433844685554504 | Test Loss: 0.03513689711689949\n",
            "Epoch: 50 | Loss: 0.023886386305093765 | Test Loss: 0.04784906655550003\n",
            "Epoch: 60 | Loss: 0.0199567973613739 | Test Loss: 0.04580312222242355\n",
            "Epoch: 70 | Loss: 0.016517987474799156 | Test Loss: 0.0375305712223053\n",
            "Epoch: 80 | Loss: 0.013089170679450035 | Test Loss: 0.029944902285933495\n",
            "Epoch: 90 | Loss: 0.009653178043663502 | Test Loss: 0.02167237363755703\n",
            "Epoch: 100 | Loss: 0.006215679459273815 | Test Loss: 0.014086711220443249\n",
            "Epoch: 110 | Loss: 0.002787243574857712 | Test Loss: 0.005814164876937866\n",
            "Epoch: 120 | Loss: 0.0012645035749301314 | Test Loss: 0.013801807537674904\n",
            "Epoch: 130 | Loss: 0.0012645035749301314 | Test Loss: 0.013801807537674904\n",
            "Epoch: 140 | Loss: 0.0012645035749301314 | Test Loss: 0.013801807537674904\n",
            "Epoch: 150 | Loss: 0.0012645035749301314 | Test Loss: 0.013801807537674904\n",
            "Epoch: 160 | Loss: 0.0012645035749301314 | Test Loss: 0.013801807537674904\n",
            "Epoch: 170 | Loss: 0.0012645035749301314 | Test Loss: 0.013801807537674904\n",
            "Epoch: 180 | Loss: 0.0012645035749301314 | Test Loss: 0.013801807537674904\n",
            "Epoch: 190 | Loss: 0.0012645035749301314 | Test Loss: 0.013801807537674904\n"
          ]
        }
      ]
    },
    {
      "cell_type": "code",
      "source": [
        "# visualize!! \n",
        "\n",
        "plotPredictions(predictions=testPred)\n",
        "\n",
        "print(f\"Model state_dict(): {model_1.state_dict()}\")"
      ],
      "metadata": {
        "colab": {
          "base_uri": "https://localhost:8080/",
          "height": 445
        },
        "id": "O3CWTHAHwYLV",
        "outputId": "ed1805c7-be7d-41c8-d1b0-6c7150235d6c"
      },
      "execution_count": 43,
      "outputs": [
        {
          "output_type": "stream",
          "name": "stdout",
          "text": [
            "Model state_dict(): OrderedDict([('linearLayer.weight', tensor([[0.6968]])), ('linearLayer.bias', tensor([0.3025]))])\n"
          ]
        },
        {
          "output_type": "display_data",
          "data": {
            "text/plain": [
              "<Figure size 720x504 with 1 Axes>"
            ],
            "image/png": "[encoded data removed]"
          },
          "metadata": {
            "needs_background": "light"
          }
        }
      ]
    },
    {
      "cell_type": "code",
      "source": [],
      "metadata": {
        "id": "alFIivNMwYHz"
      },
      "execution_count": null,
      "outputs": []
    }
  ]
}